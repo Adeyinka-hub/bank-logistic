{
 "cells": [
  {
   "cell_type": "code",
   "execution_count": 929,
   "metadata": {},
   "outputs": [],
   "source": [
    "%matplotlib inline\n",
    "\n",
    "import pandas as pd\n",
    "from IPython.display import display\n",
    "pd.options.display.max_columns = None\n",
    "import gc\n",
    "import matplotlib.pyplot as plt\n",
    "import seaborn as sb\n",
    "from fastai.imports import *\n",
    "# from fastai.structured import *\n",
    "from pandas_summary import DataFrameSummary\n",
    "from sklearn.ensemble import RandomForestRegressor, RandomForestClassifier\n",
    "from IPython.display import display\n",
    "from sklearn import metrics\n",
    "import missingno as msno\n",
    "from sklearn.model_selection import train_test_split\n",
    "import statistics\n",
    "from imblearn.over_sampling import SMOTE"
   ]
  },
  {
   "cell_type": "code",
   "execution_count": 930,
   "metadata": {},
   "outputs": [],
   "source": [
    "df = pd.read_csv('bank-marketing/bank-additional-full.csv', sep=';')\n",
    "# df['id'] = df.index + 1"
   ]
  },
  {
   "cell_type": "code",
   "execution_count": 931,
   "metadata": {},
   "outputs": [
    {
     "data": {
      "text/html": [
       "<div>\n",
       "<style scoped>\n",
       "    .dataframe tbody tr th:only-of-type {\n",
       "        vertical-align: middle;\n",
       "    }\n",
       "\n",
       "    .dataframe tbody tr th {\n",
       "        vertical-align: top;\n",
       "    }\n",
       "\n",
       "    .dataframe thead th {\n",
       "        text-align: right;\n",
       "    }\n",
       "</style>\n",
       "<table border=\"1\" class=\"dataframe\">\n",
       "  <thead>\n",
       "    <tr style=\"text-align: right;\">\n",
       "      <th></th>\n",
       "      <th>age</th>\n",
       "      <th>job</th>\n",
       "      <th>marital</th>\n",
       "      <th>education</th>\n",
       "      <th>default</th>\n",
       "      <th>housing</th>\n",
       "      <th>loan</th>\n",
       "      <th>contact</th>\n",
       "      <th>month</th>\n",
       "      <th>day_of_week</th>\n",
       "      <th>duration</th>\n",
       "      <th>campaign</th>\n",
       "      <th>pdays</th>\n",
       "      <th>previous</th>\n",
       "      <th>poutcome</th>\n",
       "      <th>emp.var.rate</th>\n",
       "      <th>cons.price.idx</th>\n",
       "      <th>cons.conf.idx</th>\n",
       "      <th>euribor3m</th>\n",
       "      <th>nr.employed</th>\n",
       "      <th>y</th>\n",
       "    </tr>\n",
       "  </thead>\n",
       "  <tbody>\n",
       "    <tr>\n",
       "      <th>0</th>\n",
       "      <td>56</td>\n",
       "      <td>housemaid</td>\n",
       "      <td>married</td>\n",
       "      <td>basic.4y</td>\n",
       "      <td>no</td>\n",
       "      <td>no</td>\n",
       "      <td>no</td>\n",
       "      <td>telephone</td>\n",
       "      <td>may</td>\n",
       "      <td>mon</td>\n",
       "      <td>261</td>\n",
       "      <td>1</td>\n",
       "      <td>999</td>\n",
       "      <td>0</td>\n",
       "      <td>nonexistent</td>\n",
       "      <td>1.1</td>\n",
       "      <td>93.994</td>\n",
       "      <td>-36.4</td>\n",
       "      <td>4.857</td>\n",
       "      <td>5191.0</td>\n",
       "      <td>no</td>\n",
       "    </tr>\n",
       "    <tr>\n",
       "      <th>1</th>\n",
       "      <td>57</td>\n",
       "      <td>services</td>\n",
       "      <td>married</td>\n",
       "      <td>high.school</td>\n",
       "      <td>unknown</td>\n",
       "      <td>no</td>\n",
       "      <td>no</td>\n",
       "      <td>telephone</td>\n",
       "      <td>may</td>\n",
       "      <td>mon</td>\n",
       "      <td>149</td>\n",
       "      <td>1</td>\n",
       "      <td>999</td>\n",
       "      <td>0</td>\n",
       "      <td>nonexistent</td>\n",
       "      <td>1.1</td>\n",
       "      <td>93.994</td>\n",
       "      <td>-36.4</td>\n",
       "      <td>4.857</td>\n",
       "      <td>5191.0</td>\n",
       "      <td>no</td>\n",
       "    </tr>\n",
       "    <tr>\n",
       "      <th>2</th>\n",
       "      <td>37</td>\n",
       "      <td>services</td>\n",
       "      <td>married</td>\n",
       "      <td>high.school</td>\n",
       "      <td>no</td>\n",
       "      <td>yes</td>\n",
       "      <td>no</td>\n",
       "      <td>telephone</td>\n",
       "      <td>may</td>\n",
       "      <td>mon</td>\n",
       "      <td>226</td>\n",
       "      <td>1</td>\n",
       "      <td>999</td>\n",
       "      <td>0</td>\n",
       "      <td>nonexistent</td>\n",
       "      <td>1.1</td>\n",
       "      <td>93.994</td>\n",
       "      <td>-36.4</td>\n",
       "      <td>4.857</td>\n",
       "      <td>5191.0</td>\n",
       "      <td>no</td>\n",
       "    </tr>\n",
       "    <tr>\n",
       "      <th>3</th>\n",
       "      <td>40</td>\n",
       "      <td>admin.</td>\n",
       "      <td>married</td>\n",
       "      <td>basic.6y</td>\n",
       "      <td>no</td>\n",
       "      <td>no</td>\n",
       "      <td>no</td>\n",
       "      <td>telephone</td>\n",
       "      <td>may</td>\n",
       "      <td>mon</td>\n",
       "      <td>151</td>\n",
       "      <td>1</td>\n",
       "      <td>999</td>\n",
       "      <td>0</td>\n",
       "      <td>nonexistent</td>\n",
       "      <td>1.1</td>\n",
       "      <td>93.994</td>\n",
       "      <td>-36.4</td>\n",
       "      <td>4.857</td>\n",
       "      <td>5191.0</td>\n",
       "      <td>no</td>\n",
       "    </tr>\n",
       "    <tr>\n",
       "      <th>4</th>\n",
       "      <td>56</td>\n",
       "      <td>services</td>\n",
       "      <td>married</td>\n",
       "      <td>high.school</td>\n",
       "      <td>no</td>\n",
       "      <td>no</td>\n",
       "      <td>yes</td>\n",
       "      <td>telephone</td>\n",
       "      <td>may</td>\n",
       "      <td>mon</td>\n",
       "      <td>307</td>\n",
       "      <td>1</td>\n",
       "      <td>999</td>\n",
       "      <td>0</td>\n",
       "      <td>nonexistent</td>\n",
       "      <td>1.1</td>\n",
       "      <td>93.994</td>\n",
       "      <td>-36.4</td>\n",
       "      <td>4.857</td>\n",
       "      <td>5191.0</td>\n",
       "      <td>no</td>\n",
       "    </tr>\n",
       "  </tbody>\n",
       "</table>\n",
       "</div>"
      ],
      "text/plain": [
       "   age        job  marital    education  default housing loan    contact  \\\n",
       "0   56  housemaid  married     basic.4y       no      no   no  telephone   \n",
       "1   57   services  married  high.school  unknown      no   no  telephone   \n",
       "2   37   services  married  high.school       no     yes   no  telephone   \n",
       "3   40     admin.  married     basic.6y       no      no   no  telephone   \n",
       "4   56   services  married  high.school       no      no  yes  telephone   \n",
       "\n",
       "  month day_of_week  duration  campaign  pdays  previous     poutcome  \\\n",
       "0   may         mon       261         1    999         0  nonexistent   \n",
       "1   may         mon       149         1    999         0  nonexistent   \n",
       "2   may         mon       226         1    999         0  nonexistent   \n",
       "3   may         mon       151         1    999         0  nonexistent   \n",
       "4   may         mon       307         1    999         0  nonexistent   \n",
       "\n",
       "   emp.var.rate  cons.price.idx  cons.conf.idx  euribor3m  nr.employed   y  \n",
       "0           1.1          93.994          -36.4      4.857       5191.0  no  \n",
       "1           1.1          93.994          -36.4      4.857       5191.0  no  \n",
       "2           1.1          93.994          -36.4      4.857       5191.0  no  \n",
       "3           1.1          93.994          -36.4      4.857       5191.0  no  \n",
       "4           1.1          93.994          -36.4      4.857       5191.0  no  "
      ]
     },
     "execution_count": 931,
     "metadata": {},
     "output_type": "execute_result"
    }
   ],
   "source": [
    "df.head()"
   ]
  },
  {
   "cell_type": "code",
   "execution_count": 932,
   "metadata": {},
   "outputs": [
    {
     "data": {
      "text/plain": [
       "(41188, 21)"
      ]
     },
     "execution_count": 932,
     "metadata": {},
     "output_type": "execute_result"
    }
   ],
   "source": [
    "df.shape"
   ]
  },
  {
   "cell_type": "code",
   "execution_count": 933,
   "metadata": {},
   "outputs": [
    {
     "data": {
      "text/plain": [
       "<matplotlib.axes._subplots.AxesSubplot at 0x1c6c11df28>"
      ]
     },
     "execution_count": 933,
     "metadata": {},
     "output_type": "execute_result"
    },
    {
     "data": {
      "image/png": "[encoded data removed]",
      "text/plain": [
       "<Figure size 1728x720 with 3 Axes>"
      ]
     },
     "metadata": {
      "needs_background": "light"
     },
     "output_type": "display_data"
    }
   ],
   "source": [
    "msno.bar(df)"
   ]
  },
  {
   "cell_type": "code",
   "execution_count": 934,
   "metadata": {},
   "outputs": [
    {
     "data": {
      "text/plain": [
       "((41188, 20), (41188,))"
      ]
     },
     "execution_count": 934,
     "metadata": {},
     "output_type": "execute_result"
    }
   ],
   "source": [
    "# Split into predictor and response dataframes.\n",
    "\n",
    "X_df = df.drop('y', axis=1)\n",
    "y = df['y']\n",
    "\n",
    "X_df.shape,y.shape"
   ]
  },
  {
   "cell_type": "code",
   "execution_count": 935,
   "metadata": {},
   "outputs": [],
   "source": [
    "# Map response variable to integers 0,1.\n",
    "\n",
    "y = pd.Series(np.where(y.values == 'yes',1,0), y.index)"
   ]
  },
  {
   "cell_type": "code",
   "execution_count": 936,
   "metadata": {},
   "outputs": [
    {
     "data": {
      "text/plain": [
       "0    36548\n",
       "1     4640\n",
       "dtype: int64"
      ]
     },
     "execution_count": 936,
     "metadata": {},
     "output_type": "execute_result"
    }
   ],
   "source": [
    "y.value_counts()"
   ]
  },
  {
   "cell_type": "code",
   "execution_count": 937,
   "metadata": {},
   "outputs": [],
   "source": [
    "# Separating with continuous and categorical variables.\n",
    "\n",
    "X_cont = ['age', 'campaign', 'pdays', 'previous', 'emp.var.rate', 'cons.price.idx', 'euribor3m', 'nr.employed']\n",
    "X_cat = ['job', 'marital', 'education', 'default', 'housing', 'loan', 'contact', 'month', 'day_of_week', 'poutcome']\n",
    "\n",
    "cont_df = X_df[X_cont]\n",
    "cat_df = X_df[X_cat]"
   ]
  },
  {
   "cell_type": "code",
   "execution_count": 938,
   "metadata": {},
   "outputs": [
    {
     "data": {
      "text/html": [
       "<div>\n",
       "<style scoped>\n",
       "    .dataframe tbody tr th:only-of-type {\n",
       "        vertical-align: middle;\n",
       "    }\n",
       "\n",
       "    .dataframe tbody tr th {\n",
       "        vertical-align: top;\n",
       "    }\n",
       "\n",
       "    .dataframe thead th {\n",
       "        text-align: right;\n",
       "    }\n",
       "</style>\n",
       "<table border=\"1\" class=\"dataframe\">\n",
       "  <thead>\n",
       "    <tr style=\"text-align: right;\">\n",
       "      <th></th>\n",
       "      <th>job</th>\n",
       "      <th>marital</th>\n",
       "      <th>education</th>\n",
       "      <th>default</th>\n",
       "      <th>housing</th>\n",
       "      <th>loan</th>\n",
       "      <th>contact</th>\n",
       "      <th>month</th>\n",
       "      <th>day_of_week</th>\n",
       "      <th>poutcome</th>\n",
       "    </tr>\n",
       "  </thead>\n",
       "  <tbody>\n",
       "    <tr>\n",
       "      <th>0</th>\n",
       "      <td>housemaid</td>\n",
       "      <td>married</td>\n",
       "      <td>basic.4y</td>\n",
       "      <td>no</td>\n",
       "      <td>no</td>\n",
       "      <td>no</td>\n",
       "      <td>telephone</td>\n",
       "      <td>may</td>\n",
       "      <td>mon</td>\n",
       "      <td>nonexistent</td>\n",
       "    </tr>\n",
       "    <tr>\n",
       "      <th>1</th>\n",
       "      <td>services</td>\n",
       "      <td>married</td>\n",
       "      <td>high.school</td>\n",
       "      <td>unknown</td>\n",
       "      <td>no</td>\n",
       "      <td>no</td>\n",
       "      <td>telephone</td>\n",
       "      <td>may</td>\n",
       "      <td>mon</td>\n",
       "      <td>nonexistent</td>\n",
       "    </tr>\n",
       "    <tr>\n",
       "      <th>2</th>\n",
       "      <td>services</td>\n",
       "      <td>married</td>\n",
       "      <td>high.school</td>\n",
       "      <td>no</td>\n",
       "      <td>yes</td>\n",
       "      <td>no</td>\n",
       "      <td>telephone</td>\n",
       "      <td>may</td>\n",
       "      <td>mon</td>\n",
       "      <td>nonexistent</td>\n",
       "    </tr>\n",
       "    <tr>\n",
       "      <th>3</th>\n",
       "      <td>admin.</td>\n",
       "      <td>married</td>\n",
       "      <td>basic.6y</td>\n",
       "      <td>no</td>\n",
       "      <td>no</td>\n",
       "      <td>no</td>\n",
       "      <td>telephone</td>\n",
       "      <td>may</td>\n",
       "      <td>mon</td>\n",
       "      <td>nonexistent</td>\n",
       "    </tr>\n",
       "    <tr>\n",
       "      <th>4</th>\n",
       "      <td>services</td>\n",
       "      <td>married</td>\n",
       "      <td>high.school</td>\n",
       "      <td>no</td>\n",
       "      <td>no</td>\n",
       "      <td>yes</td>\n",
       "      <td>telephone</td>\n",
       "      <td>may</td>\n",
       "      <td>mon</td>\n",
       "      <td>nonexistent</td>\n",
       "    </tr>\n",
       "  </tbody>\n",
       "</table>\n",
       "</div>"
      ],
      "text/plain": [
       "         job  marital    education  default housing loan    contact month  \\\n",
       "0  housemaid  married     basic.4y       no      no   no  telephone   may   \n",
       "1   services  married  high.school  unknown      no   no  telephone   may   \n",
       "2   services  married  high.school       no     yes   no  telephone   may   \n",
       "3     admin.  married     basic.6y       no      no   no  telephone   may   \n",
       "4   services  married  high.school       no      no  yes  telephone   may   \n",
       "\n",
       "  day_of_week     poutcome  \n",
       "0         mon  nonexistent  \n",
       "1         mon  nonexistent  \n",
       "2         mon  nonexistent  \n",
       "3         mon  nonexistent  \n",
       "4         mon  nonexistent  "
      ]
     },
     "execution_count": 938,
     "metadata": {},
     "output_type": "execute_result"
    }
   ],
   "source": [
    "# Converting categorical features to numerical values.\n",
    "\n",
    "cat_df.head()"
   ]
  },
  {
   "cell_type": "code",
   "execution_count": 939,
   "metadata": {},
   "outputs": [],
   "source": [
    "# Initial numeric dataframe\n",
    "\n",
    "X_df = cont_df.join(pd.get_dummies(cat_df))"
   ]
  },
  {
   "cell_type": "code",
   "execution_count": 940,
   "metadata": {},
   "outputs": [
    {
     "data": {
      "text/plain": [
       "(41188, 61)"
      ]
     },
     "execution_count": 940,
     "metadata": {},
     "output_type": "execute_result"
    }
   ],
   "source": [
    "X_df.shape"
   ]
  },
  {
   "cell_type": "code",
   "execution_count": 941,
   "metadata": {},
   "outputs": [
    {
     "data": {
      "text/html": [
       "<div>\n",
       "<style scoped>\n",
       "    .dataframe tbody tr th:only-of-type {\n",
       "        vertical-align: middle;\n",
       "    }\n",
       "\n",
       "    .dataframe tbody tr th {\n",
       "        vertical-align: top;\n",
       "    }\n",
       "\n",
       "    .dataframe thead th {\n",
       "        text-align: right;\n",
       "    }\n",
       "</style>\n",
       "<table border=\"1\" class=\"dataframe\">\n",
       "  <thead>\n",
       "    <tr style=\"text-align: right;\">\n",
       "      <th></th>\n",
       "      <th>age</th>\n",
       "      <th>campaign</th>\n",
       "      <th>pdays</th>\n",
       "      <th>previous</th>\n",
       "      <th>emp.var.rate</th>\n",
       "      <th>cons.price.idx</th>\n",
       "      <th>euribor3m</th>\n",
       "      <th>nr.employed</th>\n",
       "      <th>job_admin.</th>\n",
       "      <th>job_blue-collar</th>\n",
       "      <th>job_entrepreneur</th>\n",
       "      <th>job_housemaid</th>\n",
       "      <th>job_management</th>\n",
       "      <th>job_retired</th>\n",
       "      <th>job_self-employed</th>\n",
       "      <th>job_services</th>\n",
       "      <th>job_student</th>\n",
       "      <th>job_technician</th>\n",
       "      <th>job_unemployed</th>\n",
       "      <th>job_unknown</th>\n",
       "      <th>marital_divorced</th>\n",
       "      <th>marital_married</th>\n",
       "      <th>marital_single</th>\n",
       "      <th>marital_unknown</th>\n",
       "      <th>education_basic.4y</th>\n",
       "      <th>education_basic.6y</th>\n",
       "      <th>education_basic.9y</th>\n",
       "      <th>education_high.school</th>\n",
       "      <th>education_illiterate</th>\n",
       "      <th>education_professional.course</th>\n",
       "      <th>education_university.degree</th>\n",
       "      <th>education_unknown</th>\n",
       "      <th>default_no</th>\n",
       "      <th>default_unknown</th>\n",
       "      <th>default_yes</th>\n",
       "      <th>housing_no</th>\n",
       "      <th>housing_unknown</th>\n",
       "      <th>housing_yes</th>\n",
       "      <th>loan_no</th>\n",
       "      <th>loan_unknown</th>\n",
       "      <th>loan_yes</th>\n",
       "      <th>contact_cellular</th>\n",
       "      <th>contact_telephone</th>\n",
       "      <th>month_apr</th>\n",
       "      <th>month_aug</th>\n",
       "      <th>month_dec</th>\n",
       "      <th>month_jul</th>\n",
       "      <th>month_jun</th>\n",
       "      <th>month_mar</th>\n",
       "      <th>month_may</th>\n",
       "      <th>month_nov</th>\n",
       "      <th>month_oct</th>\n",
       "      <th>month_sep</th>\n",
       "      <th>day_of_week_fri</th>\n",
       "      <th>day_of_week_mon</th>\n",
       "      <th>day_of_week_thu</th>\n",
       "      <th>day_of_week_tue</th>\n",
       "      <th>day_of_week_wed</th>\n",
       "      <th>poutcome_failure</th>\n",
       "      <th>poutcome_nonexistent</th>\n",
       "      <th>poutcome_success</th>\n",
       "    </tr>\n",
       "  </thead>\n",
       "  <tbody>\n",
       "    <tr>\n",
       "      <th>0</th>\n",
       "      <td>56</td>\n",
       "      <td>1</td>\n",
       "      <td>999</td>\n",
       "      <td>0</td>\n",
       "      <td>1.1</td>\n",
       "      <td>93.994</td>\n",
       "      <td>4.857</td>\n",
       "      <td>5191.0</td>\n",
       "      <td>0</td>\n",
       "      <td>0</td>\n",
       "      <td>0</td>\n",
       "      <td>1</td>\n",
       "      <td>0</td>\n",
       "      <td>0</td>\n",
       "      <td>0</td>\n",
       "      <td>0</td>\n",
       "      <td>0</td>\n",
       "      <td>0</td>\n",
       "      <td>0</td>\n",
       "      <td>0</td>\n",
       "      <td>0</td>\n",
       "      <td>1</td>\n",
       "      <td>0</td>\n",
       "      <td>0</td>\n",
       "      <td>1</td>\n",
       "      <td>0</td>\n",
       "      <td>0</td>\n",
       "      <td>0</td>\n",
       "      <td>0</td>\n",
       "      <td>0</td>\n",
       "      <td>0</td>\n",
       "      <td>0</td>\n",
       "      <td>1</td>\n",
       "      <td>0</td>\n",
       "      <td>0</td>\n",
       "      <td>1</td>\n",
       "      <td>0</td>\n",
       "      <td>0</td>\n",
       "      <td>1</td>\n",
       "      <td>0</td>\n",
       "      <td>0</td>\n",
       "      <td>0</td>\n",
       "      <td>1</td>\n",
       "      <td>0</td>\n",
       "      <td>0</td>\n",
       "      <td>0</td>\n",
       "      <td>0</td>\n",
       "      <td>0</td>\n",
       "      <td>0</td>\n",
       "      <td>1</td>\n",
       "      <td>0</td>\n",
       "      <td>0</td>\n",
       "      <td>0</td>\n",
       "      <td>0</td>\n",
       "      <td>1</td>\n",
       "      <td>0</td>\n",
       "      <td>0</td>\n",
       "      <td>0</td>\n",
       "      <td>0</td>\n",
       "      <td>1</td>\n",
       "      <td>0</td>\n",
       "    </tr>\n",
       "    <tr>\n",
       "      <th>1</th>\n",
       "      <td>57</td>\n",
       "      <td>1</td>\n",
       "      <td>999</td>\n",
       "      <td>0</td>\n",
       "      <td>1.1</td>\n",
       "      <td>93.994</td>\n",
       "      <td>4.857</td>\n",
       "      <td>5191.0</td>\n",
       "      <td>0</td>\n",
       "      <td>0</td>\n",
       "      <td>0</td>\n",
       "      <td>0</td>\n",
       "      <td>0</td>\n",
       "      <td>0</td>\n",
       "      <td>0</td>\n",
       "      <td>1</td>\n",
       "      <td>0</td>\n",
       "      <td>0</td>\n",
       "      <td>0</td>\n",
       "      <td>0</td>\n",
       "      <td>0</td>\n",
       "      <td>1</td>\n",
       "      <td>0</td>\n",
       "      <td>0</td>\n",
       "      <td>0</td>\n",
       "      <td>0</td>\n",
       "      <td>0</td>\n",
       "      <td>1</td>\n",
       "      <td>0</td>\n",
       "      <td>0</td>\n",
       "      <td>0</td>\n",
       "      <td>0</td>\n",
       "      <td>0</td>\n",
       "      <td>1</td>\n",
       "      <td>0</td>\n",
       "      <td>1</td>\n",
       "      <td>0</td>\n",
       "      <td>0</td>\n",
       "      <td>1</td>\n",
       "      <td>0</td>\n",
       "      <td>0</td>\n",
       "      <td>0</td>\n",
       "      <td>1</td>\n",
       "      <td>0</td>\n",
       "      <td>0</td>\n",
       "      <td>0</td>\n",
       "      <td>0</td>\n",
       "      <td>0</td>\n",
       "      <td>0</td>\n",
       "      <td>1</td>\n",
       "      <td>0</td>\n",
       "      <td>0</td>\n",
       "      <td>0</td>\n",
       "      <td>0</td>\n",
       "      <td>1</td>\n",
       "      <td>0</td>\n",
       "      <td>0</td>\n",
       "      <td>0</td>\n",
       "      <td>0</td>\n",
       "      <td>1</td>\n",
       "      <td>0</td>\n",
       "    </tr>\n",
       "    <tr>\n",
       "      <th>2</th>\n",
       "      <td>37</td>\n",
       "      <td>1</td>\n",
       "      <td>999</td>\n",
       "      <td>0</td>\n",
       "      <td>1.1</td>\n",
       "      <td>93.994</td>\n",
       "      <td>4.857</td>\n",
       "      <td>5191.0</td>\n",
       "      <td>0</td>\n",
       "      <td>0</td>\n",
       "      <td>0</td>\n",
       "      <td>0</td>\n",
       "      <td>0</td>\n",
       "      <td>0</td>\n",
       "      <td>0</td>\n",
       "      <td>1</td>\n",
       "      <td>0</td>\n",
       "      <td>0</td>\n",
       "      <td>0</td>\n",
       "      <td>0</td>\n",
       "      <td>0</td>\n",
       "      <td>1</td>\n",
       "      <td>0</td>\n",
       "      <td>0</td>\n",
       "      <td>0</td>\n",
       "      <td>0</td>\n",
       "      <td>0</td>\n",
       "      <td>1</td>\n",
       "      <td>0</td>\n",
       "      <td>0</td>\n",
       "      <td>0</td>\n",
       "      <td>0</td>\n",
       "      <td>1</td>\n",
       "      <td>0</td>\n",
       "      <td>0</td>\n",
       "      <td>0</td>\n",
       "      <td>0</td>\n",
       "      <td>1</td>\n",
       "      <td>1</td>\n",
       "      <td>0</td>\n",
       "      <td>0</td>\n",
       "      <td>0</td>\n",
       "      <td>1</td>\n",
       "      <td>0</td>\n",
       "      <td>0</td>\n",
       "      <td>0</td>\n",
       "      <td>0</td>\n",
       "      <td>0</td>\n",
       "      <td>0</td>\n",
       "      <td>1</td>\n",
       "      <td>0</td>\n",
       "      <td>0</td>\n",
       "      <td>0</td>\n",
       "      <td>0</td>\n",
       "      <td>1</td>\n",
       "      <td>0</td>\n",
       "      <td>0</td>\n",
       "      <td>0</td>\n",
       "      <td>0</td>\n",
       "      <td>1</td>\n",
       "      <td>0</td>\n",
       "    </tr>\n",
       "    <tr>\n",
       "      <th>3</th>\n",
       "      <td>40</td>\n",
       "      <td>1</td>\n",
       "      <td>999</td>\n",
       "      <td>0</td>\n",
       "      <td>1.1</td>\n",
       "      <td>93.994</td>\n",
       "      <td>4.857</td>\n",
       "      <td>5191.0</td>\n",
       "      <td>1</td>\n",
       "      <td>0</td>\n",
       "      <td>0</td>\n",
       "      <td>0</td>\n",
       "      <td>0</td>\n",
       "      <td>0</td>\n",
       "      <td>0</td>\n",
       "      <td>0</td>\n",
       "      <td>0</td>\n",
       "      <td>0</td>\n",
       "      <td>0</td>\n",
       "      <td>0</td>\n",
       "      <td>0</td>\n",
       "      <td>1</td>\n",
       "      <td>0</td>\n",
       "      <td>0</td>\n",
       "      <td>0</td>\n",
       "      <td>1</td>\n",
       "      <td>0</td>\n",
       "      <td>0</td>\n",
       "      <td>0</td>\n",
       "      <td>0</td>\n",
       "      <td>0</td>\n",
       "      <td>0</td>\n",
       "      <td>1</td>\n",
       "      <td>0</td>\n",
       "      <td>0</td>\n",
       "      <td>1</td>\n",
       "      <td>0</td>\n",
       "      <td>0</td>\n",
       "      <td>1</td>\n",
       "      <td>0</td>\n",
       "      <td>0</td>\n",
       "      <td>0</td>\n",
       "      <td>1</td>\n",
       "      <td>0</td>\n",
       "      <td>0</td>\n",
       "      <td>0</td>\n",
       "      <td>0</td>\n",
       "      <td>0</td>\n",
       "      <td>0</td>\n",
       "      <td>1</td>\n",
       "      <td>0</td>\n",
       "      <td>0</td>\n",
       "      <td>0</td>\n",
       "      <td>0</td>\n",
       "      <td>1</td>\n",
       "      <td>0</td>\n",
       "      <td>0</td>\n",
       "      <td>0</td>\n",
       "      <td>0</td>\n",
       "      <td>1</td>\n",
       "      <td>0</td>\n",
       "    </tr>\n",
       "    <tr>\n",
       "      <th>4</th>\n",
       "      <td>56</td>\n",
       "      <td>1</td>\n",
       "      <td>999</td>\n",
       "      <td>0</td>\n",
       "      <td>1.1</td>\n",
       "      <td>93.994</td>\n",
       "      <td>4.857</td>\n",
       "      <td>5191.0</td>\n",
       "      <td>0</td>\n",
       "      <td>0</td>\n",
       "      <td>0</td>\n",
       "      <td>0</td>\n",
       "      <td>0</td>\n",
       "      <td>0</td>\n",
       "      <td>0</td>\n",
       "      <td>1</td>\n",
       "      <td>0</td>\n",
       "      <td>0</td>\n",
       "      <td>0</td>\n",
       "      <td>0</td>\n",
       "      <td>0</td>\n",
       "      <td>1</td>\n",
       "      <td>0</td>\n",
       "      <td>0</td>\n",
       "      <td>0</td>\n",
       "      <td>0</td>\n",
       "      <td>0</td>\n",
       "      <td>1</td>\n",
       "      <td>0</td>\n",
       "      <td>0</td>\n",
       "      <td>0</td>\n",
       "      <td>0</td>\n",
       "      <td>1</td>\n",
       "      <td>0</td>\n",
       "      <td>0</td>\n",
       "      <td>1</td>\n",
       "      <td>0</td>\n",
       "      <td>0</td>\n",
       "      <td>0</td>\n",
       "      <td>0</td>\n",
       "      <td>1</td>\n",
       "      <td>0</td>\n",
       "      <td>1</td>\n",
       "      <td>0</td>\n",
       "      <td>0</td>\n",
       "      <td>0</td>\n",
       "      <td>0</td>\n",
       "      <td>0</td>\n",
       "      <td>0</td>\n",
       "      <td>1</td>\n",
       "      <td>0</td>\n",
       "      <td>0</td>\n",
       "      <td>0</td>\n",
       "      <td>0</td>\n",
       "      <td>1</td>\n",
       "      <td>0</td>\n",
       "      <td>0</td>\n",
       "      <td>0</td>\n",
       "      <td>0</td>\n",
       "      <td>1</td>\n",
       "      <td>0</td>\n",
       "    </tr>\n",
       "  </tbody>\n",
       "</table>\n",
       "</div>"
      ],
      "text/plain": [
       "   age  campaign  pdays  previous  emp.var.rate  cons.price.idx  euribor3m  \\\n",
       "0   56         1    999         0           1.1          93.994      4.857   \n",
       "1   57         1    999         0           1.1          93.994      4.857   \n",
       "2   37         1    999         0           1.1          93.994      4.857   \n",
       "3   40         1    999         0           1.1          93.994      4.857   \n",
       "4   56         1    999         0           1.1          93.994      4.857   \n",
       "\n",
       "   nr.employed  job_admin.  job_blue-collar  job_entrepreneur  job_housemaid  \\\n",
       "0       5191.0           0                0                 0              1   \n",
       "1       5191.0           0                0                 0              0   \n",
       "2       5191.0           0                0                 0              0   \n",
       "3       5191.0           1                0                 0              0   \n",
       "4       5191.0           0                0                 0              0   \n",
       "\n",
       "   job_management  job_retired  job_self-employed  job_services  job_student  \\\n",
       "0               0            0                  0             0            0   \n",
       "1               0            0                  0             1            0   \n",
       "2               0            0                  0             1            0   \n",
       "3               0            0                  0             0            0   \n",
       "4               0            0                  0             1            0   \n",
       "\n",
       "   job_technician  job_unemployed  job_unknown  marital_divorced  \\\n",
       "0               0               0            0                 0   \n",
       "1               0               0            0                 0   \n",
       "2               0               0            0                 0   \n",
       "3               0               0            0                 0   \n",
       "4               0               0            0                 0   \n",
       "\n",
       "   marital_married  marital_single  marital_unknown  education_basic.4y  \\\n",
       "0                1               0                0                   1   \n",
       "1                1               0                0                   0   \n",
       "2                1               0                0                   0   \n",
       "3                1               0                0                   0   \n",
       "4                1               0                0                   0   \n",
       "\n",
       "   education_basic.6y  education_basic.9y  education_high.school  \\\n",
       "0                   0                   0                      0   \n",
       "1                   0                   0                      1   \n",
       "2                   0                   0                      1   \n",
       "3                   1                   0                      0   \n",
       "4                   0                   0                      1   \n",
       "\n",
       "   education_illiterate  education_professional.course  \\\n",
       "0                     0                              0   \n",
       "1                     0                              0   \n",
       "2                     0                              0   \n",
       "3                     0                              0   \n",
       "4                     0                              0   \n",
       "\n",
       "   education_university.degree  education_unknown  default_no  \\\n",
       "0                            0                  0           1   \n",
       "1                            0                  0           0   \n",
       "2                            0                  0           1   \n",
       "3                            0                  0           1   \n",
       "4                            0                  0           1   \n",
       "\n",
       "   default_unknown  default_yes  housing_no  housing_unknown  housing_yes  \\\n",
       "0                0            0           1                0            0   \n",
       "1                1            0           1                0            0   \n",
       "2                0            0           0                0            1   \n",
       "3                0            0           1                0            0   \n",
       "4                0            0           1                0            0   \n",
       "\n",
       "   loan_no  loan_unknown  loan_yes  contact_cellular  contact_telephone  \\\n",
       "0        1             0         0                 0                  1   \n",
       "1        1             0         0                 0                  1   \n",
       "2        1             0         0                 0                  1   \n",
       "3        1             0         0                 0                  1   \n",
       "4        0             0         1                 0                  1   \n",
       "\n",
       "   month_apr  month_aug  month_dec  month_jul  month_jun  month_mar  \\\n",
       "0          0          0          0          0          0          0   \n",
       "1          0          0          0          0          0          0   \n",
       "2          0          0          0          0          0          0   \n",
       "3          0          0          0          0          0          0   \n",
       "4          0          0          0          0          0          0   \n",
       "\n",
       "   month_may  month_nov  month_oct  month_sep  day_of_week_fri  \\\n",
       "0          1          0          0          0                0   \n",
       "1          1          0          0          0                0   \n",
       "2          1          0          0          0                0   \n",
       "3          1          0          0          0                0   \n",
       "4          1          0          0          0                0   \n",
       "\n",
       "   day_of_week_mon  day_of_week_thu  day_of_week_tue  day_of_week_wed  \\\n",
       "0                1                0                0                0   \n",
       "1                1                0                0                0   \n",
       "2                1                0                0                0   \n",
       "3                1                0                0                0   \n",
       "4                1                0                0                0   \n",
       "\n",
       "   poutcome_failure  poutcome_nonexistent  poutcome_success  \n",
       "0                 0                     1                 0  \n",
       "1                 0                     1                 0  \n",
       "2                 0                     1                 0  \n",
       "3                 0                     1                 0  \n",
       "4                 0                     1                 0  "
      ]
     },
     "execution_count": 941,
     "metadata": {},
     "output_type": "execute_result"
    }
   ],
   "source": [
    "X_df.head()"
   ]
  },
  {
   "cell_type": "code",
   "execution_count": 942,
   "metadata": {},
   "outputs": [
    {
     "data": {
      "text/plain": [
       "((28831, 61), (12357, 61), (28831,), (12357,))"
      ]
     },
     "execution_count": 942,
     "metadata": {},
     "output_type": "execute_result"
    }
   ],
   "source": [
    "# Split into train and test sets.\n",
    "\n",
    "X_train, X_test, y_train, y_test = train_test_split(X_df, y, test_size = 0.3, random_state = 10)\n",
    "X_train.shape, X_test.shape, y_train.shape, y_test.shape"
   ]
  },
  {
   "cell_type": "code",
   "execution_count": 943,
   "metadata": {},
   "outputs": [],
   "source": [
    "# Initial logistic regression\n",
    "\n",
    "from sklearn.linear_model import LogisticRegression\n",
    "\n",
    "clf = LogisticRegression()\n",
    "model_base = clf.fit(X_train, y_train)"
   ]
  },
  {
   "cell_type": "code",
   "execution_count": 944,
   "metadata": {},
   "outputs": [
    {
     "data": {
      "text/plain": [
       "0.8966577648296512"
      ]
     },
     "execution_count": 944,
     "metadata": {},
     "output_type": "execute_result"
    }
   ],
   "source": [
    "y_pred = model_base.predict(X_test)\n",
    "model_base.score(X_test, y_test)"
   ]
  },
  {
   "cell_type": "code",
   "execution_count": 945,
   "metadata": {},
   "outputs": [
    {
     "data": {
      "text/plain": [
       "array([[10792,   143],\n",
       "       [ 1134,   288]])"
      ]
     },
     "execution_count": 945,
     "metadata": {},
     "output_type": "execute_result"
    }
   ],
   "source": [
    "metrics.confusion_matrix(y_test, y_pred)\n",
    "# print(metrics.classification_report(y_test, y_pred))"
   ]
  },
  {
   "cell_type": "code",
   "execution_count": 946,
   "metadata": {},
   "outputs": [
    {
     "data": {
      "image/png": "[encoded data removed]",
      "text/plain": [
       "<Figure size 432x288 with 1 Axes>"
      ]
     },
     "metadata": {
      "needs_background": "light"
     },
     "output_type": "display_data"
    }
   ],
   "source": [
    "from sklearn.metrics import roc_auc_score\n",
    "from sklearn.metrics import roc_curve\n",
    "# logit_roc_auc = roc_auc_score(y_test, model_base.predict(X_test))\n",
    "# fpr, tpr, thresholds = roc_curve(y_test, model_base.predict_proba(X_test)[:,1])\n",
    "# plt.figure()\n",
    "\n",
    "probs = model_base.predict_proba(X_test)\n",
    "preds = probs[:,1]\n",
    "fpr, tpr, threshold = metrics.roc_curve(y_test, preds)\n",
    "logit_roc_auc = metrics.auc(fpr, tpr)\n",
    "\n",
    "plt.plot(fpr, tpr, label='Logistic Regression (area = %0.2f)' % logit_roc_auc)\n",
    "plt.plot([0, 1], [0, 1],'r--')\n",
    "plt.xlim([0.0, 1.0])\n",
    "plt.ylim([0.0, 1.05])\n",
    "plt.xlabel('False Positive Rate')\n",
    "plt.ylabel('True Positive Rate')\n",
    "plt.title('Receiver operating characteristic')\n",
    "plt.legend(loc=\"lower right\")\n",
    "plt.savefig('Log_ROC')\n",
    "plt.show()"
   ]
  },
  {
   "cell_type": "markdown",
   "metadata": {},
   "source": [
    "## Feature Importance"
   ]
  },
  {
   "cell_type": "code",
   "execution_count": 947,
   "metadata": {},
   "outputs": [],
   "source": [
    "# Feature importance rankings.\n",
    "\n",
    "weights = zip(X_df.columns, model_base.coef_[0])\n",
    "ranked_weights = sorted(weights, key=lambda x: x[1], reverse = True)"
   ]
  },
  {
   "cell_type": "code",
   "execution_count": 948,
   "metadata": {},
   "outputs": [
    {
     "data": {
      "text/plain": [
       "[('cons.price.idx', 0.3518094624673391),\n",
       " ('month_jul', 0.1671725030144373),\n",
       " ('contact_cellular', 0.16148617971076784),\n",
       " ('poutcome_nonexistent', 0.13538169429784108),\n",
       " ('month_mar', 0.1264814593862346),\n",
       " ('default_no', 0.11456821078234078),\n",
       " ('education_university.degree', 0.1068855022927384),\n",
       " ('month_aug', 0.09762707436957915),\n",
       " ('marital_single', 0.08215949643384302),\n",
       " ('job_admin.', 0.07804973658922298)]"
      ]
     },
     "execution_count": 948,
     "metadata": {},
     "output_type": "execute_result"
    }
   ],
   "source": [
    "# Top 10 positive feature importance\n",
    "\n",
    "ranked_weights[:10]"
   ]
  },
  {
   "cell_type": "code",
   "execution_count": 949,
   "metadata": {},
   "outputs": [
    {
     "data": {
      "text/plain": [
       "[('education_basic.9y', -0.07440934956196187),\n",
       " ('euribor3m', -0.08097976269375051),\n",
       " ('default_unknown', -0.11090849133614451),\n",
       " ('day_of_week_mon', -0.11378850839627806),\n",
       " ('job_blue-collar', -0.1261920549895963),\n",
       " ('previous', -0.15377543230832505),\n",
       " ('contact_telephone', -0.1580399621283941),\n",
       " ('poutcome_failure', -0.15827053926564855),\n",
       " ('emp.var.rate', -0.22760118448270103),\n",
       " ('month_may', -0.46562999602745847)]"
      ]
     },
     "execution_count": 949,
     "metadata": {},
     "output_type": "execute_result"
    }
   ],
   "source": [
    "# Top 10 negative feature importance\n",
    "\n",
    "ranked_weights[-10:]"
   ]
  },
  {
   "cell_type": "code",
   "execution_count": 950,
   "metadata": {},
   "outputs": [
    {
     "data": {
      "text/plain": [
       "[('month_may', -0.46562999602745847),\n",
       " ('cons.price.idx', 0.3518094624673391),\n",
       " ('emp.var.rate', -0.22760118448270103),\n",
       " ('month_jul', 0.1671725030144373),\n",
       " ('contact_cellular', 0.16148617971076784),\n",
       " ('poutcome_failure', -0.15827053926564855),\n",
       " ('contact_telephone', -0.1580399621283941),\n",
       " ('previous', -0.15377543230832505),\n",
       " ('poutcome_nonexistent', 0.13538169429784108),\n",
       " ('month_mar', 0.1264814593862346)]"
      ]
     },
     "execution_count": 950,
     "metadata": {},
     "output_type": "execute_result"
    }
   ],
   "source": [
    "abs_weights = zip(X_df.columns, model_base.coef_[0]) \n",
    "abs_ranked_weights = sorted(abs_weights, key=lambda x: abs(x[1]), reverse = True)\n",
    "abs_ranked_weights[:10]"
   ]
  },
  {
   "cell_type": "code",
   "execution_count": 951,
   "metadata": {},
   "outputs": [
    {
     "data": {
      "text/plain": [
       "(array([0, 1, 2, 3, 4, 5, 6, 7, 8, 9]), <a list of 10 Text xticklabel objects>)"
      ]
     },
     "execution_count": 951,
     "metadata": {},
     "output_type": "execute_result"
    },
    {
     "data": {
      "image/png": "[encoded data removed]",
      "text/plain": [
       "<Figure size 432x288 with 1 Axes>"
      ]
     },
     "metadata": {
      "needs_background": "light"
     },
     "output_type": "display_data"
    }
   ],
   "source": [
    "# Absolute value feature importance plot\n",
    "\n",
    "labels, weights = zip(*abs_ranked_weights[:10])\n",
    "sb.barplot(x = pd.Series(labels), y = pd.Series(weights), color='aquamarine', alpha=0.8)\n",
    "plt.xticks(rotation=40, ha='right')"
   ]
  },
  {
   "cell_type": "code",
   "execution_count": 952,
   "metadata": {},
   "outputs": [],
   "source": [
    "# Pairplot to look at distributions.\n",
    "\n",
    "# sb.pairplot(cont_df)"
   ]
  },
  {
   "cell_type": "markdown",
   "metadata": {},
   "source": [
    "## Feature engineering"
   ]
  },
  {
   "cell_type": "code",
   "execution_count": 953,
   "metadata": {},
   "outputs": [],
   "source": [
    "X_df_2 = X_df.copy()"
   ]
  },
  {
   "cell_type": "code",
   "execution_count": 954,
   "metadata": {},
   "outputs": [
    {
     "data": {
      "text/html": [
       "<div>\n",
       "<style scoped>\n",
       "    .dataframe tbody tr th:only-of-type {\n",
       "        vertical-align: middle;\n",
       "    }\n",
       "\n",
       "    .dataframe tbody tr th {\n",
       "        vertical-align: top;\n",
       "    }\n",
       "\n",
       "    .dataframe thead th {\n",
       "        text-align: right;\n",
       "    }\n",
       "</style>\n",
       "<table border=\"1\" class=\"dataframe\">\n",
       "  <thead>\n",
       "    <tr style=\"text-align: right;\">\n",
       "      <th></th>\n",
       "      <th>age</th>\n",
       "      <th>campaign</th>\n",
       "      <th>pdays</th>\n",
       "      <th>previous</th>\n",
       "      <th>emp.var.rate</th>\n",
       "      <th>cons.price.idx</th>\n",
       "      <th>euribor3m</th>\n",
       "      <th>nr.employed</th>\n",
       "      <th>job_admin.</th>\n",
       "      <th>job_blue-collar</th>\n",
       "      <th>job_entrepreneur</th>\n",
       "      <th>job_housemaid</th>\n",
       "      <th>job_management</th>\n",
       "      <th>job_retired</th>\n",
       "      <th>job_self-employed</th>\n",
       "      <th>job_services</th>\n",
       "      <th>job_student</th>\n",
       "      <th>job_technician</th>\n",
       "      <th>job_unemployed</th>\n",
       "      <th>job_unknown</th>\n",
       "      <th>marital_divorced</th>\n",
       "      <th>marital_married</th>\n",
       "      <th>marital_single</th>\n",
       "      <th>marital_unknown</th>\n",
       "      <th>education_basic.4y</th>\n",
       "      <th>education_basic.6y</th>\n",
       "      <th>education_basic.9y</th>\n",
       "      <th>education_high.school</th>\n",
       "      <th>education_illiterate</th>\n",
       "      <th>education_professional.course</th>\n",
       "      <th>education_university.degree</th>\n",
       "      <th>education_unknown</th>\n",
       "      <th>default_no</th>\n",
       "      <th>default_unknown</th>\n",
       "      <th>default_yes</th>\n",
       "      <th>housing_no</th>\n",
       "      <th>housing_unknown</th>\n",
       "      <th>housing_yes</th>\n",
       "      <th>loan_no</th>\n",
       "      <th>loan_unknown</th>\n",
       "      <th>loan_yes</th>\n",
       "      <th>contact_cellular</th>\n",
       "      <th>contact_telephone</th>\n",
       "      <th>month_apr</th>\n",
       "      <th>month_aug</th>\n",
       "      <th>month_dec</th>\n",
       "      <th>month_jul</th>\n",
       "      <th>month_jun</th>\n",
       "      <th>month_mar</th>\n",
       "      <th>month_may</th>\n",
       "      <th>month_nov</th>\n",
       "      <th>month_oct</th>\n",
       "      <th>month_sep</th>\n",
       "      <th>day_of_week_fri</th>\n",
       "      <th>day_of_week_mon</th>\n",
       "      <th>day_of_week_thu</th>\n",
       "      <th>day_of_week_tue</th>\n",
       "      <th>day_of_week_wed</th>\n",
       "      <th>poutcome_failure</th>\n",
       "      <th>poutcome_nonexistent</th>\n",
       "      <th>poutcome_success</th>\n",
       "    </tr>\n",
       "  </thead>\n",
       "  <tbody>\n",
       "  </tbody>\n",
       "</table>\n",
       "</div>"
      ],
      "text/plain": [
       "Empty DataFrame\n",
       "Columns: [age, campaign, pdays, previous, emp.var.rate, cons.price.idx, euribor3m, nr.employed, job_admin., job_blue-collar, job_entrepreneur, job_housemaid, job_management, job_retired, job_self-employed, job_services, job_student, job_technician, job_unemployed, job_unknown, marital_divorced, marital_married, marital_single, marital_unknown, education_basic.4y, education_basic.6y, education_basic.9y, education_high.school, education_illiterate, education_professional.course, education_university.degree, education_unknown, default_no, default_unknown, default_yes, housing_no, housing_unknown, housing_yes, loan_no, loan_unknown, loan_yes, contact_cellular, contact_telephone, month_apr, month_aug, month_dec, month_jul, month_jun, month_mar, month_may, month_nov, month_oct, month_sep, day_of_week_fri, day_of_week_mon, day_of_week_thu, day_of_week_tue, day_of_week_wed, poutcome_failure, poutcome_nonexistent, poutcome_success]\n",
       "Index: []"
      ]
     },
     "execution_count": 954,
     "metadata": {},
     "output_type": "execute_result"
    }
   ],
   "source": [
    "# Creating binary variable for whether there was previous contact.\n",
    "\n",
    "X_df_2[(X_df_2['previous'] == 0) & (X_df_2['pdays'] != 999)]"
   ]
  },
  {
   "cell_type": "code",
   "execution_count": 955,
   "metadata": {},
   "outputs": [],
   "source": [
    "X_df_2['previous_contact'] = np.where(X_df_2['pdays'] == 999, 0, 1)\n",
    "\n",
    "# X_df_2 = X_df_2.drop('pdays', axis = 1)"
   ]
  },
  {
   "cell_type": "code",
   "execution_count": 956,
   "metadata": {},
   "outputs": [
    {
     "data": {
      "text/plain": [
       "<matplotlib.axes._subplots.AxesSubplot at 0x1c6de6f668>"
      ]
     },
     "execution_count": 956,
     "metadata": {},
     "output_type": "execute_result"
    },
    {
     "data": {
      "image/png": "[encoded data removed]",
      "text/plain": [
       "<Figure size 432x288 with 1 Axes>"
      ]
     },
     "metadata": {
      "needs_background": "light"
     },
     "output_type": "display_data"
    }
   ],
   "source": [
    "X_df_2['age'].hist()"
   ]
  },
  {
   "cell_type": "code",
   "execution_count": 957,
   "metadata": {},
   "outputs": [],
   "source": [
    "bins5(X_df_2, 'age')"
   ]
  },
  {
   "cell_type": "code",
   "execution_count": 958,
   "metadata": {},
   "outputs": [
    {
     "data": {
      "text/plain": [
       "<matplotlib.axes._subplots.AxesSubplot at 0x1c692871d0>"
      ]
     },
     "execution_count": 958,
     "metadata": {},
     "output_type": "execute_result"
    },
    {
     "data": {
      "image/png": "[encoded data removed]",
      "text/plain": [
       "<Figure size 432x288 with 1 Axes>"
      ]
     },
     "metadata": {
      "needs_background": "light"
     },
     "output_type": "display_data"
    }
   ],
   "source": [
    "X_df_2['campaign'].hist()"
   ]
  },
  {
   "cell_type": "code",
   "execution_count": 959,
   "metadata": {},
   "outputs": [
    {
     "data": {
      "text/plain": [
       "<matplotlib.axes._subplots.AxesSubplot at 0x1c6dbcd588>"
      ]
     },
     "execution_count": 959,
     "metadata": {},
     "output_type": "execute_result"
    },
    {
     "data": {
      "image/png": "[encoded data removed]",
      "text/plain": [
       "<Figure size 432x288 with 1 Axes>"
      ]
     },
     "metadata": {
      "needs_background": "light"
     },
     "output_type": "display_data"
    }
   ],
   "source": [
    "X_df_2['previous'].hist()"
   ]
  },
  {
   "cell_type": "code",
   "execution_count": 960,
   "metadata": {},
   "outputs": [
    {
     "data": {
      "text/plain": [
       "<matplotlib.axes._subplots.AxesSubplot at 0x1c6d4cb6d8>"
      ]
     },
     "execution_count": 960,
     "metadata": {},
     "output_type": "execute_result"
    },
    {
     "data": {
      "image/png": "[encoded data removed]",
      "text/plain": [
       "<Figure size 432x288 with 1 Axes>"
      ]
     },
     "metadata": {
      "needs_background": "light"
     },
     "output_type": "display_data"
    }
   ],
   "source": [
    "X_df_2['nr.employed'].hist()"
   ]
  },
  {
   "cell_type": "code",
   "execution_count": 961,
   "metadata": {},
   "outputs": [],
   "source": [
    "def bins5(df, col):\n",
    "    df[col] = pd.cut(df[col], 5, labels=range(5))"
   ]
  },
  {
   "cell_type": "code",
   "execution_count": 962,
   "metadata": {},
   "outputs": [],
   "source": [
    "bins5(X_df_2, 'age')\n",
    "bins5(X_df_2, 'campaign')\n",
    "bins5(X_df_2, 'previous')\n",
    "bins5(X_df_2, 'nr.employed')"
   ]
  },
  {
   "cell_type": "code",
   "execution_count": 963,
   "metadata": {},
   "outputs": [
    {
     "data": {
      "text/plain": [
       "0.11265417111780131"
      ]
     },
     "execution_count": 963,
     "metadata": {},
     "output_type": "execute_result"
    }
   ],
   "source": [
    "# SMOTE for rebalancing\n",
    "\n",
    "y.value_counts()[1]/y.value_counts().sum()"
   ]
  },
  {
   "cell_type": "code",
   "execution_count": null,
   "metadata": {},
   "outputs": [],
   "source": []
  },
  {
   "cell_type": "code",
   "execution_count": null,
   "metadata": {},
   "outputs": [],
   "source": []
  },
  {
   "cell_type": "code",
   "execution_count": null,
   "metadata": {},
   "outputs": [],
   "source": []
  },
  {
   "cell_type": "code",
   "execution_count": 964,
   "metadata": {},
   "outputs": [
    {
     "data": {
      "text/plain": [
       "0.00650828952760949"
      ]
     },
     "execution_count": 964,
     "metadata": {},
     "output_type": "execute_result"
    }
   ],
   "source": [
    "# Threshold setting for coefficient size.\n",
    "\n",
    "coef_thresh = np.percentile(abs(model_base.coef_[0]), 20)\n",
    "coef_thresh"
   ]
  },
  {
   "cell_type": "code",
   "execution_count": 965,
   "metadata": {},
   "outputs": [
    {
     "data": {
      "text/plain": [
       "['age',\n",
       " 'loan_no',\n",
       " 'job_entrepreneur',\n",
       " 'job_unknown',\n",
       " 'month_apr',\n",
       " 'marital_unknown',\n",
       " 'pdays',\n",
       " 'loan_yes',\n",
       " 'education_illiterate',\n",
       " 'housing_unknown',\n",
       " 'loan_unknown',\n",
       " 'default_yes']"
      ]
     },
     "execution_count": 965,
     "metadata": {},
     "output_type": "execute_result"
    }
   ],
   "source": [
    "# Features with very low coefficients that do not contribute much to the model.\n",
    "\n",
    "low_coefs = [feature[0] for feature in abs_ranked_weights if abs(feature[1]) < coef_thresh]\n",
    "low_coefs"
   ]
  },
  {
   "cell_type": "code",
   "execution_count": 966,
   "metadata": {},
   "outputs": [],
   "source": [
    "# Drop low importance features\n",
    "\n",
    "# X_df_2 = X_df_2.drop(columns = low_coefs)\n",
    "# X_df_2.shape"
   ]
  },
  {
   "cell_type": "code",
   "execution_count": null,
   "metadata": {},
   "outputs": [],
   "source": []
  },
  {
   "cell_type": "code",
   "execution_count": 967,
   "metadata": {},
   "outputs": [
    {
     "data": {
      "text/html": [
       "<div>\n",
       "<style scoped>\n",
       "    .dataframe tbody tr th:only-of-type {\n",
       "        vertical-align: middle;\n",
       "    }\n",
       "\n",
       "    .dataframe tbody tr th {\n",
       "        vertical-align: top;\n",
       "    }\n",
       "\n",
       "    .dataframe thead th {\n",
       "        text-align: right;\n",
       "    }\n",
       "</style>\n",
       "<table border=\"1\" class=\"dataframe\">\n",
       "  <thead>\n",
       "    <tr style=\"text-align: right;\">\n",
       "      <th></th>\n",
       "      <th>pdays</th>\n",
       "      <th>emp.var.rate</th>\n",
       "      <th>cons.price.idx</th>\n",
       "      <th>euribor3m</th>\n",
       "      <th>job_admin.</th>\n",
       "      <th>job_blue-collar</th>\n",
       "      <th>job_entrepreneur</th>\n",
       "      <th>job_housemaid</th>\n",
       "      <th>job_management</th>\n",
       "      <th>job_retired</th>\n",
       "      <th>job_self-employed</th>\n",
       "      <th>job_services</th>\n",
       "      <th>job_student</th>\n",
       "      <th>job_technician</th>\n",
       "      <th>job_unemployed</th>\n",
       "      <th>job_unknown</th>\n",
       "      <th>marital_divorced</th>\n",
       "      <th>marital_married</th>\n",
       "      <th>marital_single</th>\n",
       "      <th>marital_unknown</th>\n",
       "      <th>education_basic.4y</th>\n",
       "      <th>education_basic.6y</th>\n",
       "      <th>education_basic.9y</th>\n",
       "      <th>education_high.school</th>\n",
       "      <th>education_illiterate</th>\n",
       "      <th>education_professional.course</th>\n",
       "      <th>education_university.degree</th>\n",
       "      <th>education_unknown</th>\n",
       "      <th>default_no</th>\n",
       "      <th>default_unknown</th>\n",
       "      <th>default_yes</th>\n",
       "      <th>housing_no</th>\n",
       "      <th>housing_unknown</th>\n",
       "      <th>housing_yes</th>\n",
       "      <th>loan_no</th>\n",
       "      <th>loan_unknown</th>\n",
       "      <th>loan_yes</th>\n",
       "      <th>contact_cellular</th>\n",
       "      <th>contact_telephone</th>\n",
       "      <th>month_apr</th>\n",
       "      <th>month_aug</th>\n",
       "      <th>month_dec</th>\n",
       "      <th>month_jul</th>\n",
       "      <th>month_jun</th>\n",
       "      <th>month_mar</th>\n",
       "      <th>month_may</th>\n",
       "      <th>month_nov</th>\n",
       "      <th>month_oct</th>\n",
       "      <th>month_sep</th>\n",
       "      <th>day_of_week_fri</th>\n",
       "      <th>day_of_week_mon</th>\n",
       "      <th>day_of_week_thu</th>\n",
       "      <th>day_of_week_tue</th>\n",
       "      <th>day_of_week_wed</th>\n",
       "      <th>poutcome_failure</th>\n",
       "      <th>poutcome_nonexistent</th>\n",
       "      <th>poutcome_success</th>\n",
       "      <th>previous_contact</th>\n",
       "    </tr>\n",
       "  </thead>\n",
       "  <tbody>\n",
       "    <tr>\n",
       "      <th>pdays</th>\n",
       "      <td>NaN</td>\n",
       "      <td>0.271004</td>\n",
       "      <td>0.078889</td>\n",
       "      <td>0.296899</td>\n",
       "      <td>-0.025398</td>\n",
       "      <td>0.065335</td>\n",
       "      <td>0.019246</td>\n",
       "      <td>-0.001649</td>\n",
       "      <td>0.000254</td>\n",
       "      <td>-0.072084</td>\n",
       "      <td>0.014307</td>\n",
       "      <td>0.030573</td>\n",
       "      <td>-0.096367</td>\n",
       "      <td>0.004575</td>\n",
       "      <td>-0.023085</td>\n",
       "      <td>-0.011419</td>\n",
       "      <td>0.011711</td>\n",
       "      <td>0.031614</td>\n",
       "      <td>-0.042015</td>\n",
       "      <td>-0.005989</td>\n",
       "      <td>0.005804</td>\n",
       "      <td>0.023238</td>\n",
       "      <td>0.036963</td>\n",
       "      <td>0.005522</td>\n",
       "      <td>-0.002086</td>\n",
       "      <td>-0.003493</td>\n",
       "      <td>-0.036958</td>\n",
       "      <td>-0.022014</td>\n",
       "      <td>-0.080072</td>\n",
       "      <td>0.080047</td>\n",
       "      <td>0.001668</td>\n",
       "      <td>0.010131</td>\n",
       "      <td>0.002033</td>\n",
       "      <td>-0.010719</td>\n",
       "      <td>-0.000737</td>\n",
       "      <td>0.002033</td>\n",
       "      <td>-0.000086</td>\n",
       "      <td>-0.117970</td>\n",
       "      <td>0.117970</td>\n",
       "      <td>-0.009629</td>\n",
       "      <td>-0.003176</td>\n",
       "      <td>-0.076425</td>\n",
       "      <td>0.049695</td>\n",
       "      <td>0.015957</td>\n",
       "      <td>-0.078769</td>\n",
       "      <td>0.070690</td>\n",
       "      <td>-0.016946</td>\n",
       "      <td>-0.128677</td>\n",
       "      <td>-0.154629</td>\n",
       "      <td>0.013782</td>\n",
       "      <td>0.001031</td>\n",
       "      <td>-0.008186</td>\n",
       "      <td>-0.007300</td>\n",
       "      <td>0.001021</td>\n",
       "      <td>0.006354</td>\n",
       "      <td>0.491353</td>\n",
       "      <td>-0.950700</td>\n",
       "      <td>-0.999992</td>\n",
       "    </tr>\n",
       "    <tr>\n",
       "      <th>emp.var.rate</th>\n",
       "      <td>NaN</td>\n",
       "      <td>NaN</td>\n",
       "      <td>0.775334</td>\n",
       "      <td>0.972245</td>\n",
       "      <td>-0.024572</td>\n",
       "      <td>0.057264</td>\n",
       "      <td>0.009363</td>\n",
       "      <td>0.036367</td>\n",
       "      <td>-0.016642</td>\n",
       "      <td>-0.103678</td>\n",
       "      <td>0.001477</td>\n",
       "      <td>0.019431</td>\n",
       "      <td>-0.139725</td>\n",
       "      <td>0.054268</td>\n",
       "      <td>-0.019581</td>\n",
       "      <td>0.015789</td>\n",
       "      <td>0.018558</td>\n",
       "      <td>0.080189</td>\n",
       "      <td>-0.099403</td>\n",
       "      <td>-0.008513</td>\n",
       "      <td>0.028660</td>\n",
       "      <td>0.023065</td>\n",
       "      <td>0.020422</td>\n",
       "      <td>-0.017078</td>\n",
       "      <td>-0.002865</td>\n",
       "      <td>0.022154</td>\n",
       "      <td>-0.045331</td>\n",
       "      <td>-0.003038</td>\n",
       "      <td>-0.203285</td>\n",
       "      <td>0.203218</td>\n",
       "      <td>0.004445</td>\n",
       "      <td>0.059100</td>\n",
       "      <td>0.003152</td>\n",
       "      <td>-0.059862</td>\n",
       "      <td>-0.002392</td>\n",
       "      <td>0.003152</td>\n",
       "      <td>0.001193</td>\n",
       "      <td>-0.393584</td>\n",
       "      <td>0.393584</td>\n",
       "      <td>-0.312990</td>\n",
       "      <td>0.177895</td>\n",
       "      <td>-0.124174</td>\n",
       "      <td>0.314863</td>\n",
       "      <td>0.148653</td>\n",
       "      <td>-0.138849</td>\n",
       "      <td>-0.111356</td>\n",
       "      <td>-0.105917</td>\n",
       "      <td>-0.213706</td>\n",
       "      <td>-0.170366</td>\n",
       "      <td>-0.015277</td>\n",
       "      <td>-0.018139</td>\n",
       "      <td>-0.007673</td>\n",
       "      <td>0.014582</td>\n",
       "      <td>0.026797</td>\n",
       "      <td>-0.381706</td>\n",
       "      <td>0.472501</td>\n",
       "      <td>-0.256886</td>\n",
       "      <td>-0.270945</td>\n",
       "    </tr>\n",
       "    <tr>\n",
       "      <th>cons.price.idx</th>\n",
       "      <td>NaN</td>\n",
       "      <td>NaN</td>\n",
       "      <td>NaN</td>\n",
       "      <td>0.688230</td>\n",
       "      <td>-0.041840</td>\n",
       "      <td>0.075322</td>\n",
       "      <td>0.009825</td>\n",
       "      <td>0.028335</td>\n",
       "      <td>-0.025268</td>\n",
       "      <td>-0.052251</td>\n",
       "      <td>-0.005122</td>\n",
       "      <td>0.033282</td>\n",
       "      <td>-0.062117</td>\n",
       "      <td>-0.010849</td>\n",
       "      <td>-0.003262</td>\n",
       "      <td>0.022246</td>\n",
       "      <td>0.018956</td>\n",
       "      <td>0.046424</td>\n",
       "      <td>-0.063013</td>\n",
       "      <td>-0.007958</td>\n",
       "      <td>0.047959</td>\n",
       "      <td>0.031201</td>\n",
       "      <td>0.034202</td>\n",
       "      <td>0.008704</td>\n",
       "      <td>-0.009332</td>\n",
       "      <td>-0.003827</td>\n",
       "      <td>-0.091954</td>\n",
       "      <td>0.030016</td>\n",
       "      <td>-0.168234</td>\n",
       "      <td>0.168322</td>\n",
       "      <td>-0.003141</td>\n",
       "      <td>0.077170</td>\n",
       "      <td>0.016361</td>\n",
       "      <td>-0.081920</td>\n",
       "      <td>-0.000982</td>\n",
       "      <td>0.016361</td>\n",
       "      <td>-0.005944</td>\n",
       "      <td>-0.591474</td>\n",
       "      <td>0.591474</td>\n",
       "      <td>-0.205878</td>\n",
       "      <td>-0.192027</td>\n",
       "      <td>-0.099017</td>\n",
       "      <td>0.253303</td>\n",
       "      <td>0.445513</td>\n",
       "      <td>-0.095783</td>\n",
       "      <td>-0.057274</td>\n",
       "      <td>-0.215273</td>\n",
       "      <td>-0.092174</td>\n",
       "      <td>-0.046905</td>\n",
       "      <td>0.002569</td>\n",
       "      <td>0.001273</td>\n",
       "      <td>-0.017143</td>\n",
       "      <td>0.001216</td>\n",
       "      <td>0.012479</td>\n",
       "      <td>-0.297718</td>\n",
       "      <td>0.304264</td>\n",
       "      <td>-0.077416</td>\n",
       "      <td>-0.078715</td>\n",
       "    </tr>\n",
       "    <tr>\n",
       "      <th>euribor3m</th>\n",
       "      <td>NaN</td>\n",
       "      <td>NaN</td>\n",
       "      <td>NaN</td>\n",
       "      <td>NaN</td>\n",
       "      <td>-0.023831</td>\n",
       "      <td>0.046775</td>\n",
       "      <td>0.018744</td>\n",
       "      <td>0.036392</td>\n",
       "      <td>-0.001590</td>\n",
       "      <td>-0.102454</td>\n",
       "      <td>0.007421</td>\n",
       "      <td>0.014666</td>\n",
       "      <td>-0.147551</td>\n",
       "      <td>0.050793</td>\n",
       "      <td>-0.014171</td>\n",
       "      <td>0.016982</td>\n",
       "      <td>0.019309</td>\n",
       "      <td>0.088908</td>\n",
       "      <td>-0.109479</td>\n",
       "      <td>-0.007840</td>\n",
       "      <td>0.025269</td>\n",
       "      <td>0.021225</td>\n",
       "      <td>0.018334</td>\n",
       "      <td>-0.020583</td>\n",
       "      <td>-0.001263</td>\n",
       "      <td>0.019634</td>\n",
       "      <td>-0.034208</td>\n",
       "      <td>-0.006061</td>\n",
       "      <td>-0.195337</td>\n",
       "      <td>0.195251</td>\n",
       "      <td>0.005274</td>\n",
       "      <td>0.058233</td>\n",
       "      <td>0.002873</td>\n",
       "      <td>-0.058913</td>\n",
       "      <td>-0.000697</td>\n",
       "      <td>0.002873</td>\n",
       "      <td>-0.000487</td>\n",
       "      <td>-0.399773</td>\n",
       "      <td>0.399773</td>\n",
       "      <td>-0.340480</td>\n",
       "      <td>0.164534</td>\n",
       "      <td>-0.105860</td>\n",
       "      <td>0.281835</td>\n",
       "      <td>0.141107</td>\n",
       "      <td>-0.164298</td>\n",
       "      <td>-0.133859</td>\n",
       "      <td>0.019524</td>\n",
       "      <td>-0.185937</td>\n",
       "      <td>-0.190321</td>\n",
       "      <td>-0.015371</td>\n",
       "      <td>-0.023279</td>\n",
       "      <td>-0.013757</td>\n",
       "      <td>0.022732</td>\n",
       "      <td>0.030201</td>\n",
       "      <td>-0.385417</td>\n",
       "      <td>0.488406</td>\n",
       "      <td>-0.281022</td>\n",
       "      <td>-0.296920</td>\n",
       "    </tr>\n",
       "    <tr>\n",
       "      <th>job_admin.</th>\n",
       "      <td>NaN</td>\n",
       "      <td>NaN</td>\n",
       "      <td>NaN</td>\n",
       "      <td>NaN</td>\n",
       "      <td>NaN</td>\n",
       "      <td>-0.313313</td>\n",
       "      <td>-0.111417</td>\n",
       "      <td>-0.094595</td>\n",
       "      <td>-0.160892</td>\n",
       "      <td>-0.121502</td>\n",
       "      <td>-0.110021</td>\n",
       "      <td>-0.190063</td>\n",
       "      <td>-0.085748</td>\n",
       "      <td>-0.257516</td>\n",
       "      <td>-0.092467</td>\n",
       "      <td>-0.052307</td>\n",
       "      <td>0.020013</td>\n",
       "      <td>-0.120494</td>\n",
       "      <td>0.117787</td>\n",
       "      <td>-0.007918</td>\n",
       "      <td>-0.181255</td>\n",
       "      <td>-0.104499</td>\n",
       "      <td>-0.162641</td>\n",
       "      <td>0.122080</td>\n",
       "      <td>-0.009498</td>\n",
       "      <td>-0.161464</td>\n",
       "      <td>0.327321</td>\n",
       "      <td>-0.052604</td>\n",
       "      <td>0.121336</td>\n",
       "      <td>-0.121248</td>\n",
       "      <td>-0.004967</td>\n",
       "      <td>-0.008529</td>\n",
       "      <td>-0.008570</td>\n",
       "      <td>0.011128</td>\n",
       "      <td>-0.015485</td>\n",
       "      <td>-0.008570</td>\n",
       "      <td>0.020088</td>\n",
       "      <td>0.059227</td>\n",
       "      <td>-0.059227</td>\n",
       "      <td>-0.005021</td>\n",
       "      <td>0.074408</td>\n",
       "      <td>0.003324</td>\n",
       "      <td>-0.000040</td>\n",
       "      <td>-0.017926</td>\n",
       "      <td>0.015060</td>\n",
       "      <td>-0.055052</td>\n",
       "      <td>0.008823</td>\n",
       "      <td>0.006538</td>\n",
       "      <td>0.010407</td>\n",
       "      <td>0.009892</td>\n",
       "      <td>-0.000736</td>\n",
       "      <td>-0.003970</td>\n",
       "      <td>-0.001835</td>\n",
       "      <td>-0.003112</td>\n",
       "      <td>0.002771</td>\n",
       "      <td>-0.015560</td>\n",
       "      <td>0.025069</td>\n",
       "      <td>0.025412</td>\n",
       "    </tr>\n",
       "  </tbody>\n",
       "</table>\n",
       "</div>"
      ],
      "text/plain": [
       "                pdays  emp.var.rate  cons.price.idx  euribor3m  job_admin.  \\\n",
       "pdays             NaN      0.271004        0.078889   0.296899   -0.025398   \n",
       "emp.var.rate      NaN           NaN        0.775334   0.972245   -0.024572   \n",
       "cons.price.idx    NaN           NaN             NaN   0.688230   -0.041840   \n",
       "euribor3m         NaN           NaN             NaN        NaN   -0.023831   \n",
       "job_admin.        NaN           NaN             NaN        NaN         NaN   \n",
       "\n",
       "                job_blue-collar  job_entrepreneur  job_housemaid  \\\n",
       "pdays                  0.065335          0.019246      -0.001649   \n",
       "emp.var.rate           0.057264          0.009363       0.036367   \n",
       "cons.price.idx         0.075322          0.009825       0.028335   \n",
       "euribor3m              0.046775          0.018744       0.036392   \n",
       "job_admin.            -0.313313         -0.111417      -0.094595   \n",
       "\n",
       "                job_management  job_retired  job_self-employed  job_services  \\\n",
       "pdays                 0.000254    -0.072084           0.014307      0.030573   \n",
       "emp.var.rate         -0.016642    -0.103678           0.001477      0.019431   \n",
       "cons.price.idx       -0.025268    -0.052251          -0.005122      0.033282   \n",
       "euribor3m            -0.001590    -0.102454           0.007421      0.014666   \n",
       "job_admin.           -0.160892    -0.121502          -0.110021     -0.190063   \n",
       "\n",
       "                job_student  job_technician  job_unemployed  job_unknown  \\\n",
       "pdays             -0.096367        0.004575       -0.023085    -0.011419   \n",
       "emp.var.rate      -0.139725        0.054268       -0.019581     0.015789   \n",
       "cons.price.idx    -0.062117       -0.010849       -0.003262     0.022246   \n",
       "euribor3m         -0.147551        0.050793       -0.014171     0.016982   \n",
       "job_admin.        -0.085748       -0.257516       -0.092467    -0.052307   \n",
       "\n",
       "                marital_divorced  marital_married  marital_single  \\\n",
       "pdays                   0.011711         0.031614       -0.042015   \n",
       "emp.var.rate            0.018558         0.080189       -0.099403   \n",
       "cons.price.idx          0.018956         0.046424       -0.063013   \n",
       "euribor3m               0.019309         0.088908       -0.109479   \n",
       "job_admin.              0.020013        -0.120494        0.117787   \n",
       "\n",
       "                marital_unknown  education_basic.4y  education_basic.6y  \\\n",
       "pdays                 -0.005989            0.005804            0.023238   \n",
       "emp.var.rate          -0.008513            0.028660            0.023065   \n",
       "cons.price.idx        -0.007958            0.047959            0.031201   \n",
       "euribor3m             -0.007840            0.025269            0.021225   \n",
       "job_admin.            -0.007918           -0.181255           -0.104499   \n",
       "\n",
       "                education_basic.9y  education_high.school  \\\n",
       "pdays                     0.036963               0.005522   \n",
       "emp.var.rate              0.020422              -0.017078   \n",
       "cons.price.idx            0.034202               0.008704   \n",
       "euribor3m                 0.018334              -0.020583   \n",
       "job_admin.               -0.162641               0.122080   \n",
       "\n",
       "                education_illiterate  education_professional.course  \\\n",
       "pdays                      -0.002086                      -0.003493   \n",
       "emp.var.rate               -0.002865                       0.022154   \n",
       "cons.price.idx             -0.009332                      -0.003827   \n",
       "euribor3m                  -0.001263                       0.019634   \n",
       "job_admin.                 -0.009498                      -0.161464   \n",
       "\n",
       "                education_university.degree  education_unknown  default_no  \\\n",
       "pdays                             -0.036958          -0.022014   -0.080072   \n",
       "emp.var.rate                      -0.045331          -0.003038   -0.203285   \n",
       "cons.price.idx                    -0.091954           0.030016   -0.168234   \n",
       "euribor3m                         -0.034208          -0.006061   -0.195337   \n",
       "job_admin.                         0.327321          -0.052604    0.121336   \n",
       "\n",
       "                default_unknown  default_yes  housing_no  housing_unknown  \\\n",
       "pdays                  0.080047     0.001668    0.010131         0.002033   \n",
       "emp.var.rate           0.203218     0.004445    0.059100         0.003152   \n",
       "cons.price.idx         0.168322    -0.003141    0.077170         0.016361   \n",
       "euribor3m              0.195251     0.005274    0.058233         0.002873   \n",
       "job_admin.            -0.121248    -0.004967   -0.008529        -0.008570   \n",
       "\n",
       "                housing_yes   loan_no  loan_unknown  loan_yes  \\\n",
       "pdays             -0.010719 -0.000737      0.002033 -0.000086   \n",
       "emp.var.rate      -0.059862 -0.002392      0.003152  0.001193   \n",
       "cons.price.idx    -0.081920 -0.000982      0.016361 -0.005944   \n",
       "euribor3m         -0.058913 -0.000697      0.002873 -0.000487   \n",
       "job_admin.         0.011128 -0.015485     -0.008570  0.020088   \n",
       "\n",
       "                contact_cellular  contact_telephone  month_apr  month_aug  \\\n",
       "pdays                  -0.117970           0.117970  -0.009629  -0.003176   \n",
       "emp.var.rate           -0.393584           0.393584  -0.312990   0.177895   \n",
       "cons.price.idx         -0.591474           0.591474  -0.205878  -0.192027   \n",
       "euribor3m              -0.399773           0.399773  -0.340480   0.164534   \n",
       "job_admin.              0.059227          -0.059227  -0.005021   0.074408   \n",
       "\n",
       "                month_dec  month_jul  month_jun  month_mar  month_may  \\\n",
       "pdays           -0.076425   0.049695   0.015957  -0.078769   0.070690   \n",
       "emp.var.rate    -0.124174   0.314863   0.148653  -0.138849  -0.111356   \n",
       "cons.price.idx  -0.099017   0.253303   0.445513  -0.095783  -0.057274   \n",
       "euribor3m       -0.105860   0.281835   0.141107  -0.164298  -0.133859   \n",
       "job_admin.       0.003324  -0.000040  -0.017926   0.015060  -0.055052   \n",
       "\n",
       "                month_nov  month_oct  month_sep  day_of_week_fri  \\\n",
       "pdays           -0.016946  -0.128677  -0.154629         0.013782   \n",
       "emp.var.rate    -0.105917  -0.213706  -0.170366        -0.015277   \n",
       "cons.price.idx  -0.215273  -0.092174  -0.046905         0.002569   \n",
       "euribor3m        0.019524  -0.185937  -0.190321        -0.015371   \n",
       "job_admin.       0.008823   0.006538   0.010407         0.009892   \n",
       "\n",
       "                day_of_week_mon  day_of_week_thu  day_of_week_tue  \\\n",
       "pdays                  0.001031        -0.008186        -0.007300   \n",
       "emp.var.rate          -0.018139        -0.007673         0.014582   \n",
       "cons.price.idx         0.001273        -0.017143         0.001216   \n",
       "euribor3m             -0.023279        -0.013757         0.022732   \n",
       "job_admin.            -0.000736        -0.003970        -0.001835   \n",
       "\n",
       "                day_of_week_wed  poutcome_failure  poutcome_nonexistent  \\\n",
       "pdays                  0.001021          0.006354              0.491353   \n",
       "emp.var.rate           0.026797         -0.381706              0.472501   \n",
       "cons.price.idx         0.012479         -0.297718              0.304264   \n",
       "euribor3m              0.030201         -0.385417              0.488406   \n",
       "job_admin.            -0.003112          0.002771             -0.015560   \n",
       "\n",
       "                poutcome_success  previous_contact  \n",
       "pdays                  -0.950700         -0.999992  \n",
       "emp.var.rate           -0.256886         -0.270945  \n",
       "cons.price.idx         -0.077416         -0.078715  \n",
       "euribor3m              -0.281022         -0.296920  \n",
       "job_admin.              0.025069          0.025412  "
      ]
     },
     "execution_count": 967,
     "metadata": {},
     "output_type": "execute_result"
    }
   ],
   "source": [
    "# Highly correlated features\n",
    "\n",
    "corr_mat = X_df_2.corr()\n",
    "half_corr_mat = corr_mat.where(np.triu(np.ones(corr_mat.shape), k=1).astype(np.bool))\n",
    "half_corr_mat.head()"
   ]
  },
  {
   "cell_type": "code",
   "execution_count": 968,
   "metadata": {},
   "outputs": [
    {
     "data": {
      "text/plain": [
       "3"
      ]
     },
     "execution_count": 968,
     "metadata": {},
     "output_type": "execute_result"
    }
   ],
   "source": [
    "len([col for col in half_corr_mat if any(half_corr_mat[col] > 0.85)])"
   ]
  },
  {
   "cell_type": "code",
   "execution_count": null,
   "metadata": {},
   "outputs": [],
   "source": []
  },
  {
   "cell_type": "code",
   "execution_count": null,
   "metadata": {},
   "outputs": [],
   "source": []
  },
  {
   "cell_type": "code",
   "execution_count": null,
   "metadata": {},
   "outputs": [],
   "source": []
  },
  {
   "cell_type": "code",
   "execution_count": null,
   "metadata": {},
   "outputs": [],
   "source": []
  },
  {
   "cell_type": "code",
   "execution_count": 969,
   "metadata": {},
   "outputs": [
    {
     "data": {
      "text/plain": [
       "((28831, 62), (12357, 62), (28831,), (12357,))"
      ]
     },
     "execution_count": 969,
     "metadata": {},
     "output_type": "execute_result"
    }
   ],
   "source": [
    "X_train, X_test, y_train, y_test = train_test_split(X_df_2, y, test_size = 0.3, random_state = 10)\n",
    "X_train.shape, X_test.shape, y_train.shape, y_test.shape"
   ]
  },
  {
   "cell_type": "code",
   "execution_count": 970,
   "metadata": {},
   "outputs": [],
   "source": [
    "# Normalizing continuous variables\n",
    "\n",
    "from sklearn.preprocessing import MinMaxScaler\n",
    "\n",
    "scaler = MinMaxScaler(feature_range = (0,1))\n",
    "\n",
    "scaler.fit(X_train)\n",
    "X_train = scaler.transform(X_train)\n",
    "X_test = scaler.transform(X_test)"
   ]
  },
  {
   "cell_type": "code",
   "execution_count": 971,
   "metadata": {},
   "outputs": [
    {
     "name": "stdout",
     "output_type": "stream",
     "text": [
      "0.8959294327102048\n"
     ]
    },
    {
     "data": {
      "image/png": "[encoded data removed]",
      "text/plain": [
       "<Figure size 432x288 with 1 Axes>"
      ]
     },
     "metadata": {
      "needs_background": "light"
     },
     "output_type": "display_data"
    }
   ],
   "source": [
    "clf = LogisticRegression()\n",
    "model_norm = clf.fit(X_train, y_train)\n",
    "# y_pred = model_norm.predict(X_test)\n",
    "print(model_norm.score(X_test, y_test))\n",
    "\n",
    "# logit_roc_auc = roc_auc_score(y_test, model_norm.predict(X_test))\n",
    "# fpr, tpr, thresholds = roc_curve(y_test, model_norm.predict_proba(X_test)[:,1])\n",
    "\n",
    "probs = model_norm.predict_proba(X_test)\n",
    "preds = probs[:,1]\n",
    "normfpr, normtpr, normthreshold = metrics.roc_curve(y_test, preds)\n",
    "norm_roc_auc = metrics.auc(normfpr, normtpr)\n",
    "\n",
    "plt.figure()\n",
    "plt.plot(fpr, tpr, label='Logistic Regression (area = %0.2f)' % norm_roc_auc)\n",
    "plt.plot([0, 1], [0, 1],'r--')\n",
    "plt.xlim([0.0, 1.0])\n",
    "plt.ylim([0.0, 1.05])\n",
    "plt.xlabel('False Positive Rate')\n",
    "plt.ylabel('True Positive Rate')\n",
    "plt.title('Receiver operating characteristic')\n",
    "plt.legend(loc=\"lower right\")\n",
    "plt.savefig('Log_ROC')\n",
    "plt.show()"
   ]
  },
  {
   "cell_type": "code",
   "execution_count": 972,
   "metadata": {},
   "outputs": [],
   "source": [
    "sm = SMOTE(random_state = 2)\n",
    "X_train_res, y_train_res = sm.fit_sample(X_train, y_train.ravel())"
   ]
  },
  {
   "cell_type": "code",
   "execution_count": 973,
   "metadata": {},
   "outputs": [
    {
     "name": "stdout",
     "output_type": "stream",
     "text": [
      "0.8137897547948532\n"
     ]
    }
   ],
   "source": [
    "clf = LogisticRegression()\n",
    "model_res = clf.fit(X_train_res, y_train_res)\n",
    "print(model_res.score(X_test, y_test))"
   ]
  },
  {
   "cell_type": "code",
   "execution_count": 974,
   "metadata": {},
   "outputs": [
    {
     "data": {
      "image/png": "[encoded data removed]",
      "text/plain": [
       "<Figure size 432x288 with 1 Axes>"
      ]
     },
     "metadata": {
      "needs_background": "light"
     },
     "output_type": "display_data"
    }
   ],
   "source": [
    "probs = model_res.predict_proba(X_test)\n",
    "preds = probs[:,1]\n",
    "resfpr, restpr, resthreshold = metrics.roc_curve(y_test, preds)\n",
    "res_roc_auc = metrics.auc(resfpr, restpr)\n",
    "\n",
    "plt.figure()\n",
    "plt.plot(fpr, tpr, label='Logistic Regression (area = %0.2f)' % res_roc_auc)\n",
    "plt.plot([0, 1], [0, 1],'r--')\n",
    "plt.xlim([0.0, 1.0])\n",
    "plt.ylim([0.0, 1.05])\n",
    "plt.xlabel('False Positive Rate')\n",
    "plt.ylabel('True Positive Rate')\n",
    "plt.title('Receiver operating characteristic')\n",
    "plt.legend(loc=\"lower right\")\n",
    "plt.savefig('Log_ROC')\n",
    "plt.show()"
   ]
  },
  {
   "cell_type": "markdown",
   "metadata": {},
   "source": [
    "## Random Forest Implementation"
   ]
  },
  {
   "cell_type": "code",
   "execution_count": null,
   "metadata": {},
   "outputs": [],
   "source": []
  },
  {
   "cell_type": "code",
   "execution_count": null,
   "metadata": {},
   "outputs": [],
   "source": []
  },
  {
   "cell_type": "code",
   "execution_count": 975,
   "metadata": {},
   "outputs": [
    {
     "ename": "NameError",
     "evalue": "name 'cross_val_score' is not defined",
     "output_type": "error",
     "traceback": [
      "\u001b[0;31m---------------------------------------------------------------------------\u001b[0m",
      "\u001b[0;31mNameError\u001b[0m                                 Traceback (most recent call last)",
      "\u001b[0;32m<ipython-input-975-47050a44ccd7>\u001b[0m in \u001b[0;36m<module>\u001b[0;34m()\u001b[0m\n\u001b[0;32m----> 1\u001b[0;31m \u001b[0mcross_val_score\u001b[0m\u001b[0;34m(\u001b[0m\u001b[0mlogit_model\u001b[0m\u001b[0;34m,\u001b[0m \u001b[0mX_train\u001b[0m\u001b[0;34m,\u001b[0m \u001b[0my_train\u001b[0m\u001b[0;34m,\u001b[0m \u001b[0mcv\u001b[0m\u001b[0;34m=\u001b[0m\u001b[0mk_fold\u001b[0m\u001b[0;34m,\u001b[0m \u001b[0mn_jobs\u001b[0m\u001b[0;34m=\u001b[0m\u001b[0;36m1\u001b[0m\u001b[0;34m,\u001b[0m \u001b[0mscoring\u001b[0m \u001b[0;34m=\u001b[0m \u001b[0;34m'accuracy'\u001b[0m\u001b[0;34m)\u001b[0m\u001b[0;34m.\u001b[0m\u001b[0mmean\u001b[0m\u001b[0;34m(\u001b[0m\u001b[0;34m)\u001b[0m\u001b[0;34m\u001b[0m\u001b[0m\n\u001b[0m",
      "\u001b[0;31mNameError\u001b[0m: name 'cross_val_score' is not defined"
     ]
    }
   ],
   "source": [
    "\n",
    "cross_val_score(logit_model, X_train, y_train, cv=k_fold, n_jobs=1, scoring = 'accuracy').mean()"
   ]
  },
  {
   "cell_type": "code",
   "execution_count": null,
   "metadata": {},
   "outputs": [],
   "source": []
  }
 ],
 "metadata": {
  "kernelspec": {
   "display_name": "Python 3",
   "language": "python",
   "name": "python3"
  },
  "language_info": {
   "codemirror_mode": {
    "name": "ipython",
    "version": 3
   },
   "file_extension": ".py",
   "mimetype": "text/x-python",
   "name": "python",
   "nbconvert_exporter": "python",
   "pygments_lexer": "ipython3",
   "version": "3.6.6"
  }
 },
 "nbformat": 4,
 "nbformat_minor": 2
}

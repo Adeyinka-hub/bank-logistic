{
 "cells": [
  {
   "cell_type": "code",
   "execution_count": 1414,
   "metadata": {},
   "outputs": [],
   "source": [
    "%matplotlib inline\n",
    "\n",
    "import pandas as pd\n",
    "from IPython.display import display\n",
    "pd.options.display.max_columns = None\n",
    "import gc\n",
    "import matplotlib.pyplot as plt\n",
    "import seaborn as sb\n",
    "from fastai.imports import *\n",
    "# from fastai.structured import *\n",
    "from pandas_summary import DataFrameSummary\n",
    "from sklearn.ensemble import RandomForestRegressor, RandomForestClassifier\n",
    "from IPython.display import display\n",
    "from sklearn import metrics\n",
    "import missingno as msno\n",
    "from sklearn.model_selection import train_test_split\n",
    "import statistics\n",
    "from imblearn.over_sampling import SMOTE"
   ]
  },
  {
   "cell_type": "code",
   "execution_count": 1415,
   "metadata": {},
   "outputs": [],
   "source": [
    "df = pd.read_csv('bank-marketing/bank-additional-full.csv', sep=';')\n",
    "# df['id'] = df.index + 1"
   ]
  },
  {
   "cell_type": "code",
   "execution_count": 1416,
   "metadata": {},
   "outputs": [
    {
     "data": {
      "text/html": [
       "<div>\n",
       "<style scoped>\n",
       "    .dataframe tbody tr th:only-of-type {\n",
       "        vertical-align: middle;\n",
       "    }\n",
       "\n",
       "    .dataframe tbody tr th {\n",
       "        vertical-align: top;\n",
       "    }\n",
       "\n",
       "    .dataframe thead th {\n",
       "        text-align: right;\n",
       "    }\n",
       "</style>\n",
       "<table border=\"1\" class=\"dataframe\">\n",
       "  <thead>\n",
       "    <tr style=\"text-align: right;\">\n",
       "      <th></th>\n",
       "      <th>age</th>\n",
       "      <th>job</th>\n",
       "      <th>marital</th>\n",
       "      <th>education</th>\n",
       "      <th>default</th>\n",
       "      <th>housing</th>\n",
       "      <th>loan</th>\n",
       "      <th>contact</th>\n",
       "      <th>month</th>\n",
       "      <th>day_of_week</th>\n",
       "      <th>duration</th>\n",
       "      <th>campaign</th>\n",
       "      <th>pdays</th>\n",
       "      <th>previous</th>\n",
       "      <th>poutcome</th>\n",
       "      <th>emp.var.rate</th>\n",
       "      <th>cons.price.idx</th>\n",
       "      <th>cons.conf.idx</th>\n",
       "      <th>euribor3m</th>\n",
       "      <th>nr.employed</th>\n",
       "      <th>y</th>\n",
       "    </tr>\n",
       "  </thead>\n",
       "  <tbody>\n",
       "    <tr>\n",
       "      <th>0</th>\n",
       "      <td>56</td>\n",
       "      <td>housemaid</td>\n",
       "      <td>married</td>\n",
       "      <td>basic.4y</td>\n",
       "      <td>no</td>\n",
       "      <td>no</td>\n",
       "      <td>no</td>\n",
       "      <td>telephone</td>\n",
       "      <td>may</td>\n",
       "      <td>mon</td>\n",
       "      <td>261</td>\n",
       "      <td>1</td>\n",
       "      <td>999</td>\n",
       "      <td>0</td>\n",
       "      <td>nonexistent</td>\n",
       "      <td>1.1</td>\n",
       "      <td>93.994</td>\n",
       "      <td>-36.4</td>\n",
       "      <td>4.857</td>\n",
       "      <td>5191.0</td>\n",
       "      <td>no</td>\n",
       "    </tr>\n",
       "    <tr>\n",
       "      <th>1</th>\n",
       "      <td>57</td>\n",
       "      <td>services</td>\n",
       "      <td>married</td>\n",
       "      <td>high.school</td>\n",
       "      <td>unknown</td>\n",
       "      <td>no</td>\n",
       "      <td>no</td>\n",
       "      <td>telephone</td>\n",
       "      <td>may</td>\n",
       "      <td>mon</td>\n",
       "      <td>149</td>\n",
       "      <td>1</td>\n",
       "      <td>999</td>\n",
       "      <td>0</td>\n",
       "      <td>nonexistent</td>\n",
       "      <td>1.1</td>\n",
       "      <td>93.994</td>\n",
       "      <td>-36.4</td>\n",
       "      <td>4.857</td>\n",
       "      <td>5191.0</td>\n",
       "      <td>no</td>\n",
       "    </tr>\n",
       "    <tr>\n",
       "      <th>2</th>\n",
       "      <td>37</td>\n",
       "      <td>services</td>\n",
       "      <td>married</td>\n",
       "      <td>high.school</td>\n",
       "      <td>no</td>\n",
       "      <td>yes</td>\n",
       "      <td>no</td>\n",
       "      <td>telephone</td>\n",
       "      <td>may</td>\n",
       "      <td>mon</td>\n",
       "      <td>226</td>\n",
       "      <td>1</td>\n",
       "      <td>999</td>\n",
       "      <td>0</td>\n",
       "      <td>nonexistent</td>\n",
       "      <td>1.1</td>\n",
       "      <td>93.994</td>\n",
       "      <td>-36.4</td>\n",
       "      <td>4.857</td>\n",
       "      <td>5191.0</td>\n",
       "      <td>no</td>\n",
       "    </tr>\n",
       "    <tr>\n",
       "      <th>3</th>\n",
       "      <td>40</td>\n",
       "      <td>admin.</td>\n",
       "      <td>married</td>\n",
       "      <td>basic.6y</td>\n",
       "      <td>no</td>\n",
       "      <td>no</td>\n",
       "      <td>no</td>\n",
       "      <td>telephone</td>\n",
       "      <td>may</td>\n",
       "      <td>mon</td>\n",
       "      <td>151</td>\n",
       "      <td>1</td>\n",
       "      <td>999</td>\n",
       "      <td>0</td>\n",
       "      <td>nonexistent</td>\n",
       "      <td>1.1</td>\n",
       "      <td>93.994</td>\n",
       "      <td>-36.4</td>\n",
       "      <td>4.857</td>\n",
       "      <td>5191.0</td>\n",
       "      <td>no</td>\n",
       "    </tr>\n",
       "    <tr>\n",
       "      <th>4</th>\n",
       "      <td>56</td>\n",
       "      <td>services</td>\n",
       "      <td>married</td>\n",
       "      <td>high.school</td>\n",
       "      <td>no</td>\n",
       "      <td>no</td>\n",
       "      <td>yes</td>\n",
       "      <td>telephone</td>\n",
       "      <td>may</td>\n",
       "      <td>mon</td>\n",
       "      <td>307</td>\n",
       "      <td>1</td>\n",
       "      <td>999</td>\n",
       "      <td>0</td>\n",
       "      <td>nonexistent</td>\n",
       "      <td>1.1</td>\n",
       "      <td>93.994</td>\n",
       "      <td>-36.4</td>\n",
       "      <td>4.857</td>\n",
       "      <td>5191.0</td>\n",
       "      <td>no</td>\n",
       "    </tr>\n",
       "  </tbody>\n",
       "</table>\n",
       "</div>"
      ],
      "text/plain": [
       "   age        job  marital    education  default housing loan    contact  \\\n",
       "0   56  housemaid  married     basic.4y       no      no   no  telephone   \n",
       "1   57   services  married  high.school  unknown      no   no  telephone   \n",
       "2   37   services  married  high.school       no     yes   no  telephone   \n",
       "3   40     admin.  married     basic.6y       no      no   no  telephone   \n",
       "4   56   services  married  high.school       no      no  yes  telephone   \n",
       "\n",
       "  month day_of_week  duration  campaign  pdays  previous     poutcome  \\\n",
       "0   may         mon       261         1    999         0  nonexistent   \n",
       "1   may         mon       149         1    999         0  nonexistent   \n",
       "2   may         mon       226         1    999         0  nonexistent   \n",
       "3   may         mon       151         1    999         0  nonexistent   \n",
       "4   may         mon       307         1    999         0  nonexistent   \n",
       "\n",
       "   emp.var.rate  cons.price.idx  cons.conf.idx  euribor3m  nr.employed   y  \n",
       "0           1.1          93.994          -36.4      4.857       5191.0  no  \n",
       "1           1.1          93.994          -36.4      4.857       5191.0  no  \n",
       "2           1.1          93.994          -36.4      4.857       5191.0  no  \n",
       "3           1.1          93.994          -36.4      4.857       5191.0  no  \n",
       "4           1.1          93.994          -36.4      4.857       5191.0  no  "
      ]
     },
     "execution_count": 1416,
     "metadata": {},
     "output_type": "execute_result"
    }
   ],
   "source": [
    "df.head()"
   ]
  },
  {
   "cell_type": "code",
   "execution_count": 1417,
   "metadata": {},
   "outputs": [
    {
     "data": {
      "text/plain": [
       "(41188, 21)"
      ]
     },
     "execution_count": 1417,
     "metadata": {},
     "output_type": "execute_result"
    }
   ],
   "source": [
    "df.shape"
   ]
  },
  {
   "cell_type": "code",
   "execution_count": 1418,
   "metadata": {},
   "outputs": [
    {
     "data": {
      "text/plain": [
       "<matplotlib.axes._subplots.AxesSubplot at 0x1c8ec6f6d8>"
      ]
     },
     "execution_count": 1418,
     "metadata": {},
     "output_type": "execute_result"
    },
    {
     "data": {
      "image/png": "[encoded data removed]",
      "text/plain": [
       "<Figure size 1728x720 with 3 Axes>"
      ]
     },
     "metadata": {
      "needs_background": "light"
     },
     "output_type": "display_data"
    }
   ],
   "source": [
    "msno.bar(df)"
   ]
  },
  {
   "cell_type": "code",
   "execution_count": 1419,
   "metadata": {},
   "outputs": [
    {
     "data": {
      "text/plain": [
       "((41188, 20), (41188,))"
      ]
     },
     "execution_count": 1419,
     "metadata": {},
     "output_type": "execute_result"
    }
   ],
   "source": [
    "# Split into predictor and response dataframes.\n",
    "\n",
    "X_df = df.drop('y', axis=1)\n",
    "y = df['y']\n",
    "\n",
    "X_df.shape,y.shape"
   ]
  },
  {
   "cell_type": "code",
   "execution_count": 1420,
   "metadata": {},
   "outputs": [],
   "source": [
    "# Map response variable to integers 0,1.\n",
    "\n",
    "y = pd.Series(np.where(y.values == 'yes',1,0), y.index)"
   ]
  },
  {
   "cell_type": "code",
   "execution_count": 1421,
   "metadata": {},
   "outputs": [
    {
     "data": {
      "text/plain": [
       "0    36548\n",
       "1     4640\n",
       "dtype: int64"
      ]
     },
     "execution_count": 1421,
     "metadata": {},
     "output_type": "execute_result"
    }
   ],
   "source": [
    "y.value_counts()"
   ]
  },
  {
   "cell_type": "code",
   "execution_count": 1422,
   "metadata": {},
   "outputs": [],
   "source": [
    "# Separating with continuous and categorical variables.\n",
    "\n",
    "X_cont = ['age', 'campaign', 'pdays', 'previous', 'emp.var.rate', 'cons.price.idx', 'euribor3m', 'nr.employed']\n",
    "X_cat = ['job', 'marital', 'education', 'default', 'housing', 'loan', 'contact', 'month', 'day_of_week', 'poutcome']\n",
    "\n",
    "cont_df = X_df[X_cont]\n",
    "cat_df = X_df[X_cat]"
   ]
  },
  {
   "cell_type": "code",
   "execution_count": 1423,
   "metadata": {},
   "outputs": [
    {
     "data": {
      "text/html": [
       "<div>\n",
       "<style scoped>\n",
       "    .dataframe tbody tr th:only-of-type {\n",
       "        vertical-align: middle;\n",
       "    }\n",
       "\n",
       "    .dataframe tbody tr th {\n",
       "        vertical-align: top;\n",
       "    }\n",
       "\n",
       "    .dataframe thead th {\n",
       "        text-align: right;\n",
       "    }\n",
       "</style>\n",
       "<table border=\"1\" class=\"dataframe\">\n",
       "  <thead>\n",
       "    <tr style=\"text-align: right;\">\n",
       "      <th></th>\n",
       "      <th>job</th>\n",
       "      <th>marital</th>\n",
       "      <th>education</th>\n",
       "      <th>default</th>\n",
       "      <th>housing</th>\n",
       "      <th>loan</th>\n",
       "      <th>contact</th>\n",
       "      <th>month</th>\n",
       "      <th>day_of_week</th>\n",
       "      <th>poutcome</th>\n",
       "    </tr>\n",
       "  </thead>\n",
       "  <tbody>\n",
       "    <tr>\n",
       "      <th>0</th>\n",
       "      <td>housemaid</td>\n",
       "      <td>married</td>\n",
       "      <td>basic.4y</td>\n",
       "      <td>no</td>\n",
       "      <td>no</td>\n",
       "      <td>no</td>\n",
       "      <td>telephone</td>\n",
       "      <td>may</td>\n",
       "      <td>mon</td>\n",
       "      <td>nonexistent</td>\n",
       "    </tr>\n",
       "    <tr>\n",
       "      <th>1</th>\n",
       "      <td>services</td>\n",
       "      <td>married</td>\n",
       "      <td>high.school</td>\n",
       "      <td>unknown</td>\n",
       "      <td>no</td>\n",
       "      <td>no</td>\n",
       "      <td>telephone</td>\n",
       "      <td>may</td>\n",
       "      <td>mon</td>\n",
       "      <td>nonexistent</td>\n",
       "    </tr>\n",
       "    <tr>\n",
       "      <th>2</th>\n",
       "      <td>services</td>\n",
       "      <td>married</td>\n",
       "      <td>high.school</td>\n",
       "      <td>no</td>\n",
       "      <td>yes</td>\n",
       "      <td>no</td>\n",
       "      <td>telephone</td>\n",
       "      <td>may</td>\n",
       "      <td>mon</td>\n",
       "      <td>nonexistent</td>\n",
       "    </tr>\n",
       "    <tr>\n",
       "      <th>3</th>\n",
       "      <td>admin.</td>\n",
       "      <td>married</td>\n",
       "      <td>basic.6y</td>\n",
       "      <td>no</td>\n",
       "      <td>no</td>\n",
       "      <td>no</td>\n",
       "      <td>telephone</td>\n",
       "      <td>may</td>\n",
       "      <td>mon</td>\n",
       "      <td>nonexistent</td>\n",
       "    </tr>\n",
       "    <tr>\n",
       "      <th>4</th>\n",
       "      <td>services</td>\n",
       "      <td>married</td>\n",
       "      <td>high.school</td>\n",
       "      <td>no</td>\n",
       "      <td>no</td>\n",
       "      <td>yes</td>\n",
       "      <td>telephone</td>\n",
       "      <td>may</td>\n",
       "      <td>mon</td>\n",
       "      <td>nonexistent</td>\n",
       "    </tr>\n",
       "  </tbody>\n",
       "</table>\n",
       "</div>"
      ],
      "text/plain": [
       "         job  marital    education  default housing loan    contact month  \\\n",
       "0  housemaid  married     basic.4y       no      no   no  telephone   may   \n",
       "1   services  married  high.school  unknown      no   no  telephone   may   \n",
       "2   services  married  high.school       no     yes   no  telephone   may   \n",
       "3     admin.  married     basic.6y       no      no   no  telephone   may   \n",
       "4   services  married  high.school       no      no  yes  telephone   may   \n",
       "\n",
       "  day_of_week     poutcome  \n",
       "0         mon  nonexistent  \n",
       "1         mon  nonexistent  \n",
       "2         mon  nonexistent  \n",
       "3         mon  nonexistent  \n",
       "4         mon  nonexistent  "
      ]
     },
     "execution_count": 1423,
     "metadata": {},
     "output_type": "execute_result"
    }
   ],
   "source": [
    "# Converting categorical features to numerical values.\n",
    "\n",
    "cat_df.head()"
   ]
  },
  {
   "cell_type": "code",
   "execution_count": 1424,
   "metadata": {},
   "outputs": [],
   "source": [
    "# Initial numeric dataframe\n",
    "\n",
    "X_df = cont_df.join(pd.get_dummies(cat_df))"
   ]
  },
  {
   "cell_type": "code",
   "execution_count": 1425,
   "metadata": {},
   "outputs": [
    {
     "data": {
      "text/plain": [
       "(41188, 61)"
      ]
     },
     "execution_count": 1425,
     "metadata": {},
     "output_type": "execute_result"
    }
   ],
   "source": [
    "X_df.shape"
   ]
  },
  {
   "cell_type": "code",
   "execution_count": 1426,
   "metadata": {},
   "outputs": [
    {
     "data": {
      "text/html": [
       "<div>\n",
       "<style scoped>\n",
       "    .dataframe tbody tr th:only-of-type {\n",
       "        vertical-align: middle;\n",
       "    }\n",
       "\n",
       "    .dataframe tbody tr th {\n",
       "        vertical-align: top;\n",
       "    }\n",
       "\n",
       "    .dataframe thead th {\n",
       "        text-align: right;\n",
       "    }\n",
       "</style>\n",
       "<table border=\"1\" class=\"dataframe\">\n",
       "  <thead>\n",
       "    <tr style=\"text-align: right;\">\n",
       "      <th></th>\n",
       "      <th>age</th>\n",
       "      <th>campaign</th>\n",
       "      <th>pdays</th>\n",
       "      <th>previous</th>\n",
       "      <th>emp.var.rate</th>\n",
       "      <th>cons.price.idx</th>\n",
       "      <th>euribor3m</th>\n",
       "      <th>nr.employed</th>\n",
       "      <th>job_admin.</th>\n",
       "      <th>job_blue-collar</th>\n",
       "      <th>job_entrepreneur</th>\n",
       "      <th>job_housemaid</th>\n",
       "      <th>job_management</th>\n",
       "      <th>job_retired</th>\n",
       "      <th>job_self-employed</th>\n",
       "      <th>job_services</th>\n",
       "      <th>job_student</th>\n",
       "      <th>job_technician</th>\n",
       "      <th>job_unemployed</th>\n",
       "      <th>job_unknown</th>\n",
       "      <th>marital_divorced</th>\n",
       "      <th>marital_married</th>\n",
       "      <th>marital_single</th>\n",
       "      <th>marital_unknown</th>\n",
       "      <th>education_basic.4y</th>\n",
       "      <th>education_basic.6y</th>\n",
       "      <th>education_basic.9y</th>\n",
       "      <th>education_high.school</th>\n",
       "      <th>education_illiterate</th>\n",
       "      <th>education_professional.course</th>\n",
       "      <th>education_university.degree</th>\n",
       "      <th>education_unknown</th>\n",
       "      <th>default_no</th>\n",
       "      <th>default_unknown</th>\n",
       "      <th>default_yes</th>\n",
       "      <th>housing_no</th>\n",
       "      <th>housing_unknown</th>\n",
       "      <th>housing_yes</th>\n",
       "      <th>loan_no</th>\n",
       "      <th>loan_unknown</th>\n",
       "      <th>loan_yes</th>\n",
       "      <th>contact_cellular</th>\n",
       "      <th>contact_telephone</th>\n",
       "      <th>month_apr</th>\n",
       "      <th>month_aug</th>\n",
       "      <th>month_dec</th>\n",
       "      <th>month_jul</th>\n",
       "      <th>month_jun</th>\n",
       "      <th>month_mar</th>\n",
       "      <th>month_may</th>\n",
       "      <th>month_nov</th>\n",
       "      <th>month_oct</th>\n",
       "      <th>month_sep</th>\n",
       "      <th>day_of_week_fri</th>\n",
       "      <th>day_of_week_mon</th>\n",
       "      <th>day_of_week_thu</th>\n",
       "      <th>day_of_week_tue</th>\n",
       "      <th>day_of_week_wed</th>\n",
       "      <th>poutcome_failure</th>\n",
       "      <th>poutcome_nonexistent</th>\n",
       "      <th>poutcome_success</th>\n",
       "    </tr>\n",
       "  </thead>\n",
       "  <tbody>\n",
       "    <tr>\n",
       "      <th>0</th>\n",
       "      <td>56</td>\n",
       "      <td>1</td>\n",
       "      <td>999</td>\n",
       "      <td>0</td>\n",
       "      <td>1.1</td>\n",
       "      <td>93.994</td>\n",
       "      <td>4.857</td>\n",
       "      <td>5191.0</td>\n",
       "      <td>0</td>\n",
       "      <td>0</td>\n",
       "      <td>0</td>\n",
       "      <td>1</td>\n",
       "      <td>0</td>\n",
       "      <td>0</td>\n",
       "      <td>0</td>\n",
       "      <td>0</td>\n",
       "      <td>0</td>\n",
       "      <td>0</td>\n",
       "      <td>0</td>\n",
       "      <td>0</td>\n",
       "      <td>0</td>\n",
       "      <td>1</td>\n",
       "      <td>0</td>\n",
       "      <td>0</td>\n",
       "      <td>1</td>\n",
       "      <td>0</td>\n",
       "      <td>0</td>\n",
       "      <td>0</td>\n",
       "      <td>0</td>\n",
       "      <td>0</td>\n",
       "      <td>0</td>\n",
       "      <td>0</td>\n",
       "      <td>1</td>\n",
       "      <td>0</td>\n",
       "      <td>0</td>\n",
       "      <td>1</td>\n",
       "      <td>0</td>\n",
       "      <td>0</td>\n",
       "      <td>1</td>\n",
       "      <td>0</td>\n",
       "      <td>0</td>\n",
       "      <td>0</td>\n",
       "      <td>1</td>\n",
       "      <td>0</td>\n",
       "      <td>0</td>\n",
       "      <td>0</td>\n",
       "      <td>0</td>\n",
       "      <td>0</td>\n",
       "      <td>0</td>\n",
       "      <td>1</td>\n",
       "      <td>0</td>\n",
       "      <td>0</td>\n",
       "      <td>0</td>\n",
       "      <td>0</td>\n",
       "      <td>1</td>\n",
       "      <td>0</td>\n",
       "      <td>0</td>\n",
       "      <td>0</td>\n",
       "      <td>0</td>\n",
       "      <td>1</td>\n",
       "      <td>0</td>\n",
       "    </tr>\n",
       "    <tr>\n",
       "      <th>1</th>\n",
       "      <td>57</td>\n",
       "      <td>1</td>\n",
       "      <td>999</td>\n",
       "      <td>0</td>\n",
       "      <td>1.1</td>\n",
       "      <td>93.994</td>\n",
       "      <td>4.857</td>\n",
       "      <td>5191.0</td>\n",
       "      <td>0</td>\n",
       "      <td>0</td>\n",
       "      <td>0</td>\n",
       "      <td>0</td>\n",
       "      <td>0</td>\n",
       "      <td>0</td>\n",
       "      <td>0</td>\n",
       "      <td>1</td>\n",
       "      <td>0</td>\n",
       "      <td>0</td>\n",
       "      <td>0</td>\n",
       "      <td>0</td>\n",
       "      <td>0</td>\n",
       "      <td>1</td>\n",
       "      <td>0</td>\n",
       "      <td>0</td>\n",
       "      <td>0</td>\n",
       "      <td>0</td>\n",
       "      <td>0</td>\n",
       "      <td>1</td>\n",
       "      <td>0</td>\n",
       "      <td>0</td>\n",
       "      <td>0</td>\n",
       "      <td>0</td>\n",
       "      <td>0</td>\n",
       "      <td>1</td>\n",
       "      <td>0</td>\n",
       "      <td>1</td>\n",
       "      <td>0</td>\n",
       "      <td>0</td>\n",
       "      <td>1</td>\n",
       "      <td>0</td>\n",
       "      <td>0</td>\n",
       "      <td>0</td>\n",
       "      <td>1</td>\n",
       "      <td>0</td>\n",
       "      <td>0</td>\n",
       "      <td>0</td>\n",
       "      <td>0</td>\n",
       "      <td>0</td>\n",
       "      <td>0</td>\n",
       "      <td>1</td>\n",
       "      <td>0</td>\n",
       "      <td>0</td>\n",
       "      <td>0</td>\n",
       "      <td>0</td>\n",
       "      <td>1</td>\n",
       "      <td>0</td>\n",
       "      <td>0</td>\n",
       "      <td>0</td>\n",
       "      <td>0</td>\n",
       "      <td>1</td>\n",
       "      <td>0</td>\n",
       "    </tr>\n",
       "    <tr>\n",
       "      <th>2</th>\n",
       "      <td>37</td>\n",
       "      <td>1</td>\n",
       "      <td>999</td>\n",
       "      <td>0</td>\n",
       "      <td>1.1</td>\n",
       "      <td>93.994</td>\n",
       "      <td>4.857</td>\n",
       "      <td>5191.0</td>\n",
       "      <td>0</td>\n",
       "      <td>0</td>\n",
       "      <td>0</td>\n",
       "      <td>0</td>\n",
       "      <td>0</td>\n",
       "      <td>0</td>\n",
       "      <td>0</td>\n",
       "      <td>1</td>\n",
       "      <td>0</td>\n",
       "      <td>0</td>\n",
       "      <td>0</td>\n",
       "      <td>0</td>\n",
       "      <td>0</td>\n",
       "      <td>1</td>\n",
       "      <td>0</td>\n",
       "      <td>0</td>\n",
       "      <td>0</td>\n",
       "      <td>0</td>\n",
       "      <td>0</td>\n",
       "      <td>1</td>\n",
       "      <td>0</td>\n",
       "      <td>0</td>\n",
       "      <td>0</td>\n",
       "      <td>0</td>\n",
       "      <td>1</td>\n",
       "      <td>0</td>\n",
       "      <td>0</td>\n",
       "      <td>0</td>\n",
       "      <td>0</td>\n",
       "      <td>1</td>\n",
       "      <td>1</td>\n",
       "      <td>0</td>\n",
       "      <td>0</td>\n",
       "      <td>0</td>\n",
       "      <td>1</td>\n",
       "      <td>0</td>\n",
       "      <td>0</td>\n",
       "      <td>0</td>\n",
       "      <td>0</td>\n",
       "      <td>0</td>\n",
       "      <td>0</td>\n",
       "      <td>1</td>\n",
       "      <td>0</td>\n",
       "      <td>0</td>\n",
       "      <td>0</td>\n",
       "      <td>0</td>\n",
       "      <td>1</td>\n",
       "      <td>0</td>\n",
       "      <td>0</td>\n",
       "      <td>0</td>\n",
       "      <td>0</td>\n",
       "      <td>1</td>\n",
       "      <td>0</td>\n",
       "    </tr>\n",
       "    <tr>\n",
       "      <th>3</th>\n",
       "      <td>40</td>\n",
       "      <td>1</td>\n",
       "      <td>999</td>\n",
       "      <td>0</td>\n",
       "      <td>1.1</td>\n",
       "      <td>93.994</td>\n",
       "      <td>4.857</td>\n",
       "      <td>5191.0</td>\n",
       "      <td>1</td>\n",
       "      <td>0</td>\n",
       "      <td>0</td>\n",
       "      <td>0</td>\n",
       "      <td>0</td>\n",
       "      <td>0</td>\n",
       "      <td>0</td>\n",
       "      <td>0</td>\n",
       "      <td>0</td>\n",
       "      <td>0</td>\n",
       "      <td>0</td>\n",
       "      <td>0</td>\n",
       "      <td>0</td>\n",
       "      <td>1</td>\n",
       "      <td>0</td>\n",
       "      <td>0</td>\n",
       "      <td>0</td>\n",
       "      <td>1</td>\n",
       "      <td>0</td>\n",
       "      <td>0</td>\n",
       "      <td>0</td>\n",
       "      <td>0</td>\n",
       "      <td>0</td>\n",
       "      <td>0</td>\n",
       "      <td>1</td>\n",
       "      <td>0</td>\n",
       "      <td>0</td>\n",
       "      <td>1</td>\n",
       "      <td>0</td>\n",
       "      <td>0</td>\n",
       "      <td>1</td>\n",
       "      <td>0</td>\n",
       "      <td>0</td>\n",
       "      <td>0</td>\n",
       "      <td>1</td>\n",
       "      <td>0</td>\n",
       "      <td>0</td>\n",
       "      <td>0</td>\n",
       "      <td>0</td>\n",
       "      <td>0</td>\n",
       "      <td>0</td>\n",
       "      <td>1</td>\n",
       "      <td>0</td>\n",
       "      <td>0</td>\n",
       "      <td>0</td>\n",
       "      <td>0</td>\n",
       "      <td>1</td>\n",
       "      <td>0</td>\n",
       "      <td>0</td>\n",
       "      <td>0</td>\n",
       "      <td>0</td>\n",
       "      <td>1</td>\n",
       "      <td>0</td>\n",
       "    </tr>\n",
       "    <tr>\n",
       "      <th>4</th>\n",
       "      <td>56</td>\n",
       "      <td>1</td>\n",
       "      <td>999</td>\n",
       "      <td>0</td>\n",
       "      <td>1.1</td>\n",
       "      <td>93.994</td>\n",
       "      <td>4.857</td>\n",
       "      <td>5191.0</td>\n",
       "      <td>0</td>\n",
       "      <td>0</td>\n",
       "      <td>0</td>\n",
       "      <td>0</td>\n",
       "      <td>0</td>\n",
       "      <td>0</td>\n",
       "      <td>0</td>\n",
       "      <td>1</td>\n",
       "      <td>0</td>\n",
       "      <td>0</td>\n",
       "      <td>0</td>\n",
       "      <td>0</td>\n",
       "      <td>0</td>\n",
       "      <td>1</td>\n",
       "      <td>0</td>\n",
       "      <td>0</td>\n",
       "      <td>0</td>\n",
       "      <td>0</td>\n",
       "      <td>0</td>\n",
       "      <td>1</td>\n",
       "      <td>0</td>\n",
       "      <td>0</td>\n",
       "      <td>0</td>\n",
       "      <td>0</td>\n",
       "      <td>1</td>\n",
       "      <td>0</td>\n",
       "      <td>0</td>\n",
       "      <td>1</td>\n",
       "      <td>0</td>\n",
       "      <td>0</td>\n",
       "      <td>0</td>\n",
       "      <td>0</td>\n",
       "      <td>1</td>\n",
       "      <td>0</td>\n",
       "      <td>1</td>\n",
       "      <td>0</td>\n",
       "      <td>0</td>\n",
       "      <td>0</td>\n",
       "      <td>0</td>\n",
       "      <td>0</td>\n",
       "      <td>0</td>\n",
       "      <td>1</td>\n",
       "      <td>0</td>\n",
       "      <td>0</td>\n",
       "      <td>0</td>\n",
       "      <td>0</td>\n",
       "      <td>1</td>\n",
       "      <td>0</td>\n",
       "      <td>0</td>\n",
       "      <td>0</td>\n",
       "      <td>0</td>\n",
       "      <td>1</td>\n",
       "      <td>0</td>\n",
       "    </tr>\n",
       "  </tbody>\n",
       "</table>\n",
       "</div>"
      ],
      "text/plain": [
       "   age  campaign  pdays  previous  emp.var.rate  cons.price.idx  euribor3m  \\\n",
       "0   56         1    999         0           1.1          93.994      4.857   \n",
       "1   57         1    999         0           1.1          93.994      4.857   \n",
       "2   37         1    999         0           1.1          93.994      4.857   \n",
       "3   40         1    999         0           1.1          93.994      4.857   \n",
       "4   56         1    999         0           1.1          93.994      4.857   \n",
       "\n",
       "   nr.employed  job_admin.  job_blue-collar  job_entrepreneur  job_housemaid  \\\n",
       "0       5191.0           0                0                 0              1   \n",
       "1       5191.0           0                0                 0              0   \n",
       "2       5191.0           0                0                 0              0   \n",
       "3       5191.0           1                0                 0              0   \n",
       "4       5191.0           0                0                 0              0   \n",
       "\n",
       "   job_management  job_retired  job_self-employed  job_services  job_student  \\\n",
       "0               0            0                  0             0            0   \n",
       "1               0            0                  0             1            0   \n",
       "2               0            0                  0             1            0   \n",
       "3               0            0                  0             0            0   \n",
       "4               0            0                  0             1            0   \n",
       "\n",
       "   job_technician  job_unemployed  job_unknown  marital_divorced  \\\n",
       "0               0               0            0                 0   \n",
       "1               0               0            0                 0   \n",
       "2               0               0            0                 0   \n",
       "3               0               0            0                 0   \n",
       "4               0               0            0                 0   \n",
       "\n",
       "   marital_married  marital_single  marital_unknown  education_basic.4y  \\\n",
       "0                1               0                0                   1   \n",
       "1                1               0                0                   0   \n",
       "2                1               0                0                   0   \n",
       "3                1               0                0                   0   \n",
       "4                1               0                0                   0   \n",
       "\n",
       "   education_basic.6y  education_basic.9y  education_high.school  \\\n",
       "0                   0                   0                      0   \n",
       "1                   0                   0                      1   \n",
       "2                   0                   0                      1   \n",
       "3                   1                   0                      0   \n",
       "4                   0                   0                      1   \n",
       "\n",
       "   education_illiterate  education_professional.course  \\\n",
       "0                     0                              0   \n",
       "1                     0                              0   \n",
       "2                     0                              0   \n",
       "3                     0                              0   \n",
       "4                     0                              0   \n",
       "\n",
       "   education_university.degree  education_unknown  default_no  \\\n",
       "0                            0                  0           1   \n",
       "1                            0                  0           0   \n",
       "2                            0                  0           1   \n",
       "3                            0                  0           1   \n",
       "4                            0                  0           1   \n",
       "\n",
       "   default_unknown  default_yes  housing_no  housing_unknown  housing_yes  \\\n",
       "0                0            0           1                0            0   \n",
       "1                1            0           1                0            0   \n",
       "2                0            0           0                0            1   \n",
       "3                0            0           1                0            0   \n",
       "4                0            0           1                0            0   \n",
       "\n",
       "   loan_no  loan_unknown  loan_yes  contact_cellular  contact_telephone  \\\n",
       "0        1             0         0                 0                  1   \n",
       "1        1             0         0                 0                  1   \n",
       "2        1             0         0                 0                  1   \n",
       "3        1             0         0                 0                  1   \n",
       "4        0             0         1                 0                  1   \n",
       "\n",
       "   month_apr  month_aug  month_dec  month_jul  month_jun  month_mar  \\\n",
       "0          0          0          0          0          0          0   \n",
       "1          0          0          0          0          0          0   \n",
       "2          0          0          0          0          0          0   \n",
       "3          0          0          0          0          0          0   \n",
       "4          0          0          0          0          0          0   \n",
       "\n",
       "   month_may  month_nov  month_oct  month_sep  day_of_week_fri  \\\n",
       "0          1          0          0          0                0   \n",
       "1          1          0          0          0                0   \n",
       "2          1          0          0          0                0   \n",
       "3          1          0          0          0                0   \n",
       "4          1          0          0          0                0   \n",
       "\n",
       "   day_of_week_mon  day_of_week_thu  day_of_week_tue  day_of_week_wed  \\\n",
       "0                1                0                0                0   \n",
       "1                1                0                0                0   \n",
       "2                1                0                0                0   \n",
       "3                1                0                0                0   \n",
       "4                1                0                0                0   \n",
       "\n",
       "   poutcome_failure  poutcome_nonexistent  poutcome_success  \n",
       "0                 0                     1                 0  \n",
       "1                 0                     1                 0  \n",
       "2                 0                     1                 0  \n",
       "3                 0                     1                 0  \n",
       "4                 0                     1                 0  "
      ]
     },
     "execution_count": 1426,
     "metadata": {},
     "output_type": "execute_result"
    }
   ],
   "source": [
    "X_df.head()"
   ]
  },
  {
   "cell_type": "code",
   "execution_count": 1427,
   "metadata": {},
   "outputs": [
    {
     "data": {
      "text/plain": [
       "((28831, 61), (12357, 61), (28831,), (12357,))"
      ]
     },
     "execution_count": 1427,
     "metadata": {},
     "output_type": "execute_result"
    }
   ],
   "source": [
    "# Split into train and test sets.\n",
    "\n",
    "X_train, X_test, y_train, y_test = train_test_split(X_df, y, test_size = 0.3, random_state = 10)\n",
    "X_train.shape, X_test.shape, y_train.shape, y_test.shape"
   ]
  },
  {
   "cell_type": "code",
   "execution_count": 1428,
   "metadata": {},
   "outputs": [],
   "source": [
    "# Initial logistic regression\n",
    "\n",
    "from sklearn.linear_model import LogisticRegression\n",
    "\n",
    "clf = LogisticRegression(C=0.001)\n",
    "model_base = clf.fit(X_train, y_train)"
   ]
  },
  {
   "cell_type": "code",
   "execution_count": 1429,
   "metadata": {},
   "outputs": [
    {
     "data": {
      "text/plain": [
       "0.8963340616654528"
      ]
     },
     "execution_count": 1429,
     "metadata": {},
     "output_type": "execute_result"
    }
   ],
   "source": [
    "y_pred = model_base.predict(X_test)\n",
    "model_base.score(X_test, y_test)"
   ]
  },
  {
   "cell_type": "code",
   "execution_count": 1430,
   "metadata": {},
   "outputs": [
    {
     "data": {
      "text/plain": [
       "array([[10813,   122],\n",
       "       [ 1159,   263]])"
      ]
     },
     "execution_count": 1430,
     "metadata": {},
     "output_type": "execute_result"
    }
   ],
   "source": [
    "metrics.confusion_matrix(y_test, y_pred)\n",
    "# print(metrics.classification_report(y_test, y_pred))"
   ]
  },
  {
   "cell_type": "code",
   "execution_count": 1431,
   "metadata": {},
   "outputs": [
    {
     "data": {
      "image/png": "[encoded data removed]",
      "text/plain": [
       "<Figure size 432x288 with 1 Axes>"
      ]
     },
     "metadata": {
      "needs_background": "light"
     },
     "output_type": "display_data"
    }
   ],
   "source": [
    "from sklearn.metrics import roc_auc_score\n",
    "from sklearn.metrics import roc_curve\n",
    "# logit_roc_auc = roc_auc_score(y_test, model_base.predict(X_test))\n",
    "# fpr, tpr, thresholds = roc_curve(y_test, model_base.predict_proba(X_test)[:,1])\n",
    "# plt.figure()\n",
    "\n",
    "probs = model_base.predict_proba(X_test)\n",
    "preds = probs[:,1]\n",
    "fpr, tpr, threshold = metrics.roc_curve(y_test, preds)\n",
    "logit_roc_auc = metrics.auc(fpr, tpr)\n",
    "\n",
    "plt.plot(fpr, tpr, label='Logistic Regression Base (area = %0.2f)' % logit_roc_auc)\n",
    "plt.plot([0, 1], [0, 1],'r--')\n",
    "plt.xlim([0.0, 1.0])\n",
    "plt.ylim([0.0, 1.05])\n",
    "plt.xlabel('False Positive Rate')\n",
    "plt.ylabel('True Positive Rate')\n",
    "plt.title('Receiver operating characteristic')\n",
    "plt.legend(loc=\"lower right\")\n",
    "plt.savefig('Log_ROC')\n",
    "plt.show()"
   ]
  },
  {
   "cell_type": "code",
   "execution_count": 1432,
   "metadata": {},
   "outputs": [
    {
     "data": {
      "text/plain": [
       "age                 78\n",
       "job                 12\n",
       "marital              4\n",
       "education            8\n",
       "default              3\n",
       "housing              3\n",
       "loan                 3\n",
       "contact              2\n",
       "month               10\n",
       "day_of_week          5\n",
       "duration          1544\n",
       "campaign            42\n",
       "pdays               27\n",
       "previous             8\n",
       "poutcome             3\n",
       "emp.var.rate        10\n",
       "cons.price.idx      26\n",
       "cons.conf.idx       26\n",
       "euribor3m          316\n",
       "nr.employed         11\n",
       "y                    2\n",
       "dtype: int64"
      ]
     },
     "execution_count": 1432,
     "metadata": {},
     "output_type": "execute_result"
    }
   ],
   "source": [
    "df.apply(lambda x: len(x.unique()), axis=0)"
   ]
  },
  {
   "cell_type": "code",
   "execution_count": 1433,
   "metadata": {},
   "outputs": [
    {
     "data": {
      "text/plain": [
       "age                 int64\n",
       "job                object\n",
       "marital            object\n",
       "education          object\n",
       "default            object\n",
       "housing            object\n",
       "loan               object\n",
       "contact            object\n",
       "month              object\n",
       "day_of_week        object\n",
       "duration            int64\n",
       "campaign            int64\n",
       "pdays               int64\n",
       "previous            int64\n",
       "poutcome           object\n",
       "emp.var.rate      float64\n",
       "cons.price.idx    float64\n",
       "cons.conf.idx     float64\n",
       "euribor3m         float64\n",
       "nr.employed       float64\n",
       "y                  object\n",
       "dtype: object"
      ]
     },
     "execution_count": 1433,
     "metadata": {},
     "output_type": "execute_result"
    }
   ],
   "source": [
    "df.dtypes"
   ]
  },
  {
   "cell_type": "code",
   "execution_count": 1434,
   "metadata": {},
   "outputs": [],
   "source": [
    "# Label Encode instead of dummy variables\n",
    "\n",
    "mappings = []\n",
    "\n",
    "from sklearn.preprocessing import LabelEncoder\n",
    "\n",
    "label_encoder = LabelEncoder()\n",
    "\n",
    "label_df = df.drop('y', axis=1)\n",
    "for i, col in enumerate(label_df):\n",
    "    if label_df[col].dtype == 'object':\n",
    "        label_df[col] = label_encoder.fit_transform(np.array(label_df[col].astype(str)).reshape((-1,)))\n",
    "        mappings.append(dict(zip(label_encoder.classes_, range(1, len(label_encoder.classes_)+1))))"
   ]
  },
  {
   "cell_type": "code",
   "execution_count": 1435,
   "metadata": {},
   "outputs": [
    {
     "data": {
      "text/plain": [
       "((28831, 20), (12357, 20), (28831,), (12357,))"
      ]
     },
     "execution_count": 1435,
     "metadata": {},
     "output_type": "execute_result"
    }
   ],
   "source": [
    "X_train, X_test, y_train, y_test = train_test_split(label_df, y, test_size = 0.3, random_state = 10)\n",
    "X_train.shape, X_test.shape, y_train.shape, y_test.shape"
   ]
  },
  {
   "cell_type": "code",
   "execution_count": 1436,
   "metadata": {},
   "outputs": [
    {
     "name": "stdout",
     "output_type": "stream",
     "text": [
      "0.9066925629198025\n"
     ]
    },
    {
     "data": {
      "image/png": "[encoded data removed]",
      "text/plain": [
       "<Figure size 432x288 with 1 Axes>"
      ]
     },
     "metadata": {
      "needs_background": "light"
     },
     "output_type": "display_data"
    }
   ],
   "source": [
    "clf = LogisticRegression()\n",
    "model_label = clf.fit(X_train, y_train)\n",
    "# y_pred = model_norm.predict(X_test)\n",
    "print(model_label.score(X_test, y_test))\n",
    "\n",
    "# logit_roc_auc = roc_auc_score(y_test, model_norm.predict(X_test))\n",
    "# fpr, tpr, thresholds = roc_curve(y_test, model_norm.predict_proba(X_test)[:,1])\n",
    "\n",
    "probs = model_label.predict_proba(X_test)\n",
    "preds = probs[:,1]\n",
    "labelfpr, labeltpr, labelthreshold = metrics.roc_curve(y_test, preds)\n",
    "label_roc_auc = metrics.auc(labelfpr, labeltpr)\n",
    "\n",
    "plt.figure()\n",
    "plt.plot(labelfpr, labeltpr, label='Logistic Regression with LabelEncoder(area = %0.2f)' % label_roc_auc)\n",
    "plt.plot([0, 1], [0, 1],'r--')\n",
    "plt.xlim([0.0, 1.0])\n",
    "plt.ylim([0.0, 1.05])\n",
    "plt.xlabel('False Positive Rate')\n",
    "plt.ylabel('True Positive Rate')\n",
    "plt.title('Receiver operating characteristic')\n",
    "plt.legend(loc=\"lower right\")\n",
    "plt.savefig('Log_ROC')\n",
    "plt.show()"
   ]
  },
  {
   "cell_type": "code",
   "execution_count": 1437,
   "metadata": {},
   "outputs": [
    {
     "data": {
      "text/plain": [
       "[{'admin.': 1,\n",
       "  'blue-collar': 2,\n",
       "  'entrepreneur': 3,\n",
       "  'housemaid': 4,\n",
       "  'management': 5,\n",
       "  'retired': 6,\n",
       "  'self-employed': 7,\n",
       "  'services': 8,\n",
       "  'student': 9,\n",
       "  'technician': 10,\n",
       "  'unemployed': 11,\n",
       "  'unknown': 12},\n",
       " {'divorced': 1, 'married': 2, 'single': 3, 'unknown': 4},\n",
       " {'basic.4y': 1,\n",
       "  'basic.6y': 2,\n",
       "  'basic.9y': 3,\n",
       "  'high.school': 4,\n",
       "  'illiterate': 5,\n",
       "  'professional.course': 6,\n",
       "  'university.degree': 7,\n",
       "  'unknown': 8},\n",
       " {'no': 1, 'unknown': 2, 'yes': 3},\n",
       " {'no': 1, 'unknown': 2, 'yes': 3},\n",
       " {'no': 1, 'unknown': 2, 'yes': 3},\n",
       " {'cellular': 1, 'telephone': 2},\n",
       " {'apr': 1,\n",
       "  'aug': 2,\n",
       "  'dec': 3,\n",
       "  'jul': 4,\n",
       "  'jun': 5,\n",
       "  'mar': 6,\n",
       "  'may': 7,\n",
       "  'nov': 8,\n",
       "  'oct': 9,\n",
       "  'sep': 10},\n",
       " {'fri': 1, 'mon': 2, 'thu': 3, 'tue': 4, 'wed': 5},\n",
       " {'failure': 1, 'nonexistent': 2, 'success': 3}]"
      ]
     },
     "execution_count": 1437,
     "metadata": {},
     "output_type": "execute_result"
    }
   ],
   "source": [
    "mappings"
   ]
  },
  {
   "cell_type": "code",
   "execution_count": 1438,
   "metadata": {},
   "outputs": [],
   "source": [
    "educ_order = ['unknown', 'illiterate', 'basic.4y', 'basic.6y', 'basic.9y', 'high.school', 'professional.course', 'university.degree']\n",
    "month_order = ['mar', 'apr', 'may', 'jun', 'jul', 'aug', 'sep', 'oct', 'nov', 'dec']\n",
    "day_order = ['mon', 'tue', 'wed', 'thu', 'fri']"
   ]
  },
  {
   "cell_type": "code",
   "execution_count": 1439,
   "metadata": {},
   "outputs": [
    {
     "data": {
      "text/html": [
       "<div>\n",
       "<style scoped>\n",
       "    .dataframe tbody tr th:only-of-type {\n",
       "        vertical-align: middle;\n",
       "    }\n",
       "\n",
       "    .dataframe tbody tr th {\n",
       "        vertical-align: top;\n",
       "    }\n",
       "\n",
       "    .dataframe thead th {\n",
       "        text-align: right;\n",
       "    }\n",
       "</style>\n",
       "<table border=\"1\" class=\"dataframe\">\n",
       "  <thead>\n",
       "    <tr style=\"text-align: right;\">\n",
       "      <th></th>\n",
       "      <th>age</th>\n",
       "      <th>marital</th>\n",
       "      <th>education</th>\n",
       "      <th>default</th>\n",
       "      <th>housing</th>\n",
       "      <th>loan</th>\n",
       "      <th>contact</th>\n",
       "      <th>month</th>\n",
       "      <th>day_of_week</th>\n",
       "      <th>duration</th>\n",
       "      <th>campaign</th>\n",
       "      <th>pdays</th>\n",
       "      <th>previous</th>\n",
       "      <th>poutcome</th>\n",
       "      <th>emp.var.rate</th>\n",
       "      <th>cons.price.idx</th>\n",
       "      <th>cons.conf.idx</th>\n",
       "      <th>euribor3m</th>\n",
       "      <th>nr.employed</th>\n",
       "      <th>admin.</th>\n",
       "      <th>blue-collar</th>\n",
       "      <th>entrepreneur</th>\n",
       "      <th>housemaid</th>\n",
       "      <th>management</th>\n",
       "      <th>retired</th>\n",
       "      <th>self-employed</th>\n",
       "      <th>services</th>\n",
       "      <th>student</th>\n",
       "      <th>technician</th>\n",
       "      <th>unemployed</th>\n",
       "      <th>unknown</th>\n",
       "    </tr>\n",
       "  </thead>\n",
       "  <tbody>\n",
       "    <tr>\n",
       "      <th>0</th>\n",
       "      <td>56</td>\n",
       "      <td>1</td>\n",
       "      <td>2</td>\n",
       "      <td>0</td>\n",
       "      <td>0</td>\n",
       "      <td>0</td>\n",
       "      <td>1</td>\n",
       "      <td>2</td>\n",
       "      <td>0</td>\n",
       "      <td>261</td>\n",
       "      <td>1</td>\n",
       "      <td>999</td>\n",
       "      <td>0</td>\n",
       "      <td>1</td>\n",
       "      <td>1.1</td>\n",
       "      <td>93.994</td>\n",
       "      <td>-36.4</td>\n",
       "      <td>4.857</td>\n",
       "      <td>5191.0</td>\n",
       "      <td>0</td>\n",
       "      <td>0</td>\n",
       "      <td>0</td>\n",
       "      <td>1</td>\n",
       "      <td>0</td>\n",
       "      <td>0</td>\n",
       "      <td>0</td>\n",
       "      <td>0</td>\n",
       "      <td>0</td>\n",
       "      <td>0</td>\n",
       "      <td>0</td>\n",
       "      <td>0</td>\n",
       "    </tr>\n",
       "    <tr>\n",
       "      <th>1</th>\n",
       "      <td>57</td>\n",
       "      <td>1</td>\n",
       "      <td>5</td>\n",
       "      <td>1</td>\n",
       "      <td>0</td>\n",
       "      <td>0</td>\n",
       "      <td>1</td>\n",
       "      <td>2</td>\n",
       "      <td>0</td>\n",
       "      <td>149</td>\n",
       "      <td>1</td>\n",
       "      <td>999</td>\n",
       "      <td>0</td>\n",
       "      <td>1</td>\n",
       "      <td>1.1</td>\n",
       "      <td>93.994</td>\n",
       "      <td>-36.4</td>\n",
       "      <td>4.857</td>\n",
       "      <td>5191.0</td>\n",
       "      <td>0</td>\n",
       "      <td>0</td>\n",
       "      <td>0</td>\n",
       "      <td>0</td>\n",
       "      <td>0</td>\n",
       "      <td>0</td>\n",
       "      <td>0</td>\n",
       "      <td>1</td>\n",
       "      <td>0</td>\n",
       "      <td>0</td>\n",
       "      <td>0</td>\n",
       "      <td>0</td>\n",
       "    </tr>\n",
       "    <tr>\n",
       "      <th>2</th>\n",
       "      <td>37</td>\n",
       "      <td>1</td>\n",
       "      <td>5</td>\n",
       "      <td>0</td>\n",
       "      <td>2</td>\n",
       "      <td>0</td>\n",
       "      <td>1</td>\n",
       "      <td>2</td>\n",
       "      <td>0</td>\n",
       "      <td>226</td>\n",
       "      <td>1</td>\n",
       "      <td>999</td>\n",
       "      <td>0</td>\n",
       "      <td>1</td>\n",
       "      <td>1.1</td>\n",
       "      <td>93.994</td>\n",
       "      <td>-36.4</td>\n",
       "      <td>4.857</td>\n",
       "      <td>5191.0</td>\n",
       "      <td>0</td>\n",
       "      <td>0</td>\n",
       "      <td>0</td>\n",
       "      <td>0</td>\n",
       "      <td>0</td>\n",
       "      <td>0</td>\n",
       "      <td>0</td>\n",
       "      <td>1</td>\n",
       "      <td>0</td>\n",
       "      <td>0</td>\n",
       "      <td>0</td>\n",
       "      <td>0</td>\n",
       "    </tr>\n",
       "    <tr>\n",
       "      <th>3</th>\n",
       "      <td>40</td>\n",
       "      <td>1</td>\n",
       "      <td>3</td>\n",
       "      <td>0</td>\n",
       "      <td>0</td>\n",
       "      <td>0</td>\n",
       "      <td>1</td>\n",
       "      <td>2</td>\n",
       "      <td>0</td>\n",
       "      <td>151</td>\n",
       "      <td>1</td>\n",
       "      <td>999</td>\n",
       "      <td>0</td>\n",
       "      <td>1</td>\n",
       "      <td>1.1</td>\n",
       "      <td>93.994</td>\n",
       "      <td>-36.4</td>\n",
       "      <td>4.857</td>\n",
       "      <td>5191.0</td>\n",
       "      <td>1</td>\n",
       "      <td>0</td>\n",
       "      <td>0</td>\n",
       "      <td>0</td>\n",
       "      <td>0</td>\n",
       "      <td>0</td>\n",
       "      <td>0</td>\n",
       "      <td>0</td>\n",
       "      <td>0</td>\n",
       "      <td>0</td>\n",
       "      <td>0</td>\n",
       "      <td>0</td>\n",
       "    </tr>\n",
       "    <tr>\n",
       "      <th>4</th>\n",
       "      <td>56</td>\n",
       "      <td>1</td>\n",
       "      <td>5</td>\n",
       "      <td>0</td>\n",
       "      <td>0</td>\n",
       "      <td>2</td>\n",
       "      <td>1</td>\n",
       "      <td>2</td>\n",
       "      <td>0</td>\n",
       "      <td>307</td>\n",
       "      <td>1</td>\n",
       "      <td>999</td>\n",
       "      <td>0</td>\n",
       "      <td>1</td>\n",
       "      <td>1.1</td>\n",
       "      <td>93.994</td>\n",
       "      <td>-36.4</td>\n",
       "      <td>4.857</td>\n",
       "      <td>5191.0</td>\n",
       "      <td>0</td>\n",
       "      <td>0</td>\n",
       "      <td>0</td>\n",
       "      <td>0</td>\n",
       "      <td>0</td>\n",
       "      <td>0</td>\n",
       "      <td>0</td>\n",
       "      <td>1</td>\n",
       "      <td>0</td>\n",
       "      <td>0</td>\n",
       "      <td>0</td>\n",
       "      <td>0</td>\n",
       "    </tr>\n",
       "  </tbody>\n",
       "</table>\n",
       "</div>"
      ],
      "text/plain": [
       "   age  marital  education  default  housing  loan  contact  month  \\\n",
       "0   56        1          2        0        0     0        1      2   \n",
       "1   57        1          5        1        0     0        1      2   \n",
       "2   37        1          5        0        2     0        1      2   \n",
       "3   40        1          3        0        0     0        1      2   \n",
       "4   56        1          5        0        0     2        1      2   \n",
       "\n",
       "   day_of_week  duration  campaign  pdays  previous  poutcome  emp.var.rate  \\\n",
       "0            0       261         1    999         0         1           1.1   \n",
       "1            0       149         1    999         0         1           1.1   \n",
       "2            0       226         1    999         0         1           1.1   \n",
       "3            0       151         1    999         0         1           1.1   \n",
       "4            0       307         1    999         0         1           1.1   \n",
       "\n",
       "   cons.price.idx  cons.conf.idx  euribor3m  nr.employed  admin.  blue-collar  \\\n",
       "0          93.994          -36.4      4.857       5191.0       0            0   \n",
       "1          93.994          -36.4      4.857       5191.0       0            0   \n",
       "2          93.994          -36.4      4.857       5191.0       0            0   \n",
       "3          93.994          -36.4      4.857       5191.0       1            0   \n",
       "4          93.994          -36.4      4.857       5191.0       0            0   \n",
       "\n",
       "   entrepreneur  housemaid  management  retired  self-employed  services  \\\n",
       "0             0          1           0        0              0         0   \n",
       "1             0          0           0        0              0         1   \n",
       "2             0          0           0        0              0         1   \n",
       "3             0          0           0        0              0         0   \n",
       "4             0          0           0        0              0         1   \n",
       "\n",
       "   student  technician  unemployed  unknown  \n",
       "0        0           0           0        0  \n",
       "1        0           0           0        0  \n",
       "2        0           0           0        0  \n",
       "3        0           0           0        0  \n",
       "4        0           0           0        0  "
      ]
     },
     "execution_count": 1439,
     "metadata": {},
     "output_type": "execute_result"
    }
   ],
   "source": [
    "mappings2 = []\n",
    "\n",
    "# using cat.codes for order, one hot for high cardinality and weak case of cardinality.\n",
    "\n",
    "def ordered_labels(df, col, order):\n",
    "    df[col] = df[col].astype('category')\n",
    "    df[col] = df[col].cat.reorder_categories(order, ordered=True)\n",
    "    df[col] = df[col].cat.codes\n",
    "\n",
    "label_df_2 = df.drop('y', axis=1)\n",
    "\n",
    "# Use dummy variables for occupation\n",
    "label_df_2 = pd.concat([label_df_2, pd.get_dummies(label_df_2['job'])],axis=1).drop('job',axis=1)\n",
    "\n",
    "# Use ordered cat.codes for days, months, and education\n",
    "ordered_labels(label_df_2, 'education', educ_order)\n",
    "ordered_labels(label_df_2, 'month', month_order)\n",
    "ordered_labels(label_df_2, 'day_of_week', day_order)\n",
    "\n",
    "# Same label encoding for rest since low cardinality\n",
    "for i, col in enumerate(label_df_2):\n",
    "    if label_df_2[col].dtype == 'object':\n",
    "        label_df_2[col] = label_encoder.fit_transform(np.array(label_df_2[col].astype(str)).reshape((-1,)))\n",
    "        mappings2.append(dict(zip(label_encoder.classes_, range(1, len(label_encoder.classes_)+1))))\n",
    "\n",
    "label_df_2.head()"
   ]
  },
  {
   "cell_type": "code",
   "execution_count": 1440,
   "metadata": {},
   "outputs": [
    {
     "name": "stdout",
     "output_type": "stream",
     "text": [
      "0.9066116371287529\n"
     ]
    },
    {
     "data": {
      "image/png": "[encoded data removed]",
      "text/plain": [
       "<Figure size 432x288 with 1 Axes>"
      ]
     },
     "metadata": {
      "needs_background": "light"
     },
     "output_type": "display_data"
    }
   ],
   "source": [
    "X_train, X_test, y_train, y_test = train_test_split(label_df_2, y, test_size = 0.3, random_state = 10)\n",
    "X_train.shape, X_test.shape, y_train.shape, y_test.shape\n",
    "\n",
    "clf = LogisticRegression()\n",
    "model_mix = clf.fit(X_train, y_train)\n",
    "# y_pred = model_norm.predict(X_test)\n",
    "print(model_mix.score(X_test, y_test))\n",
    "\n",
    "# logit_roc_auc = roc_auc_score(y_test, model_norm.predict(X_test))\n",
    "# fpr, tpr, thresholds = roc_curve(y_test, model_norm.predict_proba(X_test)[:,1])\n",
    "\n",
    "probs = model_mix.predict_proba(X_test)\n",
    "preds = probs[:,1]\n",
    "mixfpr, mixtpr, mixthreshold = metrics.roc_curve(y_test, preds)\n",
    "mix_roc_auc = metrics.auc(mixfpr, mixtpr)\n",
    "\n",
    "plt.figure()\n",
    "plt.plot(mixfpr, mixtpr, label='Logistic Regression Mixed Labels (area = %0.2f)' % mix_roc_auc)\n",
    "plt.plot([0, 1], [0, 1],'r--')\n",
    "plt.xlim([0.0, 1.0])\n",
    "plt.ylim([0.0, 1.05])\n",
    "plt.xlabel('False Positive Rate')\n",
    "plt.ylabel('True Positive Rate')\n",
    "plt.title('Receiver operating characteristic')\n",
    "plt.legend(loc=\"lower right\")\n",
    "plt.savefig('Log_ROC')\n",
    "plt.show()"
   ]
  },
  {
   "cell_type": "code",
   "execution_count": 1441,
   "metadata": {},
   "outputs": [
    {
     "data": {
      "text/plain": [
       "((28831, 31), (12357, 31), (28831,), (12357,))"
      ]
     },
     "execution_count": 1441,
     "metadata": {},
     "output_type": "execute_result"
    }
   ],
   "source": [
    "X_train.shape, X_test.shape, y_train.shape, y_test.shape"
   ]
  },
  {
   "cell_type": "markdown",
   "metadata": {},
   "source": [
    "## Feature Importance"
   ]
  },
  {
   "cell_type": "code",
   "execution_count": 1442,
   "metadata": {},
   "outputs": [],
   "source": [
    "# Feature importance rankings.\n",
    "\n",
    "weights = zip(label_df_2.columns, model_mix.coef_[0])\n",
    "ranked_weights = sorted(weights, key=lambda x: x[1], reverse = True)"
   ]
  },
  {
   "cell_type": "code",
   "execution_count": 1443,
   "metadata": {},
   "outputs": [
    {
     "data": {
      "text/plain": [
       "[('cons.price.idx', 0.32976301959869786),\n",
       " ('poutcome', 0.2657572325645149),\n",
       " ('retired', 0.13234868811037775),\n",
       " ('marital', 0.12352247204879406),\n",
       " ('admin.', 0.11107345027782595),\n",
       " ('student', 0.08986791470176685),\n",
       " ('technician', 0.05156464469349084),\n",
       " ('cons.conf.idx', 0.03381833694923953),\n",
       " ('education', 0.0278294560997902),\n",
       " ('month', 0.02672730724029137)]"
      ]
     },
     "execution_count": 1443,
     "metadata": {},
     "output_type": "execute_result"
    }
   ],
   "source": [
    "# Top 10 positive feature importance\n",
    "\n",
    "ranked_weights[:10]"
   ]
  },
  {
   "cell_type": "code",
   "execution_count": 1444,
   "metadata": {},
   "outputs": [
    {
     "data": {
      "text/plain": [
       "[('campaign', -0.023191572319197315),\n",
       " ('loan', -0.02637236469396248),\n",
       " ('management', -0.042285061857859345),\n",
       " ('services', -0.12695095274194557),\n",
       " ('euribor3m', -0.15553212431372218),\n",
       " ('previous', -0.19418646213808843),\n",
       " ('default', -0.22591671735545166),\n",
       " ('blue-collar', -0.2297205623760058),\n",
       " ('emp.var.rate', -0.3110421508232442),\n",
       " ('contact', -0.36184206959520704)]"
      ]
     },
     "execution_count": 1444,
     "metadata": {},
     "output_type": "execute_result"
    }
   ],
   "source": [
    "# Top 10 negative feature importance\n",
    "\n",
    "ranked_weights[-10:]"
   ]
  },
  {
   "cell_type": "code",
   "execution_count": 1445,
   "metadata": {},
   "outputs": [
    {
     "data": {
      "text/plain": [
       "[('contact', -0.36184206959520704),\n",
       " ('cons.price.idx', 0.32976301959869786),\n",
       " ('emp.var.rate', -0.3110421508232442),\n",
       " ('poutcome', 0.2657572325645149),\n",
       " ('blue-collar', -0.2297205623760058),\n",
       " ('default', -0.22591671735545166),\n",
       " ('previous', -0.19418646213808843),\n",
       " ('euribor3m', -0.15553212431372218),\n",
       " ('retired', 0.13234868811037775),\n",
       " ('services', -0.12695095274194557)]"
      ]
     },
     "execution_count": 1445,
     "metadata": {},
     "output_type": "execute_result"
    }
   ],
   "source": [
    "abs_weights = zip(label_df_2.columns, model_mix.coef_[0]) \n",
    "abs_ranked_weights = sorted(abs_weights, key=lambda x: abs(x[1]), reverse = True)\n",
    "abs_ranked_weights[:10]"
   ]
  },
  {
   "cell_type": "code",
   "execution_count": 1446,
   "metadata": {},
   "outputs": [
    {
     "data": {
      "text/plain": [
       "(array([0, 1, 2, 3, 4, 5, 6, 7, 8, 9]), <a list of 10 Text xticklabel objects>)"
      ]
     },
     "execution_count": 1446,
     "metadata": {},
     "output_type": "execute_result"
    },
    {
     "data": {
      "image/png": "[encoded data removed]",
      "text/plain": [
       "<Figure size 432x288 with 1 Axes>"
      ]
     },
     "metadata": {
      "needs_background": "light"
     },
     "output_type": "display_data"
    }
   ],
   "source": [
    "# Absolute value feature importance plot\n",
    "\n",
    "labels, weights = zip(*abs_ranked_weights[:10])\n",
    "sb.barplot(x = pd.Series(labels), y = pd.Series(weights), color='aquamarine', alpha=0.8)\n",
    "plt.xticks(rotation=40, ha='right')"
   ]
  },
  {
   "cell_type": "code",
   "execution_count": 1447,
   "metadata": {},
   "outputs": [],
   "source": [
    "# Pairplot to look at distributions.\n",
    "\n",
    "# sb.pairplot(cont_df)"
   ]
  },
  {
   "cell_type": "markdown",
   "metadata": {},
   "source": [
    "## Feature engineering"
   ]
  },
  {
   "cell_type": "code",
   "execution_count": 1448,
   "metadata": {},
   "outputs": [],
   "source": [
    "X_df_2 = label_df_2.copy()"
   ]
  },
  {
   "cell_type": "code",
   "execution_count": 1449,
   "metadata": {},
   "outputs": [
    {
     "data": {
      "text/html": [
       "<div>\n",
       "<style scoped>\n",
       "    .dataframe tbody tr th:only-of-type {\n",
       "        vertical-align: middle;\n",
       "    }\n",
       "\n",
       "    .dataframe tbody tr th {\n",
       "        vertical-align: top;\n",
       "    }\n",
       "\n",
       "    .dataframe thead th {\n",
       "        text-align: right;\n",
       "    }\n",
       "</style>\n",
       "<table border=\"1\" class=\"dataframe\">\n",
       "  <thead>\n",
       "    <tr style=\"text-align: right;\">\n",
       "      <th></th>\n",
       "      <th>age</th>\n",
       "      <th>marital</th>\n",
       "      <th>education</th>\n",
       "      <th>default</th>\n",
       "      <th>housing</th>\n",
       "      <th>loan</th>\n",
       "      <th>contact</th>\n",
       "      <th>month</th>\n",
       "      <th>day_of_week</th>\n",
       "      <th>duration</th>\n",
       "      <th>campaign</th>\n",
       "      <th>pdays</th>\n",
       "      <th>previous</th>\n",
       "      <th>poutcome</th>\n",
       "      <th>emp.var.rate</th>\n",
       "      <th>cons.price.idx</th>\n",
       "      <th>cons.conf.idx</th>\n",
       "      <th>euribor3m</th>\n",
       "      <th>nr.employed</th>\n",
       "      <th>admin.</th>\n",
       "      <th>blue-collar</th>\n",
       "      <th>entrepreneur</th>\n",
       "      <th>housemaid</th>\n",
       "      <th>management</th>\n",
       "      <th>retired</th>\n",
       "      <th>self-employed</th>\n",
       "      <th>services</th>\n",
       "      <th>student</th>\n",
       "      <th>technician</th>\n",
       "      <th>unemployed</th>\n",
       "      <th>unknown</th>\n",
       "    </tr>\n",
       "  </thead>\n",
       "  <tbody>\n",
       "  </tbody>\n",
       "</table>\n",
       "</div>"
      ],
      "text/plain": [
       "Empty DataFrame\n",
       "Columns: [age, marital, education, default, housing, loan, contact, month, day_of_week, duration, campaign, pdays, previous, poutcome, emp.var.rate, cons.price.idx, cons.conf.idx, euribor3m, nr.employed, admin., blue-collar, entrepreneur, housemaid, management, retired, self-employed, services, student, technician, unemployed, unknown]\n",
       "Index: []"
      ]
     },
     "execution_count": 1449,
     "metadata": {},
     "output_type": "execute_result"
    }
   ],
   "source": [
    "# Creating binary variable for whether there was previous contact.\n",
    "\n",
    "X_df_2[(X_df_2['previous'] == 0) & (X_df_2['pdays'] != 999)]"
   ]
  },
  {
   "cell_type": "code",
   "execution_count": 1450,
   "metadata": {},
   "outputs": [],
   "source": [
    "X_df_2['previous_contact'] = np.where(X_df_2['pdays'] == 999, 0, 1)\n",
    "\n",
    "# X_df_2 = X_df_2.drop('pdays', axis = 1)"
   ]
  },
  {
   "cell_type": "code",
   "execution_count": 1451,
   "metadata": {},
   "outputs": [
    {
     "data": {
      "text/plain": [
       "<matplotlib.axes._subplots.AxesSubplot at 0x1c8f7609b0>"
      ]
     },
     "execution_count": 1451,
     "metadata": {},
     "output_type": "execute_result"
    },
    {
     "data": {
      "image/png": "[encoded data removed]",
      "text/plain": [
       "<Figure size 432x288 with 1 Axes>"
      ]
     },
     "metadata": {
      "needs_background": "light"
     },
     "output_type": "display_data"
    }
   ],
   "source": [
    "X_df_2['age'].hist()"
   ]
  },
  {
   "cell_type": "code",
   "execution_count": 1452,
   "metadata": {},
   "outputs": [],
   "source": [
    "bins5(X_df_2, 'age')"
   ]
  },
  {
   "cell_type": "code",
   "execution_count": 1453,
   "metadata": {},
   "outputs": [
    {
     "data": {
      "text/plain": [
       "<matplotlib.axes._subplots.AxesSubplot at 0x1c8ba3bbe0>"
      ]
     },
     "execution_count": 1453,
     "metadata": {},
     "output_type": "execute_result"
    },
    {
     "data": {
      "image/png": "[encoded data removed]",
      "text/plain": [
       "<Figure size 432x288 with 1 Axes>"
      ]
     },
     "metadata": {
      "needs_background": "light"
     },
     "output_type": "display_data"
    }
   ],
   "source": [
    "X_df_2['campaign'].hist()"
   ]
  },
  {
   "cell_type": "code",
   "execution_count": 1454,
   "metadata": {},
   "outputs": [
    {
     "data": {
      "text/plain": [
       "<matplotlib.axes._subplots.AxesSubplot at 0x1c8ed7a940>"
      ]
     },
     "execution_count": 1454,
     "metadata": {},
     "output_type": "execute_result"
    },
    {
     "data": {
      "image/png": "[encoded data removed]",
      "text/plain": [
       "<Figure size 432x288 with 1 Axes>"
      ]
     },
     "metadata": {
      "needs_background": "light"
     },
     "output_type": "display_data"
    }
   ],
   "source": [
    "X_df_2['previous'].hist()"
   ]
  },
  {
   "cell_type": "code",
   "execution_count": 1455,
   "metadata": {},
   "outputs": [
    {
     "data": {
      "text/plain": [
       "<matplotlib.axes._subplots.AxesSubplot at 0x1c8ca3af60>"
      ]
     },
     "execution_count": 1455,
     "metadata": {},
     "output_type": "execute_result"
    },
    {
     "data": {
      "image/png": "[encoded data removed]",
      "text/plain": [
       "<Figure size 432x288 with 1 Axes>"
      ]
     },
     "metadata": {
      "needs_background": "light"
     },
     "output_type": "display_data"
    }
   ],
   "source": [
    "X_df_2['nr.employed'].hist()"
   ]
  },
  {
   "cell_type": "code",
   "execution_count": 1456,
   "metadata": {},
   "outputs": [],
   "source": [
    "def bins5(df, col):\n",
    "    df[col] = pd.cut(df[col], 5, labels=range(5))"
   ]
  },
  {
   "cell_type": "code",
   "execution_count": 1457,
   "metadata": {},
   "outputs": [],
   "source": [
    "bins5(X_df_2, 'age')\n",
    "bins5(X_df_2, 'campaign')\n",
    "bins5(X_df_2, 'previous')\n",
    "bins5(X_df_2, 'nr.employed')"
   ]
  },
  {
   "cell_type": "code",
   "execution_count": 1458,
   "metadata": {},
   "outputs": [
    {
     "data": {
      "text/plain": [
       "0.11265417111780131"
      ]
     },
     "execution_count": 1458,
     "metadata": {},
     "output_type": "execute_result"
    }
   ],
   "source": [
    "# SMOTE for rebalancing\n",
    "\n",
    "y.value_counts()[1]/y.value_counts().sum()"
   ]
  },
  {
   "cell_type": "code",
   "execution_count": null,
   "metadata": {},
   "outputs": [],
   "source": []
  },
  {
   "cell_type": "code",
   "execution_count": null,
   "metadata": {},
   "outputs": [],
   "source": []
  },
  {
   "cell_type": "code",
   "execution_count": null,
   "metadata": {},
   "outputs": [],
   "source": []
  },
  {
   "cell_type": "code",
   "execution_count": 1459,
   "metadata": {},
   "outputs": [
    {
     "data": {
      "text/plain": [
       "0.005721696310255005"
      ]
     },
     "execution_count": 1459,
     "metadata": {},
     "output_type": "execute_result"
    }
   ],
   "source": [
    "# Threshold setting for coefficient size.\n",
    "\n",
    "coef_thresh = np.percentile(abs(model_mix.coef_[0]), 10)\n",
    "coef_thresh"
   ]
  },
  {
   "cell_type": "code",
   "execution_count": 1460,
   "metadata": {},
   "outputs": [
    {
     "data": {
      "text/plain": [
       "['duration', 'entrepreneur', 'pdays']"
      ]
     },
     "execution_count": 1460,
     "metadata": {},
     "output_type": "execute_result"
    }
   ],
   "source": [
    "# Features with very low coefficients that do not contribute much to the model.\n",
    "\n",
    "low_coefs = [feature[0] for feature in abs_ranked_weights if abs(feature[1]) < coef_thresh]\n",
    "low_coefs"
   ]
  },
  {
   "cell_type": "code",
   "execution_count": 1461,
   "metadata": {},
   "outputs": [
    {
     "data": {
      "text/plain": [
       "(41188, 32)"
      ]
     },
     "execution_count": 1461,
     "metadata": {},
     "output_type": "execute_result"
    }
   ],
   "source": [
    "# Drop low importance features\n",
    "\n",
    "# X_df_2 = X_df_2.drop(columns = low_coefs)\n",
    "X_df_2.shape"
   ]
  },
  {
   "cell_type": "code",
   "execution_count": null,
   "metadata": {},
   "outputs": [],
   "source": []
  },
  {
   "cell_type": "code",
   "execution_count": null,
   "metadata": {},
   "outputs": [],
   "source": []
  },
  {
   "cell_type": "code",
   "execution_count": 1462,
   "metadata": {},
   "outputs": [
    {
     "data": {
      "text/html": [
       "<div>\n",
       "<style scoped>\n",
       "    .dataframe tbody tr th:only-of-type {\n",
       "        vertical-align: middle;\n",
       "    }\n",
       "\n",
       "    .dataframe tbody tr th {\n",
       "        vertical-align: top;\n",
       "    }\n",
       "\n",
       "    .dataframe thead th {\n",
       "        text-align: right;\n",
       "    }\n",
       "</style>\n",
       "<table border=\"1\" class=\"dataframe\">\n",
       "  <thead>\n",
       "    <tr style=\"text-align: right;\">\n",
       "      <th></th>\n",
       "      <th>marital</th>\n",
       "      <th>education</th>\n",
       "      <th>default</th>\n",
       "      <th>housing</th>\n",
       "      <th>loan</th>\n",
       "      <th>contact</th>\n",
       "      <th>month</th>\n",
       "      <th>day_of_week</th>\n",
       "      <th>duration</th>\n",
       "      <th>pdays</th>\n",
       "      <th>poutcome</th>\n",
       "      <th>emp.var.rate</th>\n",
       "      <th>cons.price.idx</th>\n",
       "      <th>cons.conf.idx</th>\n",
       "      <th>euribor3m</th>\n",
       "      <th>admin.</th>\n",
       "      <th>blue-collar</th>\n",
       "      <th>entrepreneur</th>\n",
       "      <th>housemaid</th>\n",
       "      <th>management</th>\n",
       "      <th>retired</th>\n",
       "      <th>self-employed</th>\n",
       "      <th>services</th>\n",
       "      <th>student</th>\n",
       "      <th>technician</th>\n",
       "      <th>unemployed</th>\n",
       "      <th>unknown</th>\n",
       "      <th>previous_contact</th>\n",
       "    </tr>\n",
       "  </thead>\n",
       "  <tbody>\n",
       "    <tr>\n",
       "      <th>marital</th>\n",
       "      <td>NaN</td>\n",
       "      <td>0.101376</td>\n",
       "      <td>-0.079450</td>\n",
       "      <td>0.010467</td>\n",
       "      <td>0.005788</td>\n",
       "      <td>-0.054501</td>\n",
       "      <td>-0.018653</td>\n",
       "      <td>0.014472</td>\n",
       "      <td>0.010290</td>\n",
       "      <td>-0.037942</td>\n",
       "      <td>0.001912</td>\n",
       "      <td>-0.084210</td>\n",
       "      <td>-0.057477</td>\n",
       "      <td>-0.033783</td>\n",
       "      <td>-0.091939</td>\n",
       "      <td>0.075428</td>\n",
       "      <td>-0.045265</td>\n",
       "      <td>-0.047839</td>\n",
       "      <td>-0.055181</td>\n",
       "      <td>-0.051110</td>\n",
       "      <td>-0.108069</td>\n",
       "      <td>0.002293</td>\n",
       "      <td>-0.009286</td>\n",
       "      <td>0.184116</td>\n",
       "      <td>0.040090</td>\n",
       "      <td>-0.009826</td>\n",
       "      <td>0.009834</td>\n",
       "      <td>0.037973</td>\n",
       "    </tr>\n",
       "    <tr>\n",
       "      <th>education</th>\n",
       "      <td>NaN</td>\n",
       "      <td>NaN</td>\n",
       "      <td>-0.218989</td>\n",
       "      <td>0.020847</td>\n",
       "      <td>0.011312</td>\n",
       "      <td>-0.108651</td>\n",
       "      <td>0.115857</td>\n",
       "      <td>-0.004091</td>\n",
       "      <td>-0.015618</td>\n",
       "      <td>-0.021797</td>\n",
       "      <td>0.005603</td>\n",
       "      <td>-0.038992</td>\n",
       "      <td>-0.096554</td>\n",
       "      <td>0.038230</td>\n",
       "      <td>-0.030160</td>\n",
       "      <td>0.297503</td>\n",
       "      <td>-0.443976</td>\n",
       "      <td>0.026201</td>\n",
       "      <td>-0.119471</td>\n",
       "      <td>0.154868</td>\n",
       "      <td>-0.106842</td>\n",
       "      <td>0.074657</td>\n",
       "      <td>-0.051706</td>\n",
       "      <td>-0.053444</td>\n",
       "      <td>0.189820</td>\n",
       "      <td>0.003098</td>\n",
       "      <td>-0.109193</td>\n",
       "      <td>0.021739</td>\n",
       "    </tr>\n",
       "    <tr>\n",
       "      <th>default</th>\n",
       "      <td>NaN</td>\n",
       "      <td>NaN</td>\n",
       "      <td>NaN</td>\n",
       "      <td>-0.015815</td>\n",
       "      <td>-0.003782</td>\n",
       "      <td>0.135238</td>\n",
       "      <td>-0.084322</td>\n",
       "      <td>-0.004286</td>\n",
       "      <td>-0.011794</td>\n",
       "      <td>0.080062</td>\n",
       "      <td>0.023417</td>\n",
       "      <td>0.203263</td>\n",
       "      <td>0.168073</td>\n",
       "      <td>0.026522</td>\n",
       "      <td>0.195336</td>\n",
       "      <td>-0.121372</td>\n",
       "      <td>0.176382</td>\n",
       "      <td>-0.001008</td>\n",
       "      <td>0.036796</td>\n",
       "      <td>-0.035507</td>\n",
       "      <td>0.010070</td>\n",
       "      <td>-0.004843</td>\n",
       "      <td>0.017599</td>\n",
       "      <td>-0.032609</td>\n",
       "      <td>-0.069124</td>\n",
       "      <td>0.010481</td>\n",
       "      <td>0.055630</td>\n",
       "      <td>-0.080066</td>\n",
       "    </tr>\n",
       "    <tr>\n",
       "      <th>housing</th>\n",
       "      <td>NaN</td>\n",
       "      <td>NaN</td>\n",
       "      <td>NaN</td>\n",
       "      <td>NaN</td>\n",
       "      <td>0.044296</td>\n",
       "      <td>-0.082186</td>\n",
       "      <td>0.031865</td>\n",
       "      <td>-0.009003</td>\n",
       "      <td>-0.007658</td>\n",
       "      <td>-0.010551</td>\n",
       "      <td>-0.011783</td>\n",
       "      <td>-0.060196</td>\n",
       "      <td>-0.080504</td>\n",
       "      <td>-0.033845</td>\n",
       "      <td>-0.059277</td>\n",
       "      <td>0.009949</td>\n",
       "      <td>-0.015214</td>\n",
       "      <td>0.004480</td>\n",
       "      <td>-0.004205</td>\n",
       "      <td>-0.007936</td>\n",
       "      <td>-0.001892</td>\n",
       "      <td>-0.000393</td>\n",
       "      <td>-0.004397</td>\n",
       "      <td>0.004656</td>\n",
       "      <td>0.010149</td>\n",
       "      <td>0.008631</td>\n",
       "      <td>-0.001290</td>\n",
       "      <td>0.010518</td>\n",
       "    </tr>\n",
       "    <tr>\n",
       "      <th>loan</th>\n",
       "      <td>NaN</td>\n",
       "      <td>NaN</td>\n",
       "      <td>NaN</td>\n",
       "      <td>NaN</td>\n",
       "      <td>NaN</td>\n",
       "      <td>-0.008556</td>\n",
       "      <td>-0.004193</td>\n",
       "      <td>0.002386</td>\n",
       "      <td>-0.000916</td>\n",
       "      <td>0.000345</td>\n",
       "      <td>-0.001511</td>\n",
       "      <td>0.001849</td>\n",
       "      <td>-0.002430</td>\n",
       "      <td>-0.012025</td>\n",
       "      <td>0.000125</td>\n",
       "      <td>0.018103</td>\n",
       "      <td>-0.004662</td>\n",
       "      <td>-0.005220</td>\n",
       "      <td>-0.002134</td>\n",
       "      <td>-0.001096</td>\n",
       "      <td>-0.006570</td>\n",
       "      <td>-0.006484</td>\n",
       "      <td>0.000392</td>\n",
       "      <td>0.004771</td>\n",
       "      <td>-0.007511</td>\n",
       "      <td>-0.001518</td>\n",
       "      <td>0.004121</td>\n",
       "      <td>-0.000365</td>\n",
       "    </tr>\n",
       "  </tbody>\n",
       "</table>\n",
       "</div>"
      ],
      "text/plain": [
       "           marital  education   default   housing      loan   contact  \\\n",
       "marital        NaN   0.101376 -0.079450  0.010467  0.005788 -0.054501   \n",
       "education      NaN        NaN -0.218989  0.020847  0.011312 -0.108651   \n",
       "default        NaN        NaN       NaN -0.015815 -0.003782  0.135238   \n",
       "housing        NaN        NaN       NaN       NaN  0.044296 -0.082186   \n",
       "loan           NaN        NaN       NaN       NaN       NaN -0.008556   \n",
       "\n",
       "              month  day_of_week  duration     pdays  poutcome  emp.var.rate  \\\n",
       "marital   -0.018653     0.014472  0.010290 -0.037942  0.001912     -0.084210   \n",
       "education  0.115857    -0.004091 -0.015618 -0.021797  0.005603     -0.038992   \n",
       "default   -0.084322    -0.004286 -0.011794  0.080062  0.023417      0.203263   \n",
       "housing    0.031865    -0.009003 -0.007658 -0.010551 -0.011783     -0.060196   \n",
       "loan      -0.004193     0.002386 -0.000916  0.000345 -0.001511      0.001849   \n",
       "\n",
       "           cons.price.idx  cons.conf.idx  euribor3m    admin.  blue-collar  \\\n",
       "marital         -0.057477      -0.033783  -0.091939  0.075428    -0.045265   \n",
       "education       -0.096554       0.038230  -0.030160  0.297503    -0.443976   \n",
       "default          0.168073       0.026522   0.195336 -0.121372     0.176382   \n",
       "housing         -0.080504      -0.033845  -0.059277  0.009949    -0.015214   \n",
       "loan            -0.002430      -0.012025   0.000125  0.018103    -0.004662   \n",
       "\n",
       "           entrepreneur  housemaid  management   retired  self-employed  \\\n",
       "marital       -0.047839  -0.055181   -0.051110 -0.108069       0.002293   \n",
       "education      0.026201  -0.119471    0.154868 -0.106842       0.074657   \n",
       "default       -0.001008   0.036796   -0.035507  0.010070      -0.004843   \n",
       "housing        0.004480  -0.004205   -0.007936 -0.001892      -0.000393   \n",
       "loan          -0.005220  -0.002134   -0.001096 -0.006570      -0.006484   \n",
       "\n",
       "           services   student  technician  unemployed   unknown  \\\n",
       "marital   -0.009286  0.184116    0.040090   -0.009826  0.009834   \n",
       "education -0.051706 -0.053444    0.189820    0.003098 -0.109193   \n",
       "default    0.017599 -0.032609   -0.069124    0.010481  0.055630   \n",
       "housing   -0.004397  0.004656    0.010149    0.008631 -0.001290   \n",
       "loan       0.000392  0.004771   -0.007511   -0.001518  0.004121   \n",
       "\n",
       "           previous_contact  \n",
       "marital            0.037973  \n",
       "education          0.021739  \n",
       "default           -0.080066  \n",
       "housing            0.010518  \n",
       "loan              -0.000365  "
      ]
     },
     "execution_count": 1462,
     "metadata": {},
     "output_type": "execute_result"
    }
   ],
   "source": [
    "# Highly correlated features\n",
    "\n",
    "corr_mat = X_df_2.corr()\n",
    "half_corr_mat = corr_mat.where(np.triu(np.ones(corr_mat.shape), k=1).astype(np.bool))\n",
    "half_corr_mat.head()"
   ]
  },
  {
   "cell_type": "code",
   "execution_count": 1463,
   "metadata": {},
   "outputs": [
    {
     "data": {
      "text/plain": [
       "['euribor3m']"
      ]
     },
     "execution_count": 1463,
     "metadata": {},
     "output_type": "execute_result"
    }
   ],
   "source": [
    "[col for col in half_corr_mat if any(half_corr_mat[col] > 0.9)]"
   ]
  },
  {
   "cell_type": "code",
   "execution_count": 1464,
   "metadata": {},
   "outputs": [],
   "source": [
    "# X_df_2 = X_df_2.drop('euribor3m', axis=1)"
   ]
  },
  {
   "cell_type": "code",
   "execution_count": null,
   "metadata": {},
   "outputs": [],
   "source": []
  },
  {
   "cell_type": "code",
   "execution_count": null,
   "metadata": {},
   "outputs": [],
   "source": []
  },
  {
   "cell_type": "code",
   "execution_count": null,
   "metadata": {},
   "outputs": [],
   "source": []
  },
  {
   "cell_type": "code",
   "execution_count": 1465,
   "metadata": {},
   "outputs": [
    {
     "data": {
      "text/plain": [
       "((28831, 32), (12357, 32), (28831,), (12357,))"
      ]
     },
     "execution_count": 1465,
     "metadata": {},
     "output_type": "execute_result"
    }
   ],
   "source": [
    "X_train, X_test, y_train, y_test = train_test_split(X_df_2, y, test_size = 0.3, random_state = 10)\n",
    "X_train.shape, X_test.shape, y_train.shape, y_test.shape"
   ]
  },
  {
   "cell_type": "code",
   "execution_count": 1466,
   "metadata": {},
   "outputs": [],
   "source": [
    "# Normalizing continuous variables\n",
    "\n",
    "from sklearn.preprocessing import MinMaxScaler\n",
    "\n",
    "scaler = MinMaxScaler(feature_range = (0,1))\n",
    "\n",
    "scaler.fit(X_train)\n",
    "X_train = scaler.transform(X_train)\n",
    "X_test = scaler.transform(X_test)"
   ]
  },
  {
   "cell_type": "code",
   "execution_count": 1467,
   "metadata": {},
   "outputs": [
    {
     "name": "stdout",
     "output_type": "stream",
     "text": [
      "0.9061260823824553\n"
     ]
    },
    {
     "data": {
      "image/png": "[encoded data removed]",
      "text/plain": [
       "<Figure size 432x288 with 1 Axes>"
      ]
     },
     "metadata": {
      "needs_background": "light"
     },
     "output_type": "display_data"
    }
   ],
   "source": [
    "clf = LogisticRegression()\n",
    "model_norm = clf.fit(X_train, y_train)\n",
    "# y_pred = model_norm.predict(X_test)\n",
    "print(model_norm.score(X_test, y_test))\n",
    "\n",
    "# logit_roc_auc = roc_auc_score(y_test, model_norm.predict(X_test))\n",
    "# fpr, tpr, thresholds = roc_curve(y_test, model_norm.predict_proba(X_test)[:,1])\n",
    "\n",
    "probs = model_norm.predict_proba(X_test)\n",
    "preds = probs[:,1]\n",
    "normfpr, normtpr, normthreshold = metrics.roc_curve(y_test, preds)\n",
    "norm_roc_auc = metrics.auc(normfpr, normtpr)\n",
    "\n",
    "plt.figure()\n",
    "plt.plot(fpr, tpr, label='Logistic Regression (area = %0.2f)' % norm_roc_auc)\n",
    "plt.plot([0, 1], [0, 1],'r--')\n",
    "plt.xlim([0.0, 1.0])\n",
    "plt.ylim([0.0, 1.05])\n",
    "plt.xlabel('False Positive Rate')\n",
    "plt.ylabel('True Positive Rate')\n",
    "plt.title('Receiver operating characteristic')\n",
    "plt.legend(loc=\"lower right\")\n",
    "plt.savefig('Log_ROC')\n",
    "plt.show()"
   ]
  },
  {
   "cell_type": "code",
   "execution_count": 1468,
   "metadata": {},
   "outputs": [],
   "source": [
    "sm = SMOTE(random_state = 2)\n",
    "X_train_res, y_train_res = sm.fit_sample(X_train, y_train.ravel())"
   ]
  },
  {
   "cell_type": "code",
   "execution_count": 1469,
   "metadata": {},
   "outputs": [
    {
     "name": "stdout",
     "output_type": "stream",
     "text": [
      "0.8672007768875941\n"
     ]
    }
   ],
   "source": [
    "clf = LogisticRegression()\n",
    "model_res = clf.fit(X_train_res, y_train_res)\n",
    "print(model_res.score(X_test, y_test))"
   ]
  },
  {
   "cell_type": "code",
   "execution_count": 1470,
   "metadata": {},
   "outputs": [
    {
     "data": {
      "image/png": "[encoded data removed]",
      "text/plain": [
       "<Figure size 432x288 with 1 Axes>"
      ]
     },
     "metadata": {
      "needs_background": "light"
     },
     "output_type": "display_data"
    }
   ],
   "source": [
    "probs = model_res.predict_proba(X_test)\n",
    "preds = probs[:,1]\n",
    "resfpr, restpr, resthreshold = metrics.roc_curve(y_test, preds)\n",
    "res_roc_auc = metrics.auc(resfpr, restpr)\n",
    "\n",
    "plt.figure()\n",
    "plt.plot(fpr, tpr, label='Logistic Regression (area = %0.2f)' % res_roc_auc)\n",
    "plt.plot([0, 1], [0, 1],'r--')\n",
    "plt.xlim([0.0, 1.0])\n",
    "plt.ylim([0.0, 1.05])\n",
    "plt.xlabel('False Positive Rate')\n",
    "plt.ylabel('True Positive Rate')\n",
    "plt.title('Receiver operating characteristic')\n",
    "plt.legend(loc=\"lower right\")\n",
    "plt.savefig('Log_ROC')\n",
    "plt.show()"
   ]
  },
  {
   "cell_type": "code",
   "execution_count": 1473,
   "metadata": {},
   "outputs": [
    {
     "data": {
      "text/plain": [
       "(0.9269628034730222, 0.9310240733345038)"
      ]
     },
     "execution_count": 1473,
     "metadata": {},
     "output_type": "execute_result"
    }
   ],
   "source": [
    "norm_roc_auc, res_roc_auc"
   ]
  },
  {
   "cell_type": "code",
   "execution_count": 1489,
   "metadata": {},
   "outputs": [
    {
     "name": "stdout",
     "output_type": "stream",
     "text": [
      "Optimization terminated successfully.\n",
      "         Current function value: 0.208395\n",
      "         Iterations 10\n",
      "                           Logit Regression Results                           \n",
      "==============================================================================\n",
      "Dep. Variable:                      y   No. Observations:                28831\n",
      "Model:                          Logit   Df Residuals:                    28799\n",
      "Method:                           MLE   Df Model:                           31\n",
      "Date:                Wed, 02 Jan 2019   Pseudo R-squ.:                  0.4044\n",
      "Time:                        15:36:38   Log-Likelihood:                -6008.2\n",
      "converged:                       True   LL-Null:                       -10087.\n",
      "                                        LLR p-value:                     0.000\n",
      "====================================================================================\n",
      "                       coef    std err          z      P>|z|      [0.025      0.975]\n",
      "------------------------------------------------------------------------------------\n",
      "age                 -0.0420      0.154     -0.272      0.786      -0.345       0.261\n",
      "marital              0.1714      0.130      1.314      0.189      -0.084       0.427\n",
      "education            0.1668      0.106      1.568      0.117      -0.042       0.375\n",
      "default             -0.7190      0.161     -4.479      0.000      -1.034      -0.404\n",
      "housing             -0.0064      0.049     -0.130      0.897      -0.103       0.090\n",
      "loan                -0.0630      0.068     -0.931      0.352      -0.196       0.070\n",
      "contact             -0.6128      0.083     -7.373      0.000      -0.776      -0.450\n",
      "month               -0.6724      0.127     -5.289      0.000      -0.922      -0.423\n",
      "day_of_week          0.0749      0.069      1.089      0.276      -0.060       0.210\n",
      "duration            19.5979      0.372     52.723      0.000      18.869      20.326\n",
      "campaign            -1.9726      1.433     -1.377      0.169      -4.781       0.836\n",
      "pdays              -42.2764     19.220     -2.200      0.028     -79.948      -4.605\n",
      "previous            -0.3586      0.324     -1.106      0.269      -0.994       0.277\n",
      "poutcome             0.9281      0.137      6.795      0.000       0.660       1.196\n",
      "emp.var.rate        -6.8484      0.458    -14.954      0.000      -7.746      -5.951\n",
      "cons.price.idx       0.3875      0.351      1.105      0.269      -0.300       1.075\n",
      "cons.conf.idx       -0.2712      0.196     -1.387      0.165      -0.655       0.112\n",
      "euribor3m            7.6738      0.733     10.464      0.000       6.236       9.111\n",
      "nr.employed         -6.0511      0.538    -11.256      0.000      -7.105      -4.997\n",
      "admin.              42.5503     19.240      2.212      0.027       4.841      80.259\n",
      "blue-collar         42.1697     19.239      2.192      0.028       4.462      79.877\n",
      "entrepreneur        42.4584     19.241      2.207      0.027       4.747      80.170\n",
      "housemaid           42.5586     19.238      2.212      0.027       4.852      80.265\n",
      "management          42.3649     19.239      2.202      0.028       4.658      80.072\n",
      "retired             42.9331     19.241      2.231      0.026       5.222      80.644\n",
      "self-employed       42.3112     19.239      2.199      0.028       4.604      80.018\n",
      "services            42.1453     19.239      2.191      0.028       4.438      79.852\n",
      "student             42.8065     19.242      2.225      0.026       5.093      80.520\n",
      "technician          42.5217     19.240      2.210      0.027       4.811      80.232\n",
      "unemployed          42.6008     19.239      2.214      0.027       4.893      80.309\n",
      "unknown             42.5729     19.239      2.213      0.027       4.865      80.281\n",
      "previous_contact   -40.9936     19.086     -2.148      0.032     -78.401      -3.586\n",
      "====================================================================================\n"
     ]
    }
   ],
   "source": [
    "# Statistical logistic model\n",
    "\n",
    "import statsmodels.api as sm\n",
    "from scipy import stats\n",
    "stats.chisqprob = lambda chisq, df: stats.chi2.sf(chisq, df)\n",
    "\n",
    "logit_model=sm.Logit(y_train,X_train)\n",
    "result=logit_model.fit()\n",
    "print(result.summary(xname=list(X_df_2.columns)))"
   ]
  },
  {
   "cell_type": "code",
   "execution_count": 1497,
   "metadata": {},
   "outputs": [
    {
     "data": {
      "text/plain": [
       "PolynomialFeatures(degree=2, include_bias=True, interaction_only=False)"
      ]
     },
     "execution_count": 1497,
     "metadata": {},
     "output_type": "execute_result"
    }
   ],
   "source": [
    "# Polynomial features\n",
    "\n",
    "from sklearn.preprocessing import PolynomialFeatures\n",
    "\n",
    "poly = PolynomialFeatures(2)\n",
    "poly_feats = poly.fit(X_df_2)\n",
    "poly_feats_train = poly_feats.transform(X_df_2)\n",
    "\n",
    "poly_feats"
   ]
  },
  {
   "cell_type": "code",
   "execution_count": 1499,
   "metadata": {},
   "outputs": [
    {
     "data": {
      "text/plain": [
       "['1',\n",
       " 'age',\n",
       " 'marital',\n",
       " 'education',\n",
       " 'default',\n",
       " 'housing',\n",
       " 'loan',\n",
       " 'contact',\n",
       " 'month',\n",
       " 'day_of_week',\n",
       " 'duration',\n",
       " 'campaign',\n",
       " 'pdays',\n",
       " 'previous',\n",
       " 'poutcome',\n",
       " 'emp.var.rate',\n",
       " 'cons.price.idx',\n",
       " 'cons.conf.idx',\n",
       " 'euribor3m',\n",
       " 'nr.employed',\n",
       " 'admin.',\n",
       " 'blue-collar',\n",
       " 'entrepreneur',\n",
       " 'housemaid',\n",
       " 'management',\n",
       " 'retired',\n",
       " 'self-employed',\n",
       " 'services',\n",
       " 'student',\n",
       " 'technician',\n",
       " 'unemployed',\n",
       " 'unknown',\n",
       " 'previous_contact',\n",
       " 'age^2',\n",
       " 'age marital',\n",
       " 'age education',\n",
       " 'age default',\n",
       " 'age housing',\n",
       " 'age loan',\n",
       " 'age contact',\n",
       " 'age month',\n",
       " 'age day_of_week',\n",
       " 'age duration',\n",
       " 'age campaign',\n",
       " 'age pdays',\n",
       " 'age previous',\n",
       " 'age poutcome',\n",
       " 'age emp.var.rate',\n",
       " 'age cons.price.idx',\n",
       " 'age cons.conf.idx',\n",
       " 'age euribor3m',\n",
       " 'age nr.employed',\n",
       " 'age admin.',\n",
       " 'age blue-collar',\n",
       " 'age entrepreneur',\n",
       " 'age housemaid',\n",
       " 'age management',\n",
       " 'age retired',\n",
       " 'age self-employed',\n",
       " 'age services',\n",
       " 'age student',\n",
       " 'age technician',\n",
       " 'age unemployed',\n",
       " 'age unknown',\n",
       " 'age previous_contact',\n",
       " 'marital^2',\n",
       " 'marital education',\n",
       " 'marital default',\n",
       " 'marital housing',\n",
       " 'marital loan',\n",
       " 'marital contact',\n",
       " 'marital month',\n",
       " 'marital day_of_week',\n",
       " 'marital duration',\n",
       " 'marital campaign',\n",
       " 'marital pdays',\n",
       " 'marital previous',\n",
       " 'marital poutcome',\n",
       " 'marital emp.var.rate',\n",
       " 'marital cons.price.idx',\n",
       " 'marital cons.conf.idx',\n",
       " 'marital euribor3m',\n",
       " 'marital nr.employed',\n",
       " 'marital admin.',\n",
       " 'marital blue-collar',\n",
       " 'marital entrepreneur',\n",
       " 'marital housemaid',\n",
       " 'marital management',\n",
       " 'marital retired',\n",
       " 'marital self-employed',\n",
       " 'marital services',\n",
       " 'marital student',\n",
       " 'marital technician',\n",
       " 'marital unemployed',\n",
       " 'marital unknown',\n",
       " 'marital previous_contact',\n",
       " 'education^2',\n",
       " 'education default',\n",
       " 'education housing',\n",
       " 'education loan',\n",
       " 'education contact',\n",
       " 'education month',\n",
       " 'education day_of_week',\n",
       " 'education duration',\n",
       " 'education campaign',\n",
       " 'education pdays',\n",
       " 'education previous',\n",
       " 'education poutcome',\n",
       " 'education emp.var.rate',\n",
       " 'education cons.price.idx',\n",
       " 'education cons.conf.idx',\n",
       " 'education euribor3m',\n",
       " 'education nr.employed',\n",
       " 'education admin.',\n",
       " 'education blue-collar',\n",
       " 'education entrepreneur',\n",
       " 'education housemaid',\n",
       " 'education management',\n",
       " 'education retired',\n",
       " 'education self-employed',\n",
       " 'education services',\n",
       " 'education student',\n",
       " 'education technician',\n",
       " 'education unemployed',\n",
       " 'education unknown',\n",
       " 'education previous_contact',\n",
       " 'default^2',\n",
       " 'default housing',\n",
       " 'default loan',\n",
       " 'default contact',\n",
       " 'default month',\n",
       " 'default day_of_week',\n",
       " 'default duration',\n",
       " 'default campaign',\n",
       " 'default pdays',\n",
       " 'default previous',\n",
       " 'default poutcome',\n",
       " 'default emp.var.rate',\n",
       " 'default cons.price.idx',\n",
       " 'default cons.conf.idx',\n",
       " 'default euribor3m',\n",
       " 'default nr.employed',\n",
       " 'default admin.',\n",
       " 'default blue-collar',\n",
       " 'default entrepreneur',\n",
       " 'default housemaid',\n",
       " 'default management',\n",
       " 'default retired',\n",
       " 'default self-employed',\n",
       " 'default services',\n",
       " 'default student',\n",
       " 'default technician',\n",
       " 'default unemployed',\n",
       " 'default unknown',\n",
       " 'default previous_contact',\n",
       " 'housing^2',\n",
       " 'housing loan',\n",
       " 'housing contact',\n",
       " 'housing month',\n",
       " 'housing day_of_week',\n",
       " 'housing duration',\n",
       " 'housing campaign',\n",
       " 'housing pdays',\n",
       " 'housing previous',\n",
       " 'housing poutcome',\n",
       " 'housing emp.var.rate',\n",
       " 'housing cons.price.idx',\n",
       " 'housing cons.conf.idx',\n",
       " 'housing euribor3m',\n",
       " 'housing nr.employed',\n",
       " 'housing admin.',\n",
       " 'housing blue-collar',\n",
       " 'housing entrepreneur',\n",
       " 'housing housemaid',\n",
       " 'housing management',\n",
       " 'housing retired',\n",
       " 'housing self-employed',\n",
       " 'housing services',\n",
       " 'housing student',\n",
       " 'housing technician',\n",
       " 'housing unemployed',\n",
       " 'housing unknown',\n",
       " 'housing previous_contact',\n",
       " 'loan^2',\n",
       " 'loan contact',\n",
       " 'loan month',\n",
       " 'loan day_of_week',\n",
       " 'loan duration',\n",
       " 'loan campaign',\n",
       " 'loan pdays',\n",
       " 'loan previous',\n",
       " 'loan poutcome',\n",
       " 'loan emp.var.rate',\n",
       " 'loan cons.price.idx',\n",
       " 'loan cons.conf.idx',\n",
       " 'loan euribor3m',\n",
       " 'loan nr.employed',\n",
       " 'loan admin.',\n",
       " 'loan blue-collar',\n",
       " 'loan entrepreneur',\n",
       " 'loan housemaid',\n",
       " 'loan management',\n",
       " 'loan retired',\n",
       " 'loan self-employed',\n",
       " 'loan services',\n",
       " 'loan student',\n",
       " 'loan technician',\n",
       " 'loan unemployed',\n",
       " 'loan unknown',\n",
       " 'loan previous_contact',\n",
       " 'contact^2',\n",
       " 'contact month',\n",
       " 'contact day_of_week',\n",
       " 'contact duration',\n",
       " 'contact campaign',\n",
       " 'contact pdays',\n",
       " 'contact previous',\n",
       " 'contact poutcome',\n",
       " 'contact emp.var.rate',\n",
       " 'contact cons.price.idx',\n",
       " 'contact cons.conf.idx',\n",
       " 'contact euribor3m',\n",
       " 'contact nr.employed',\n",
       " 'contact admin.',\n",
       " 'contact blue-collar',\n",
       " 'contact entrepreneur',\n",
       " 'contact housemaid',\n",
       " 'contact management',\n",
       " 'contact retired',\n",
       " 'contact self-employed',\n",
       " 'contact services',\n",
       " 'contact student',\n",
       " 'contact technician',\n",
       " 'contact unemployed',\n",
       " 'contact unknown',\n",
       " 'contact previous_contact',\n",
       " 'month^2',\n",
       " 'month day_of_week',\n",
       " 'month duration',\n",
       " 'month campaign',\n",
       " 'month pdays',\n",
       " 'month previous',\n",
       " 'month poutcome',\n",
       " 'month emp.var.rate',\n",
       " 'month cons.price.idx',\n",
       " 'month cons.conf.idx',\n",
       " 'month euribor3m',\n",
       " 'month nr.employed',\n",
       " 'month admin.',\n",
       " 'month blue-collar',\n",
       " 'month entrepreneur',\n",
       " 'month housemaid',\n",
       " 'month management',\n",
       " 'month retired',\n",
       " 'month self-employed',\n",
       " 'month services',\n",
       " 'month student',\n",
       " 'month technician',\n",
       " 'month unemployed',\n",
       " 'month unknown',\n",
       " 'month previous_contact',\n",
       " 'day_of_week^2',\n",
       " 'day_of_week duration',\n",
       " 'day_of_week campaign',\n",
       " 'day_of_week pdays',\n",
       " 'day_of_week previous',\n",
       " 'day_of_week poutcome',\n",
       " 'day_of_week emp.var.rate',\n",
       " 'day_of_week cons.price.idx',\n",
       " 'day_of_week cons.conf.idx',\n",
       " 'day_of_week euribor3m',\n",
       " 'day_of_week nr.employed',\n",
       " 'day_of_week admin.',\n",
       " 'day_of_week blue-collar',\n",
       " 'day_of_week entrepreneur',\n",
       " 'day_of_week housemaid',\n",
       " 'day_of_week management',\n",
       " 'day_of_week retired',\n",
       " 'day_of_week self-employed',\n",
       " 'day_of_week services',\n",
       " 'day_of_week student',\n",
       " 'day_of_week technician',\n",
       " 'day_of_week unemployed',\n",
       " 'day_of_week unknown',\n",
       " 'day_of_week previous_contact',\n",
       " 'duration^2',\n",
       " 'duration campaign',\n",
       " 'duration pdays',\n",
       " 'duration previous',\n",
       " 'duration poutcome',\n",
       " 'duration emp.var.rate',\n",
       " 'duration cons.price.idx',\n",
       " 'duration cons.conf.idx',\n",
       " 'duration euribor3m',\n",
       " 'duration nr.employed',\n",
       " 'duration admin.',\n",
       " 'duration blue-collar',\n",
       " 'duration entrepreneur',\n",
       " 'duration housemaid',\n",
       " 'duration management',\n",
       " 'duration retired',\n",
       " 'duration self-employed',\n",
       " 'duration services',\n",
       " 'duration student',\n",
       " 'duration technician',\n",
       " 'duration unemployed',\n",
       " 'duration unknown',\n",
       " 'duration previous_contact',\n",
       " 'campaign^2',\n",
       " 'campaign pdays',\n",
       " 'campaign previous',\n",
       " 'campaign poutcome',\n",
       " 'campaign emp.var.rate',\n",
       " 'campaign cons.price.idx',\n",
       " 'campaign cons.conf.idx',\n",
       " 'campaign euribor3m',\n",
       " 'campaign nr.employed',\n",
       " 'campaign admin.',\n",
       " 'campaign blue-collar',\n",
       " 'campaign entrepreneur',\n",
       " 'campaign housemaid',\n",
       " 'campaign management',\n",
       " 'campaign retired',\n",
       " 'campaign self-employed',\n",
       " 'campaign services',\n",
       " 'campaign student',\n",
       " 'campaign technician',\n",
       " 'campaign unemployed',\n",
       " 'campaign unknown',\n",
       " 'campaign previous_contact',\n",
       " 'pdays^2',\n",
       " 'pdays previous',\n",
       " 'pdays poutcome',\n",
       " 'pdays emp.var.rate',\n",
       " 'pdays cons.price.idx',\n",
       " 'pdays cons.conf.idx',\n",
       " 'pdays euribor3m',\n",
       " 'pdays nr.employed',\n",
       " 'pdays admin.',\n",
       " 'pdays blue-collar',\n",
       " 'pdays entrepreneur',\n",
       " 'pdays housemaid',\n",
       " 'pdays management',\n",
       " 'pdays retired',\n",
       " 'pdays self-employed',\n",
       " 'pdays services',\n",
       " 'pdays student',\n",
       " 'pdays technician',\n",
       " 'pdays unemployed',\n",
       " 'pdays unknown',\n",
       " 'pdays previous_contact',\n",
       " 'previous^2',\n",
       " 'previous poutcome',\n",
       " 'previous emp.var.rate',\n",
       " 'previous cons.price.idx',\n",
       " 'previous cons.conf.idx',\n",
       " 'previous euribor3m',\n",
       " 'previous nr.employed',\n",
       " 'previous admin.',\n",
       " 'previous blue-collar',\n",
       " 'previous entrepreneur',\n",
       " 'previous housemaid',\n",
       " 'previous management',\n",
       " 'previous retired',\n",
       " 'previous self-employed',\n",
       " 'previous services',\n",
       " 'previous student',\n",
       " 'previous technician',\n",
       " 'previous unemployed',\n",
       " 'previous unknown',\n",
       " 'previous previous_contact',\n",
       " 'poutcome^2',\n",
       " 'poutcome emp.var.rate',\n",
       " 'poutcome cons.price.idx',\n",
       " 'poutcome cons.conf.idx',\n",
       " 'poutcome euribor3m',\n",
       " 'poutcome nr.employed',\n",
       " 'poutcome admin.',\n",
       " 'poutcome blue-collar',\n",
       " 'poutcome entrepreneur',\n",
       " 'poutcome housemaid',\n",
       " 'poutcome management',\n",
       " 'poutcome retired',\n",
       " 'poutcome self-employed',\n",
       " 'poutcome services',\n",
       " 'poutcome student',\n",
       " 'poutcome technician',\n",
       " 'poutcome unemployed',\n",
       " 'poutcome unknown',\n",
       " 'poutcome previous_contact',\n",
       " 'emp.var.rate^2',\n",
       " 'emp.var.rate cons.price.idx',\n",
       " 'emp.var.rate cons.conf.idx',\n",
       " 'emp.var.rate euribor3m',\n",
       " 'emp.var.rate nr.employed',\n",
       " 'emp.var.rate admin.',\n",
       " 'emp.var.rate blue-collar',\n",
       " 'emp.var.rate entrepreneur',\n",
       " 'emp.var.rate housemaid',\n",
       " 'emp.var.rate management',\n",
       " 'emp.var.rate retired',\n",
       " 'emp.var.rate self-employed',\n",
       " 'emp.var.rate services',\n",
       " 'emp.var.rate student',\n",
       " 'emp.var.rate technician',\n",
       " 'emp.var.rate unemployed',\n",
       " 'emp.var.rate unknown',\n",
       " 'emp.var.rate previous_contact',\n",
       " 'cons.price.idx^2',\n",
       " 'cons.price.idx cons.conf.idx',\n",
       " 'cons.price.idx euribor3m',\n",
       " 'cons.price.idx nr.employed',\n",
       " 'cons.price.idx admin.',\n",
       " 'cons.price.idx blue-collar',\n",
       " 'cons.price.idx entrepreneur',\n",
       " 'cons.price.idx housemaid',\n",
       " 'cons.price.idx management',\n",
       " 'cons.price.idx retired',\n",
       " 'cons.price.idx self-employed',\n",
       " 'cons.price.idx services',\n",
       " 'cons.price.idx student',\n",
       " 'cons.price.idx technician',\n",
       " 'cons.price.idx unemployed',\n",
       " 'cons.price.idx unknown',\n",
       " 'cons.price.idx previous_contact',\n",
       " 'cons.conf.idx^2',\n",
       " 'cons.conf.idx euribor3m',\n",
       " 'cons.conf.idx nr.employed',\n",
       " 'cons.conf.idx admin.',\n",
       " 'cons.conf.idx blue-collar',\n",
       " 'cons.conf.idx entrepreneur',\n",
       " 'cons.conf.idx housemaid',\n",
       " 'cons.conf.idx management',\n",
       " 'cons.conf.idx retired',\n",
       " 'cons.conf.idx self-employed',\n",
       " 'cons.conf.idx services',\n",
       " 'cons.conf.idx student',\n",
       " 'cons.conf.idx technician',\n",
       " 'cons.conf.idx unemployed',\n",
       " 'cons.conf.idx unknown',\n",
       " 'cons.conf.idx previous_contact',\n",
       " 'euribor3m^2',\n",
       " 'euribor3m nr.employed',\n",
       " 'euribor3m admin.',\n",
       " 'euribor3m blue-collar',\n",
       " 'euribor3m entrepreneur',\n",
       " 'euribor3m housemaid',\n",
       " 'euribor3m management',\n",
       " 'euribor3m retired',\n",
       " 'euribor3m self-employed',\n",
       " 'euribor3m services',\n",
       " 'euribor3m student',\n",
       " 'euribor3m technician',\n",
       " 'euribor3m unemployed',\n",
       " 'euribor3m unknown',\n",
       " 'euribor3m previous_contact',\n",
       " 'nr.employed^2',\n",
       " 'nr.employed admin.',\n",
       " 'nr.employed blue-collar',\n",
       " 'nr.employed entrepreneur',\n",
       " 'nr.employed housemaid',\n",
       " 'nr.employed management',\n",
       " 'nr.employed retired',\n",
       " 'nr.employed self-employed',\n",
       " 'nr.employed services',\n",
       " 'nr.employed student',\n",
       " 'nr.employed technician',\n",
       " 'nr.employed unemployed',\n",
       " 'nr.employed unknown',\n",
       " 'nr.employed previous_contact',\n",
       " 'admin.^2',\n",
       " 'admin. blue-collar',\n",
       " 'admin. entrepreneur',\n",
       " 'admin. housemaid',\n",
       " 'admin. management',\n",
       " 'admin. retired',\n",
       " 'admin. self-employed',\n",
       " 'admin. services',\n",
       " 'admin. student',\n",
       " 'admin. technician',\n",
       " 'admin. unemployed',\n",
       " 'admin. unknown',\n",
       " 'admin. previous_contact',\n",
       " 'blue-collar^2',\n",
       " 'blue-collar entrepreneur',\n",
       " 'blue-collar housemaid',\n",
       " 'blue-collar management',\n",
       " 'blue-collar retired',\n",
       " 'blue-collar self-employed',\n",
       " 'blue-collar services',\n",
       " 'blue-collar student',\n",
       " 'blue-collar technician',\n",
       " 'blue-collar unemployed',\n",
       " 'blue-collar unknown',\n",
       " 'blue-collar previous_contact',\n",
       " 'entrepreneur^2',\n",
       " 'entrepreneur housemaid',\n",
       " 'entrepreneur management',\n",
       " 'entrepreneur retired',\n",
       " 'entrepreneur self-employed',\n",
       " 'entrepreneur services',\n",
       " 'entrepreneur student',\n",
       " 'entrepreneur technician',\n",
       " 'entrepreneur unemployed',\n",
       " 'entrepreneur unknown',\n",
       " 'entrepreneur previous_contact',\n",
       " 'housemaid^2',\n",
       " 'housemaid management',\n",
       " 'housemaid retired',\n",
       " 'housemaid self-employed',\n",
       " 'housemaid services',\n",
       " 'housemaid student',\n",
       " 'housemaid technician',\n",
       " 'housemaid unemployed',\n",
       " 'housemaid unknown',\n",
       " 'housemaid previous_contact',\n",
       " 'management^2',\n",
       " 'management retired',\n",
       " 'management self-employed',\n",
       " 'management services',\n",
       " 'management student',\n",
       " 'management technician',\n",
       " 'management unemployed',\n",
       " 'management unknown',\n",
       " 'management previous_contact',\n",
       " 'retired^2',\n",
       " 'retired self-employed',\n",
       " 'retired services',\n",
       " 'retired student',\n",
       " 'retired technician',\n",
       " 'retired unemployed',\n",
       " 'retired unknown',\n",
       " 'retired previous_contact',\n",
       " 'self-employed^2',\n",
       " 'self-employed services',\n",
       " 'self-employed student',\n",
       " 'self-employed technician',\n",
       " 'self-employed unemployed',\n",
       " 'self-employed unknown',\n",
       " 'self-employed previous_contact',\n",
       " 'services^2',\n",
       " 'services student',\n",
       " 'services technician',\n",
       " 'services unemployed',\n",
       " 'services unknown',\n",
       " 'services previous_contact',\n",
       " 'student^2',\n",
       " 'student technician',\n",
       " 'student unemployed',\n",
       " 'student unknown',\n",
       " 'student previous_contact',\n",
       " 'technician^2',\n",
       " 'technician unemployed',\n",
       " 'technician unknown',\n",
       " 'technician previous_contact',\n",
       " 'unemployed^2',\n",
       " 'unemployed unknown',\n",
       " 'unemployed previous_contact',\n",
       " 'unknown^2',\n",
       " 'unknown previous_contact',\n",
       " 'previous_contact^2']"
      ]
     },
     "execution_count": 1499,
     "metadata": {},
     "output_type": "execute_result"
    }
   ],
   "source": [
    "poly_feats.get_feature_names(input_features=X_df_2.columns)"
   ]
  },
  {
   "cell_type": "code",
   "execution_count": 1501,
   "metadata": {},
   "outputs": [
    {
     "ename": "AttributeError",
     "evalue": "'numpy.ndarray' object has no attribute 'head'",
     "output_type": "error",
     "traceback": [
      "\u001b[0;31m---------------------------------------------------------------------------\u001b[0m",
      "\u001b[0;31mAttributeError\u001b[0m                            Traceback (most recent call last)",
      "\u001b[0;32m<ipython-input-1501-d87eaec58e75>\u001b[0m in \u001b[0;36m<module>\u001b[0;34m()\u001b[0m\n\u001b[0;32m----> 1\u001b[0;31m \u001b[0mpoly_feats_train\u001b[0m\u001b[0;34m.\u001b[0m\u001b[0mhead\u001b[0m\u001b[0;34m(\u001b[0m\u001b[0;34m)\u001b[0m\u001b[0;34m\u001b[0m\u001b[0m\n\u001b[0m",
      "\u001b[0;31mAttributeError\u001b[0m: 'numpy.ndarray' object has no attribute 'head'"
     ]
    }
   ],
   "source": [
    "poly_feats_train.head()"
   ]
  },
  {
   "cell_type": "markdown",
   "metadata": {},
   "source": [
    "## Random Forest Implementation"
   ]
  },
  {
   "cell_type": "code",
   "execution_count": null,
   "metadata": {},
   "outputs": [],
   "source": []
  },
  {
   "cell_type": "code",
   "execution_count": null,
   "metadata": {},
   "outputs": [],
   "source": []
  },
  {
   "cell_type": "code",
   "execution_count": 1472,
   "metadata": {},
   "outputs": [
    {
     "ename": "NameError",
     "evalue": "name 'cross_val_score' is not defined",
     "output_type": "error",
     "traceback": [
      "\u001b[0;31m---------------------------------------------------------------------------\u001b[0m",
      "\u001b[0;31mNameError\u001b[0m                                 Traceback (most recent call last)",
      "\u001b[0;32m<ipython-input-1472-dea06b072334>\u001b[0m in \u001b[0;36m<module>\u001b[0;34m()\u001b[0m\n\u001b[1;32m      1\u001b[0m \u001b[0;34m\u001b[0m\u001b[0m\n\u001b[0;32m----> 2\u001b[0;31m \u001b[0mcross_val_score\u001b[0m\u001b[0;34m(\u001b[0m\u001b[0mlogit_model\u001b[0m\u001b[0;34m,\u001b[0m \u001b[0mX_train\u001b[0m\u001b[0;34m,\u001b[0m \u001b[0my_train\u001b[0m\u001b[0;34m,\u001b[0m \u001b[0mcv\u001b[0m\u001b[0;34m=\u001b[0m\u001b[0mk_fold\u001b[0m\u001b[0;34m,\u001b[0m \u001b[0mn_jobs\u001b[0m\u001b[0;34m=\u001b[0m\u001b[0;36m1\u001b[0m\u001b[0;34m,\u001b[0m \u001b[0mscoring\u001b[0m \u001b[0;34m=\u001b[0m \u001b[0;34m'accuracy'\u001b[0m\u001b[0;34m)\u001b[0m\u001b[0;34m.\u001b[0m\u001b[0mmean\u001b[0m\u001b[0;34m(\u001b[0m\u001b[0;34m)\u001b[0m\u001b[0;34m\u001b[0m\u001b[0m\n\u001b[0m",
      "\u001b[0;31mNameError\u001b[0m: name 'cross_val_score' is not defined"
     ]
    }
   ],
   "source": [
    "\n",
    "cross_val_score(logit_model, X_train, y_train, cv=k_fold, n_jobs=1, scoring = 'accuracy').mean()"
   ]
  },
  {
   "cell_type": "code",
   "execution_count": null,
   "metadata": {},
   "outputs": [],
   "source": []
  }
 ],
 "metadata": {
  "kernelspec": {
   "display_name": "Python 3",
   "language": "python",
   "name": "python3"
  },
  "language_info": {
   "codemirror_mode": {
    "name": "ipython",
    "version": 3
   },
   "file_extension": ".py",
   "mimetype": "text/x-python",
   "name": "python",
   "nbconvert_exporter": "python",
   "pygments_lexer": "ipython3",
   "version": "3.6.6"
  }
 },
 "nbformat": 4,
 "nbformat_minor": 2
}
